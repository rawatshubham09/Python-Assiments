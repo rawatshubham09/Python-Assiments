{
 "cells": [
  {
   "cell_type": "markdown",
   "id": "13de226d",
   "metadata": {},
   "source": [
    "# Assignment 24"
   ]
  },
  {
   "cell_type": "markdown",
   "id": "1b64778b",
   "metadata": {},
   "source": [
    "- Create a function that takes an integer and returns a list from 1 to the given number, where:\n",
    "            If the number can be divided evenly by 4, amplify it by 10 (i.e. return 10 times the number).\n",
    "            If the number cannot be divided evenly by 4, simply return the number.\n"
   ]
  },
  {
   "cell_type": "code",
   "execution_count": 4,
   "id": "f1299827",
   "metadata": {},
   "outputs": [],
   "source": [
    "# This function  will return list of number and amplify multiple of 4\n",
    "def amplify(n):\n",
    "    a = [0 for i in range(n)]\n",
    "    for i in range(1,n+1):\n",
    "        if i%4==0:\n",
    "            a[i-1] = i*10\n",
    "        else:\n",
    "            a[i-1] = i\n",
    "    return a"
   ]
  },
  {
   "cell_type": "code",
   "execution_count": 3,
   "id": "0f6beefa",
   "metadata": {},
   "outputs": [
    {
     "name": "stdout",
     "output_type": "stream",
     "text": [
      "5   --->   [1, 2, 3, 40, 5]\n",
      "10   --->   [1, 2, 3, 40, 5, 6, 7, 80, 9, 10]\n",
      "15   --->   [1, 2, 3, 40, 5, 6, 7, 80, 9, 10, 11, 120, 13, 14, 15]\n",
      "20   --->   [1, 2, 3, 40, 5, 6, 7, 80, 9, 10, 11, 120, 13, 14, 15, 160, 17, 18, 19, 200]\n",
      "25   --->   [1, 2, 3, 40, 5, 6, 7, 80, 9, 10, 11, 120, 13, 14, 15, 160, 17, 18, 19, 200, 21, 22, 23, 240, 25]\n"
     ]
    }
   ],
   "source": [
    "test = [5,10,15,20,25]\n",
    "for n in test:\n",
    "    print(n, \"  --->  \", amplify(n))"
   ]
  },
  {
   "cell_type": "markdown",
   "id": "c9176530",
   "metadata": {},
   "source": [
    "- Create a function that takes a list of numbers and return the number that's unique."
   ]
  },
  {
   "cell_type": "code",
   "execution_count": 16,
   "id": "c02cee0c",
   "metadata": {},
   "outputs": [],
   "source": [
    "def unique(lis):\n",
    "    s = list(set(lis))\n",
    "    return s[0] if lis.count(s[0])==1 else s[1]"
   ]
  },
  {
   "cell_type": "code",
   "execution_count": 18,
   "id": "33af26f0",
   "metadata": {},
   "outputs": [
    {
     "name": "stdout",
     "output_type": "stream",
     "text": [
      "[1, 1, 1, 1, 2, 1, 1, 1, 1]  Unique in this list :-  2\n",
      "[0, 0, 0, 0.77, 0, 0]  Unique in this list :-  0.77\n",
      "[7, 3, 3, 3, 3, 3]  Unique in this list :-  7\n",
      "['a', 'a', 'a', 'b', 'a', 'a']  Unique in this list :-  b\n"
     ]
    }
   ],
   "source": [
    "test = [[1,1,1,1,2,1,1,1,1], [0,0,0,0.77,0,0],[7,3,3,3,3,3],[\"a\",\"a\",\"a\",\"b\",\"a\",\"a\"]]\n",
    "for i in test:\n",
    "    print(i, \" Unique in this list :- \", unique(i))"
   ]
  },
  {
   "cell_type": "markdown",
   "id": "1d241338",
   "metadata": {},
   "source": [
    "- Your task is to create a Circle constructor that creates a circle with a radius provided by an argument. The circles constructed must have two getters getArea() (PIr^2) and getPerimeter() (2PI*r) which give both respective areas and perimeter (circumference)."
   ]
  },
  {
   "cell_type": "code",
   "execution_count": 5,
   "id": "1b8eece9",
   "metadata": {},
   "outputs": [],
   "source": [
    "# This class will take one input(radius) and return Area and Perimeter when called\n",
    "class Circle:\n",
    "    def __init__(self, r):\n",
    "        self.r = r\n",
    "    def getArea(self):\n",
    "        area = (22/7)*self.r*self.r\n",
    "        return area\n",
    "    def getPerimeter(self):\n",
    "        peri = (22/7)*2*self.r\n",
    "        return peri"
   ]
  },
  {
   "cell_type": "code",
   "execution_count": 7,
   "id": "5ac06791",
   "metadata": {},
   "outputs": [
    {
     "name": "stdout",
     "output_type": "stream",
     "text": [
      "Circle Area =  380.2857142857143 m*m\n",
      "Perimeter of Circle =  69.14285714285714 m\n"
     ]
    }
   ],
   "source": [
    "cir = Circle(11)\n",
    "print(\"Circle Area = \",cir.getArea(), \"m*m\")\n",
    "print(\"Perimeter of Circle = \",cir.getPerimeter(), \"m\")"
   ]
  },
  {
   "cell_type": "markdown",
   "id": "9bcddfeb",
   "metadata": {},
   "source": [
    "- Create a function that takes a list of strings and return a list, sorted from shortest to longest."
   ]
  },
  {
   "cell_type": "code",
   "execution_count": 15,
   "id": "9dc82eaa",
   "metadata": {},
   "outputs": [],
   "source": [
    "# Using Bubble sorting method\n",
    "def sort_by_length(lis):\n",
    "    for i in range(len(lis)-1):\n",
    "        for j in range(i+1, len(lis)):\n",
    "            if len(lis[i])> len(lis[j]):\n",
    "                lis[i],lis[j]=lis[j],lis[i]\n",
    "    return lis"
   ]
  },
  {
   "cell_type": "code",
   "execution_count": 14,
   "id": "770c05d7",
   "metadata": {},
   "outputs": [
    {
     "name": "stdout",
     "output_type": "stream",
     "text": [
      "['Apple', 'Google', 'Microsoft']  --- sorted  ---->  ['Apple', 'Google', 'Microsoft']\n",
      "['Raphael', 'Leonardo', 'Donatello', 'Michelangelo']  --- sorted  ---->  ['Raphael', 'Leonardo', 'Donatello', 'Michelangelo']\n",
      "['Jung', 'Turing', 'Einstein']  --- sorted  ---->  ['Jung', 'Turing', 'Einstein']\n"
     ]
    }
   ],
   "source": [
    "test = [[\"Google\", \"Apple\", \"Microsoft\"], [\"Leonardo\", \"Michelangelo\", \"Raphael\", \"Donatello\"], \n",
    "        [\"Turing\", \"Einstein\", \"Jung\"]]\n",
    "for i in test:\n",
    "    print(i, \" --- sorted  ----> \", sort_by_length(i))"
   ]
  },
  {
   "cell_type": "markdown",
   "id": "a44cbdd1",
   "metadata": {},
   "source": [
    "- Create a function that validates whether three given integers form a Pythagorean triplet. The sum of the squares of the two smallest integers must equal the square of the largest number to be validated."
   ]
  },
  {
   "cell_type": "code",
   "execution_count": 8,
   "id": "55ff32b0",
   "metadata": {},
   "outputs": [],
   "source": [
    "def is_triplet(a, b, c):\n",
    "    lis = [a**2, b**2, c**2]\n",
    "    if (lis[0] + lis[1] == lis[2]) or (lis[2] + lis[1] == lis[0]) or (lis[0] + lis[2] == lis[1]):\n",
    "        return True\n",
    "    return False"
   ]
  },
  {
   "cell_type": "code",
   "execution_count": 10,
   "id": "def63322",
   "metadata": {},
   "outputs": [
    {
     "name": "stdout",
     "output_type": "stream",
     "text": [
      "3 4 5  is triplet :  True\n",
      "13 5 12  is triplet :  True\n",
      "1 2 3  is triplet :  False\n"
     ]
    }
   ],
   "source": [
    "test = [[3,4,5], [13,5,12],[1,2,3]]\n",
    "for a,b,c in test :\n",
    "    print(a,b,c,\" is triplet : \", is_triplet(a,b,c))"
   ]
  }
 ],
 "metadata": {
  "kernelspec": {
   "display_name": "Python 3 (ipykernel)",
   "language": "python",
   "name": "python3"
  },
  "language_info": {
   "codemirror_mode": {
    "name": "ipython",
    "version": 3
   },
   "file_extension": ".py",
   "mimetype": "text/x-python",
   "name": "python",
   "nbconvert_exporter": "python",
   "pygments_lexer": "ipython3",
   "version": "3.9.7"
  }
 },
 "nbformat": 4,
 "nbformat_minor": 5
}
