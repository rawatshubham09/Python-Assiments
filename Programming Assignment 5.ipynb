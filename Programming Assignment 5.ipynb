{
 "cells": [
  {
   "cell_type": "markdown",
   "id": "7f4359c6",
   "metadata": {},
   "source": [
    "# Assignment 5"
   ]
  },
  {
   "cell_type": "markdown",
   "id": "d6e4d04b",
   "metadata": {},
   "source": [
    "- Write a program to find HCF"
   ]
  },
  {
   "cell_type": "code",
   "execution_count": 8,
   "id": "3317dcd0",
   "metadata": {},
   "outputs": [],
   "source": [
    "def HCF(x,y):\n",
    "    if (y==0):\n",
    "        return x\n",
    "    return HCF(y, x%y)"
   ]
  },
  {
   "cell_type": "markdown",
   "id": "8698ba16",
   "metadata": {},
   "source": [
    "- Write a program to find LCM"
   ]
  },
  {
   "cell_type": "code",
   "execution_count": 2,
   "id": "b777ff43",
   "metadata": {},
   "outputs": [],
   "source": [
    "def LCM(x,y):\n",
    "    prod = x*y\n",
    "    return prod/HCF(x,y)"
   ]
  },
  {
   "cell_type": "markdown",
   "id": "ff574cf5",
   "metadata": {},
   "source": [
    "- Write a Python Program to Convert Decimal to Binary, Octal and Hexadecimal?"
   ]
  },
  {
   "cell_type": "code",
   "execution_count": 18,
   "id": "b0c311fb",
   "metadata": {},
   "outputs": [],
   "source": [
    "def convert(dec):\n",
    "    print(\"    The decimal value of\",dec,\"is :\")\n",
    "    print(\"    '\",bin(dec),\"' :- in binary.\")\n",
    "    print(\"    '\",oct(dec),\"' :- in octal.\")\n",
    "    print(\"    '\",hex(dec),\"' :- in hexadecimal.\")"
   ]
  },
  {
   "cell_type": "markdown",
   "id": "805776a7",
   "metadata": {},
   "source": [
    "- Write a python Program to Find ASCII value of a character?"
   ]
  },
  {
   "cell_type": "code",
   "execution_count": 4,
   "id": "3a3ae690",
   "metadata": {},
   "outputs": [],
   "source": [
    "#must be string :\n",
    "def ASCII_val(ch):\n",
    "    ch = str(ch)\n",
    "    return ord(ch)"
   ]
  },
  {
   "cell_type": "markdown",
   "id": "092c0abc",
   "metadata": {},
   "source": [
    "- Write a program to make a Simple Calculator with 4 basic mathematical Operations?"
   ]
  },
  {
   "cell_type": "code",
   "execution_count": 24,
   "id": "2fa55635",
   "metadata": {},
   "outputs": [],
   "source": [
    "def calculator(num1, num2):\n",
    "    print(\"Addition of {} and {} is :- \".format(num1,num2), num1+num2)\n",
    "    print(\"Subtraction of {} and {} is :- \".format(num1,num2), num1-num2 if num1>=num2 else num2-num1 )\n",
    "    print(\"Division of {} and {} is :- \".format(num1,num2), num1/num2 if num1>=num2 else num2/num1)\n",
    "    print(\"Multiplication of {} and {} is :- \".format(num1,num2), num1*num2)"
   ]
  },
  {
   "cell_type": "markdown",
   "id": "20445fb8",
   "metadata": {},
   "source": [
    "# Solutions :"
   ]
  },
  {
   "cell_type": "markdown",
   "id": "da24a010",
   "metadata": {},
   "source": [
    "## First :"
   ]
  },
  {
   "cell_type": "code",
   "execution_count": 9,
   "id": "6ff318e2",
   "metadata": {},
   "outputs": [
    {
     "name": "stdout",
     "output_type": "stream",
     "text": [
      "Enter first number : 14\n",
      "Enter second number : 24\n"
     ]
    },
    {
     "data": {
      "text/plain": [
       "2"
      ]
     },
     "execution_count": 9,
     "metadata": {},
     "output_type": "execute_result"
    }
   ],
   "source": [
    "# HCF of two numbers:\n",
    "a = int(input(\"Enter first number : \"))\n",
    "b = int(input(\"Enter second number : \"))\n",
    "HCF(a,b)"
   ]
  },
  {
   "cell_type": "markdown",
   "id": "eb9f71f8",
   "metadata": {},
   "source": [
    "## Second :"
   ]
  },
  {
   "cell_type": "code",
   "execution_count": 10,
   "id": "824538ee",
   "metadata": {},
   "outputs": [
    {
     "name": "stdout",
     "output_type": "stream",
     "text": [
      "Enter first number : 24\n",
      "Enter second number : 34\n"
     ]
    },
    {
     "data": {
      "text/plain": [
       "408.0"
      ]
     },
     "execution_count": 10,
     "metadata": {},
     "output_type": "execute_result"
    }
   ],
   "source": [
    "#LCM of two numbers :\n",
    "a = int(input(\"Enter first number : \"))\n",
    "b = int(input(\"Enter second number : \"))\n",
    "LCM(a,b)"
   ]
  },
  {
   "cell_type": "markdown",
   "id": "faf73821",
   "metadata": {},
   "source": [
    "## Third :"
   ]
  },
  {
   "cell_type": "code",
   "execution_count": 19,
   "id": "3921033f",
   "metadata": {},
   "outputs": [
    {
     "name": "stdout",
     "output_type": "stream",
     "text": [
      "Enter Decimal Number for conversion : 124\n",
      "    The decimal value of 124 is:\n",
      "    ' 0b1111100 ' :- in binary.\n",
      "    ' 0o174 ' :- in octal.\n",
      "    ' 0x7c ' :- in hexadecimal.\n"
     ]
    }
   ],
   "source": [
    "# converson of decimal into Hexa, binary and octa:\n",
    "num = int(input(\"Enter Decimal Number for conversion : \"))\n",
    "convert(num)"
   ]
  },
  {
   "cell_type": "markdown",
   "id": "ee1cb40e",
   "metadata": {},
   "source": [
    "## Forth :"
   ]
  },
  {
   "cell_type": "code",
   "execution_count": 22,
   "id": "f02af91a",
   "metadata": {},
   "outputs": [
    {
     "name": "stdout",
     "output_type": "stream",
     "text": [
      "Enter any Character : ;\n"
     ]
    },
    {
     "data": {
      "text/plain": [
       "59"
      ]
     },
     "execution_count": 22,
     "metadata": {},
     "output_type": "execute_result"
    }
   ],
   "source": [
    "# coversion to Ascii :\n",
    "ch = input(\"Enter any Character : \")\n",
    "ASCII_val(ch)"
   ]
  },
  {
   "cell_type": "markdown",
   "id": "6efc0faf",
   "metadata": {},
   "source": [
    "## Fifth :"
   ]
  },
  {
   "cell_type": "code",
   "execution_count": 27,
   "id": "ad8198d1",
   "metadata": {},
   "outputs": [
    {
     "name": "stdout",
     "output_type": "stream",
     "text": [
      "Enter first number : 25\n",
      "Enter second number : 125\n",
      "\n",
      "Addition of 25 and 125 is :-  150\n",
      "Subtraction of 25 and 125 is :-  100\n",
      "Division of 25 and 125 is :-  5.0\n",
      "Multiplication of 25 and 125 is :-  3125\n"
     ]
    }
   ],
   "source": [
    "# calculating addition, subtraction, division, multiplication :\n",
    "a = int(input(\"Enter first number : \"))\n",
    "b = int(input(\"Enter second number : \"))\n",
    "print()\n",
    "calculator(a, b)"
   ]
  }
 ],
 "metadata": {
  "kernelspec": {
   "display_name": "Python 3 (ipykernel)",
   "language": "python",
   "name": "python3"
  },
  "language_info": {
   "codemirror_mode": {
    "name": "ipython",
    "version": 3
   },
   "file_extension": ".py",
   "mimetype": "text/x-python",
   "name": "python",
   "nbconvert_exporter": "python",
   "pygments_lexer": "ipython3",
   "version": "3.9.7"
  }
 },
 "nbformat": 4,
 "nbformat_minor": 5
}
