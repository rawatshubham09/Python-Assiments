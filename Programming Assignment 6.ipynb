{
 "cells": [
  {
   "cell_type": "markdown",
   "id": "2434a70b",
   "metadata": {},
   "source": [
    "# Assignment 6"
   ]
  },
  {
   "cell_type": "markdown",
   "id": "d009098c",
   "metadata": {},
   "source": [
    "- Write a Python Program to Display Fibonacci Sequence Using Recursion?"
   ]
  },
  {
   "cell_type": "code",
   "execution_count": 17,
   "id": "2ca2e996",
   "metadata": {},
   "outputs": [],
   "source": [
    "# this function return fibonoc number for given place\n",
    "def fib(num):\n",
    "    if num in [0,1]:\n",
    "        return num\n",
    "    return fib(num-1) + fib(num-2)\n",
    "# Print fibnoic series\n",
    "def print_fib(n):\n",
    "    for i in range(n+1):\n",
    "        print(fib(i), end = \", \")"
   ]
  },
  {
   "cell_type": "markdown",
   "id": "ea38d29b",
   "metadata": {},
   "source": [
    "- Write a Python Program to Find Factorial of Number Using Recursion?"
   ]
  },
  {
   "cell_type": "code",
   "execution_count": 1,
   "id": "dde7f651",
   "metadata": {},
   "outputs": [],
   "source": [
    "# this will give factor or any positive intiger using recursion :\n",
    "def fact(num):\n",
    "    if num<2:\n",
    "        return 1\n",
    "    return num*fact(num-1)"
   ]
  },
  {
   "cell_type": "markdown",
   "id": "7522ba71",
   "metadata": {},
   "source": [
    "Program to Calculate Body Mass Index?"
   ]
  },
  {
   "cell_type": "code",
   "execution_count": 6,
   "id": "711eb042",
   "metadata": {},
   "outputs": [],
   "source": [
    "# BMI = Kg/m^2\n",
    "def BMI():\n",
    "    mass = float(input(\"Enter Weight of person in Kg : \"))\n",
    "    hight = float(input(\"Enter Hight of person in m : \"))\n",
    "    print()\n",
    "    print(\"BMI of given values is : \", mass/(hight**2))"
   ]
  },
  {
   "cell_type": "markdown",
   "id": "b68f29f9",
   "metadata": {},
   "source": [
    "Program to Calclate the natural Logarithm of any number?"
   ]
  },
  {
   "cell_type": "code",
   "execution_count": 11,
   "id": "753da6d9",
   "metadata": {},
   "outputs": [],
   "source": [
    "calculating logarithm base 10:\n",
    "import math\n",
    "def log(num):\n",
    "    return math.log(num,10)"
   ]
  },
  {
   "cell_type": "markdown",
   "id": "8e0f0eac",
   "metadata": {},
   "source": [
    "Program for cube sum of first n natural numbers?"
   ]
  },
  {
   "cell_type": "code",
   "execution_count": 15,
   "id": "c530eefa",
   "metadata": {},
   "outputs": [],
   "source": [
    "def calc_cube(num):\n",
    "    a = num**3\n",
    "    b = (num+1)**3\n",
    "    return (a*b)/4"
   ]
  },
  {
   "cell_type": "markdown",
   "id": "f7d47593",
   "metadata": {},
   "source": [
    "# Solutions :"
   ]
  },
  {
   "cell_type": "markdown",
   "id": "9209903f",
   "metadata": {},
   "source": [
    "## First :"
   ]
  },
  {
   "cell_type": "code",
   "execution_count": 18,
   "id": "4bd4161e",
   "metadata": {},
   "outputs": [
    {
     "name": "stdout",
     "output_type": "stream",
     "text": [
      "Enter number : 20\n",
      "0, 1, 1, 2, 3, 5, 8, 13, 21, 34, 55, 89, 144, 233, 377, 610, 987, 1597, 2584, 4181, 6765, "
     ]
    }
   ],
   "source": [
    "# print fibnoic series :\n",
    "n = int(input(\"Enter number : \"))\n",
    "print_fib(n)"
   ]
  },
  {
   "cell_type": "markdown",
   "id": "0080cbc7",
   "metadata": {},
   "source": [
    "## Second :"
   ]
  },
  {
   "cell_type": "code",
   "execution_count": 19,
   "id": "b2766b4f",
   "metadata": {},
   "outputs": [
    {
     "name": "stdout",
     "output_type": "stream",
     "text": [
      "Enter number : 5\n"
     ]
    },
    {
     "data": {
      "text/plain": [
       "120"
      ]
     },
     "execution_count": 19,
     "metadata": {},
     "output_type": "execute_result"
    }
   ],
   "source": [
    "# Factorial of number\n",
    "num = int(input(\"Enter number : \"))\n",
    "fact(num)"
   ]
  },
  {
   "cell_type": "markdown",
   "id": "d9b47217",
   "metadata": {},
   "source": [
    "## Third :"
   ]
  },
  {
   "cell_type": "code",
   "execution_count": 21,
   "id": "29e13b01",
   "metadata": {},
   "outputs": [
    {
     "name": "stdout",
     "output_type": "stream",
     "text": [
      "Enter Weight of person in Kg : 65\n",
      "Enter Hight of person in m : 1.7\n",
      "\n",
      "BMI of given values is :  22.49134948096886\n"
     ]
    }
   ],
   "source": [
    "# To calculate BMI\n",
    "BMI()"
   ]
  },
  {
   "cell_type": "markdown",
   "id": "bc735f2e",
   "metadata": {},
   "source": [
    "## Forth :"
   ]
  },
  {
   "cell_type": "code",
   "execution_count": 22,
   "id": "409e660e",
   "metadata": {},
   "outputs": [
    {
     "data": {
      "text/plain": [
       "1.0791812460476247"
      ]
     },
     "execution_count": 22,
     "metadata": {},
     "output_type": "execute_result"
    }
   ],
   "source": [
    "# log of any number base 10 :\n",
    "log(12)"
   ]
  },
  {
   "cell_type": "markdown",
   "id": "e9470d03",
   "metadata": {},
   "source": [
    "## Fifth :"
   ]
  },
  {
   "cell_type": "code",
   "execution_count": 16,
   "id": "843bd5be",
   "metadata": {},
   "outputs": [
    {
     "name": "stdout",
     "output_type": "stream",
     "text": [
      "Enter number : 10\n"
     ]
    },
    {
     "data": {
      "text/plain": [
       "332750.0"
      ]
     },
     "execution_count": 16,
     "metadata": {},
     "output_type": "execute_result"
    }
   ],
   "source": [
    "#Calculating sum of cube of n natural number\n",
    "num = int(input(\"Enter number : \"))\n",
    "calc_cube(num)"
   ]
  }
 ],
 "metadata": {
  "kernelspec": {
   "display_name": "Python 3 (ipykernel)",
   "language": "python",
   "name": "python3"
  },
  "language_info": {
   "codemirror_mode": {
    "name": "ipython",
    "version": 3
   },
   "file_extension": ".py",
   "mimetype": "text/x-python",
   "name": "python",
   "nbconvert_exporter": "python",
   "pygments_lexer": "ipython3",
   "version": "3.9.7"
  }
 },
 "nbformat": 4,
 "nbformat_minor": 5
}
