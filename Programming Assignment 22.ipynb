{
 "cells": [
  {
   "cell_type": "markdown",
   "id": "24b6e8e3",
   "metadata": {},
   "source": [
    "# Assignment 22"
   ]
  },
  {
   "cell_type": "markdown",
   "id": "b1caa6d1",
   "metadata": {},
   "source": [
    "- Create a function that takes three parameters where:\n",
    "        x is the start of the range (inclusive).\n",
    "        y is the end of the range (inclusive).\n",
    "        n is the divisor to be checked against.\n",
    "- Return an ordered list with numbers in the range that are divisible by the third parameter n. Return an empty list if there are no numbers that are divisible by n."
   ]
  },
  {
   "cell_type": "code",
   "execution_count": 1,
   "id": "1adf0038",
   "metadata": {},
   "outputs": [],
   "source": [
    "def list_operation(x, y, n):\n",
    "    arr = []\n",
    "    for i in range(x, y+1):\n",
    "        if i%n==0:\n",
    "            arr.append(i)\n",
    "    return arr"
   ]
  },
  {
   "cell_type": "code",
   "execution_count": 3,
   "id": "f5454fb0",
   "metadata": {},
   "outputs": [
    {
     "name": "stdout",
     "output_type": "stream",
     "text": [
      "1, 10, 3 ::  [3, 6, 9]\n",
      "1, 20, 4 ::  [4, 8, 12, 16, 20]\n",
      "10, 50, 6 ::  [12, 18, 24, 30, 36, 42, 48]\n",
      "10, 20, 21 ::  []\n",
      "1, 125, 25 ::  [25, 50, 75, 100, 125]\n"
     ]
    }
   ],
   "source": [
    "print(\"1, 10, 3 :: \", list_operation(1,10,3))\n",
    "print(\"1, 20, 4 :: \", list_operation(1,20,4))\n",
    "print(\"10, 50, 6 :: \", list_operation(10,50,6))\n",
    "print(\"10, 20, 21 :: \", list_operation(10,20,21))\n",
    "print(\"1, 125, 25 :: \", list_operation(1,125,25))"
   ]
  },
  {
   "cell_type": "markdown",
   "id": "5f29c98d",
   "metadata": {},
   "source": [
    "- Create a function that takes in two lists and returns True if the second list follows the first list by one element, and False otherwise. In other words, determine if the second list is the first list shifted to the right by 1."
   ]
  },
  {
   "cell_type": "code",
   "execution_count": 6,
   "id": "5db8538d",
   "metadata": {},
   "outputs": [],
   "source": [
    "# This Function compare wether list got a right shift or not\n",
    "def simon_says(lis1,lis2):\n",
    "    return True if lis1[:-1]==lis2[1:] else False"
   ]
  },
  {
   "cell_type": "code",
   "execution_count": 5,
   "id": "dda0635a",
   "metadata": {},
   "outputs": [
    {
     "name": "stdout",
     "output_type": "stream",
     "text": [
      "[1, 2], [5, 1]  ::   True\n",
      "[1, 2], [5, 5]  ::   False\n",
      "[1, 2, 3, 4, 5], [0, 1, 2, 3, 4]  ::   True\n",
      "[1, 2, 3, 4, 5], [5, 5, 1, 2, 3]  ::   False\n"
     ]
    }
   ],
   "source": [
    "print(\"[1, 2], [5, 1]  ::  \",simon_says([1, 2], [5, 1]))\n",
    "\n",
    "print(\"[1, 2], [5, 5]  ::  \",simon_says([1, 2], [5, 5]))\n",
    "\n",
    "print(\"[1, 2, 3, 4, 5], [0, 1, 2, 3, 4]  ::  \",simon_says([1, 2, 3, 4, 5], [0, 1, 2, 3, 4]))\n",
    "\n",
    "print(\"[1, 2, 3, 4, 5], [5, 5, 1, 2, 3]  ::  \",simon_says([1, 2, 3, 4, 5], [5, 5, 1, 2, 3]))"
   ]
  },
  {
   "cell_type": "markdown",
   "id": "8758033d",
   "metadata": {},
   "source": [
    "- A group of friends have decided to start a secret society. The name will be the first letter of each of their names, sorted in alphabetical order.\n",
    "\n",
    "- Create a function that takes in a list of names and returns the name of the secret society.\n"
   ]
  },
  {
   "cell_type": "code",
   "execution_count": 12,
   "id": "3d12a36a",
   "metadata": {},
   "outputs": [],
   "source": [
    "# This Function take list of names and return a Group Name\n",
    "def society_name(lis):  # This List Contain Name Of Group Members\n",
    "    st = \"\"\n",
    "    lis.sort() # Shorting Alphabetical order\n",
    "    for i in lis:\n",
    "        st += i[0]\n",
    "    return st"
   ]
  },
  {
   "cell_type": "code",
   "execution_count": 13,
   "id": "a4af5521",
   "metadata": {},
   "outputs": [
    {
     "name": "stdout",
     "output_type": "stream",
     "text": [
      "Adam, Sarah, Malcolm  :-p   AMS\n",
      "Harry, Newt, Luna, Cho  :-p   CHLN\n",
      "Phoebe, Chandler, Rachel, Ross, Monica, Joey  :-p   CJMPRR\n"
     ]
    }
   ],
   "source": [
    "print(\"Adam, Sarah, Malcolm  :-p  \",society_name([\"Adam\", \"Sarah\", \"Malcolm\"]) )\n",
    "\n",
    "print(\"Harry, Newt, Luna, Cho  :-p  \", society_name([\"Harry\", \"Newt\", \"Luna\", \"Cho\"]))\n",
    "\n",
    "print(\"Phoebe, Chandler, Rachel, Ross, Monica, Joey  :-p  \",society_name([\"Phoebe\", \"Chandler\", \"Rachel\", \"Ross\", \"Monica\", \"Joey\"]))\n"
   ]
  },
  {
   "cell_type": "markdown",
   "id": "66cd745a",
   "metadata": {},
   "source": [
    "- An isogram is a word that has no duplicate letters. Create a function that takes a string and returns either True or False depending on whether or not it's an \"isogram\"."
   ]
  },
  {
   "cell_type": "code",
   "execution_count": 19,
   "id": "0e255e32",
   "metadata": {},
   "outputs": [],
   "source": [
    "# This function check wether a given string is \"isogram\" or not\n",
    "def is_isogram(st):\n",
    "    st = st.lower()\n",
    "    lis = []\n",
    "    for i in st:\n",
    "        if i in lis:\n",
    "            return False\n",
    "        lis.append(i)\n",
    "    return True"
   ]
  },
  {
   "cell_type": "code",
   "execution_count": 18,
   "id": "ce874b47",
   "metadata": {},
   "outputs": [
    {
     "name": "stdout",
     "output_type": "stream",
     "text": [
      "Algorism  :   True\n",
      "PasSword  :   False\n",
      "Consecutive   :   False\n",
      "AbCdEfGhIJ  :   True\n"
     ]
    }
   ],
   "source": [
    "print(\"Algorism  :  \",is_isogram(\"Algorism\"))\n",
    "\n",
    "print(\"PasSword  :  \", is_isogram(\"PasSword\"))\n",
    "\n",
    "print(\"Consecutive   :  \",is_isogram(\"Consecutive\"))\n",
    "\n",
    "print(\"AbCdEfGhIJ  :  \",is_isogram(\"AbCdEfGhIJ\"))\n"
   ]
  },
  {
   "cell_type": "markdown",
   "id": "dac59d7c",
   "metadata": {},
   "source": [
    "- Create a function that takes a string and returns True or False, depending on whether the characters are in order or not."
   ]
  },
  {
   "cell_type": "code",
   "execution_count": 25,
   "id": "06ed807a",
   "metadata": {},
   "outputs": [],
   "source": [
    "def is_in_order(st):\n",
    "    temp = st[0]\n",
    "    for i in st[1:-1]:\n",
    "        if chr(ord(temp)+1) != i:\n",
    "            return False\n",
    "        temp = i\n",
    "    return True"
   ]
  },
  {
   "cell_type": "code",
   "execution_count": 26,
   "id": "b1111d47",
   "metadata": {},
   "outputs": [
    {
     "name": "stdout",
     "output_type": "stream",
     "text": [
      "abc  :   True\n",
      "edabit  :   False\n",
      "123  :   True\n",
      "xyzz   :   True\n",
      "xyzz12   :   False\n"
     ]
    }
   ],
   "source": [
    "print(\"abc  :  \",is_in_order(\"abc\"))\n",
    "\n",
    "print(\"edabit  :  \",is_in_order(\"edabit\"))\n",
    "\n",
    "print(\"123  :  \",is_in_order(\"123\"))\n",
    "\n",
    "print(\"xyzz   :  \",is_in_order(\"xyzz\"))\n",
    "\n",
    "print(\"xyzz12   :  \",is_in_order(\"xyzz12\"))"
   ]
  }
 ],
 "metadata": {
  "kernelspec": {
   "display_name": "Python 3 (ipykernel)",
   "language": "python",
   "name": "python3"
  },
  "language_info": {
   "codemirror_mode": {
    "name": "ipython",
    "version": 3
   },
   "file_extension": ".py",
   "mimetype": "text/x-python",
   "name": "python",
   "nbconvert_exporter": "python",
   "pygments_lexer": "ipython3",
   "version": "3.9.7"
  }
 },
 "nbformat": 4,
 "nbformat_minor": 5
}
