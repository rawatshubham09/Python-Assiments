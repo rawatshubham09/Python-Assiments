{
 "cells": [
  {
   "cell_type": "markdown",
   "id": "a0a2e180",
   "metadata": {},
   "source": [
    "# Assignment 20"
   ]
  },
  {
   "cell_type": "markdown",
   "id": "55a5eb40",
   "metadata": {},
   "source": [
    "- Create a function that takes a list of strings and integers, and filters out the list so that it returns a list of integers only."
   ]
  },
  {
   "cell_type": "code",
   "execution_count": 1,
   "id": "c37db030",
   "metadata": {},
   "outputs": [],
   "source": [
    "def filter_list(lis):\n",
    "    a = []\n",
    "    for i in lis:\n",
    "        if isinstance(i, int) or isinstance(i, float) : # This will check if given data is \"int\" or \"float\"\n",
    "            a.append(i)\n",
    "    return a"
   ]
  },
  {
   "cell_type": "code",
   "execution_count": 2,
   "id": "20fbe92f",
   "metadata": {},
   "outputs": [
    {
     "name": "stdout",
     "output_type": "stream",
     "text": [
      "[1, 2, 'a', 'b']   -->   [1, 2]\n",
      "[1, 'a', 'b', 0, 15]   -->   [1, 0, 15]\n",
      "[1, 2, 'aasf', '1', '123', 123]   -->   [1, 2, 123]\n",
      "['A', 0, 'Edabit', 1729, 'Python', '1729']   -->   [0, 1729]\n",
      "['Nothing', 'here']   -->   []\n"
     ]
    }
   ],
   "source": [
    "test = [[1, 2, \"a\", \"b\"], [1, \"a\", \"b\", 0, 15], \n",
    "        [1, 2, \"aasf\", \"1\", \"123\", 123], \n",
    "        [\"A\", 0, \"Edabit\", 1729, \"Python\", \"1729\"],\n",
    "        [\"Nothing\", \"here\"]]\n",
    "for i in test:\n",
    "    print(i, \"  -->  \", filter_list(i))"
   ]
  },
  {
   "cell_type": "markdown",
   "id": "841d1769",
   "metadata": {},
   "source": [
    "- Given a list of numbers, create a function which returns the list but with each element's index in the list added to itself. This means you add 0 to the number at index 0, add 1 to the number at index 1, etc..."
   ]
  },
  {
   "cell_type": "code",
   "execution_count": 5,
   "id": "7a348605",
   "metadata": {},
   "outputs": [],
   "source": [
    "def add_index(arr):\n",
    "    l = len(arr)\n",
    "    index = [i for i in range(l)]\n",
    "    for i in range(l):\n",
    "        index[i] = index[i] + arr[i]\n",
    "    return index"
   ]
  },
  {
   "cell_type": "code",
   "execution_count": 6,
   "id": "c35c9f3d",
   "metadata": {},
   "outputs": [
    {
     "name": "stdout",
     "output_type": "stream",
     "text": [
      "0 0 0 0 0  ---->  0 1 2 3 4\n",
      "1 2 3 4 5 6  ---->  1 3 5 7 9 11\n",
      "5 5 5 5 5 5  ---->  5 6 7 8 9 10\n",
      "2 3 4 2 3 4  ---->  2 4 6 5 7 9\n"
     ]
    }
   ],
   "source": [
    "test = [[0,0,0,0,0], [1,2,3,4,5,6], [5,5,5,5,5,5], [2,3,4,2,3,4]]\n",
    "for i in test:\n",
    "    print(*i, \" ----> \", *add_index(i))"
   ]
  },
  {
   "cell_type": "markdown",
   "id": "adc810f7",
   "metadata": {},
   "source": [
    "- Create a function that takes the height and radius of a cone as arguments and returns the volume of the cone rounded to the nearest hundredth. See the resources tab for the formula."
   ]
  },
  {
   "cell_type": "code",
   "execution_count": 11,
   "id": "87f93f71",
   "metadata": {},
   "outputs": [],
   "source": [
    "def cone_volume(h, r):\n",
    "    return round((22*r*r*h)/(3*7),2)"
   ]
  },
  {
   "cell_type": "code",
   "execution_count": 12,
   "id": "1f9b4c9b",
   "metadata": {},
   "outputs": [
    {
     "name": "stdout",
     "output_type": "stream",
     "text": [
      "Volume of cone :  12.57\n",
      "Volume of cone :  565.71\n",
      "Volume of cone :  0.0\n"
     ]
    }
   ],
   "source": [
    "cone = [[3,2], [15,6], [18,0]]\n",
    "for h,r in cone:\n",
    "    print(\"Volume of cone : \", cone_volume(h,r))"
   ]
  },
  {
   "cell_type": "markdown",
   "id": "dbcbc813",
   "metadata": {},
   "source": [
    "- Create a function that takes a list of numbers between 1 and 10 (excluding one number) and returns the missing number."
   ]
  },
  {
   "cell_type": "code",
   "execution_count": 13,
   "id": "c30aadcc",
   "metadata": {},
   "outputs": [],
   "source": [
    "def missing_num(lis):\n",
    "    ret_lis = []\n",
    "    for i in range(1,11):\n",
    "        if i not in lis:\n",
    "            ret_lis.append(i)\n",
    "    return ret_lis"
   ]
  },
  {
   "cell_type": "code",
   "execution_count": 14,
   "id": "e1573995",
   "metadata": {},
   "outputs": [
    {
     "name": "stdout",
     "output_type": "stream",
     "text": [
      "1 2 3 4 5 6 7 9 10  ----->  8\n",
      "1 2 4 3 6 7 10 9  ----->  5 8\n",
      "1  ----->  2 3 4 5 6 7 8 9 10\n",
      " ----->  1 2 3 4 5 6 7 8 9 10\n",
      "9 8 7 5 3 2  ----->  1 4 6 10\n"
     ]
    }
   ],
   "source": [
    "num_lis = [[1,2,3,4,5,6,7,9,10], [1,2,4,3,6,7,10,9], [1], [], [9,8,7,5,3,2]]\n",
    "for i in num_lis:\n",
    "    print(*i, \" -----> \", *missing_num(i))"
   ]
  },
  {
   "cell_type": "markdown",
   "id": "9d4ced25",
   "metadata": {},
   "source": [
    "- This Triangular Number Sequence is generated from a pattern of dots that form a triangle. The first 5 numbers of the sequence, or dots, are:\n",
    "\n",
    "- 1, 3, 6, 10, 15\n",
    "- This means that the first triangle has just one dot, the second one has three dots, the third one has 6 dots and so on.\n",
    "\n",
    "- Write a function that gives the number of dots with its corresponding triangle number of the sequence.\n"
   ]
  },
  {
   "cell_type": "code",
   "execution_count": 18,
   "id": "ad5f9ac5",
   "metadata": {},
   "outputs": [],
   "source": [
    "def triangle(n):\n",
    "    summ = 0\n",
    "    for i in range(1,n+1):\n",
    "        summ += i \n",
    "    return summ"
   ]
  },
  {
   "cell_type": "code",
   "execution_count": 19,
   "id": "9b5110fa",
   "metadata": {},
   "outputs": [
    {
     "name": "stdout",
     "output_type": "stream",
     "text": [
      "1    -    1\n",
      "2    -    3\n",
      "3    -    6\n",
      "4    -    10\n",
      "5    -    15\n",
      "6    -    21\n",
      "7    -    28\n",
      "8    -    36\n",
      "9    -    45\n"
     ]
    }
   ],
   "source": [
    "a = [i for i in range(1,10)]\n",
    "for i in a:\n",
    "    print(i, \"   -   \", triangle(i))"
   ]
  }
 ],
 "metadata": {
  "kernelspec": {
   "display_name": "Python 3 (ipykernel)",
   "language": "python",
   "name": "python3"
  },
  "language_info": {
   "codemirror_mode": {
    "name": "ipython",
    "version": 3
   },
   "file_extension": ".py",
   "mimetype": "text/x-python",
   "name": "python",
   "nbconvert_exporter": "python",
   "pygments_lexer": "ipython3",
   "version": "3.9.7"
  }
 },
 "nbformat": 4,
 "nbformat_minor": 5
}
