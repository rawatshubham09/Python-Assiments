{
 "cells": [
  {
   "cell_type": "markdown",
   "id": "9f123b91",
   "metadata": {},
   "source": [
    "#  Assignment 12"
   ]
  },
  {
   "cell_type": "markdown",
   "id": "76560a53",
   "metadata": {},
   "source": [
    "- Write a Python program to Extract Unique values dictionary values?"
   ]
  },
  {
   "cell_type": "code",
   "execution_count": 1,
   "id": "d93774dc",
   "metadata": {},
   "outputs": [],
   "source": [
    "def uniq(dic):\n",
    "    new = []\n",
    "    for i in dic.values():\n",
    "        if i not in new:\n",
    "            new.append(i)\n",
    "    return new"
   ]
  },
  {
   "cell_type": "code",
   "execution_count": 2,
   "id": "afeedb7e",
   "metadata": {},
   "outputs": [
    {
     "data": {
      "text/plain": [
       "[3, 'two', 3423]"
      ]
     },
     "execution_count": 2,
     "metadata": {},
     "output_type": "execute_result"
    }
   ],
   "source": [
    "dic = {\"Apple\": 3, \"banana\": \"two\", \"summ\": 3423, \"picture\": 3}\n",
    "uniq(dic)"
   ]
  },
  {
   "cell_type": "markdown",
   "id": "a30a6d4d",
   "metadata": {},
   "source": [
    "- Write a Python program to find the sum of all items in a dictionary?\n"
   ]
  },
  {
   "cell_type": "code",
   "execution_count": 5,
   "id": "b4123b7f",
   "metadata": {},
   "outputs": [],
   "source": [
    "#This Function take one dictnary as input and return sum of all items\n",
    "def dict_sum(dic):\n",
    "    summ = 0\n",
    "    for i in dic.values():\n",
    "        summ += i\n",
    "    return summ"
   ]
  },
  {
   "cell_type": "code",
   "execution_count": 4,
   "id": "c35e44f9",
   "metadata": {},
   "outputs": [
    {
     "data": {
      "text/plain": [
       "12"
      ]
     },
     "execution_count": 4,
     "metadata": {},
     "output_type": "execute_result"
    }
   ],
   "source": [
    "dic = {\"Apple\": 3, \"banana\": 2, \"summ\": 3, \"picture\": 4}\n",
    "dict_sum(dic)"
   ]
  },
  {
   "cell_type": "markdown",
   "id": "d283effe",
   "metadata": {},
   "source": [
    "- Write a Python program to Merging two Dictionaries?\n"
   ]
  },
  {
   "cell_type": "code",
   "execution_count": 8,
   "id": "95d03c87",
   "metadata": {},
   "outputs": [],
   "source": [
    "# This Function take two dictionaries and merg them to one:\n",
    "def dict_merg(dic1, dic2):\n",
    "    dic3 = dic1.copy()\n",
    "    for key,val in dic2.items():\n",
    "        if key in dic3.keys():\n",
    "            dic3[key] += val\n",
    "        else:\n",
    "            dic3[key] = val\n",
    "    return dic3"
   ]
  },
  {
   "cell_type": "code",
   "execution_count": 7,
   "id": "f756a029",
   "metadata": {},
   "outputs": [
    {
     "data": {
      "text/plain": [
       "{'Apple': 5, 'banana': 2, 'summ': 4, 'picture': 4, 'Grapes': 2, 'new_one': 5}"
      ]
     },
     "execution_count": 7,
     "metadata": {},
     "output_type": "execute_result"
    }
   ],
   "source": [
    "dic1 = {\"Apple\": 3, \"banana\": 2, \"summ\": 3, \"picture\": 4}\n",
    "dic2 = {\"Apple\": 2, \"Grapes\": 2, \"summ\": 1, \"new_one\": 5}\n",
    "dict_merg(dic1,dic2)"
   ]
  },
  {
   "cell_type": "markdown",
   "id": "9e12f816",
   "metadata": {},
   "source": [
    "- Write a Python program to convert key-values list to flat dictionary?"
   ]
  },
  {
   "cell_type": "code",
   "execution_count": 10,
   "id": "6cd66185",
   "metadata": {},
   "outputs": [],
   "source": [
    "# This Function will take two list each contain key list and values list and return a single dictionary\n",
    "def dic_from_list(key,val):\n",
    "    dic = {}\n",
    "    for i in range(len(key)):\n",
    "        dic[key[i]] = val[i]\n",
    "    return dic"
   ]
  },
  {
   "cell_type": "code",
   "execution_count": 11,
   "id": "83c2a8f6",
   "metadata": {},
   "outputs": [
    {
     "data": {
      "text/plain": [
       "{'A': 2, 'B': 3, 'C': 4, 'D': 5, 'E': 1, 'F': 2}"
      ]
     },
     "execution_count": 11,
     "metadata": {},
     "output_type": "execute_result"
    }
   ],
   "source": [
    "key = [\"A\", \"B\", \"C\", \"D\", \"E\", \"F\"]\n",
    "val = [2,3,4,5,1,2]\n",
    "dic_from_list(key,val)"
   ]
  },
  {
   "cell_type": "markdown",
   "id": "119455f3",
   "metadata": {},
   "source": [
    "- Write a Python program to insertion at the beginning in OrderedDict?"
   ]
  },
  {
   "cell_type": "code",
   "execution_count": 12,
   "id": "49eda263",
   "metadata": {},
   "outputs": [],
   "source": [
    "from collections import OrderedDict\n",
    "\n",
    "# This function take three inputs- 1. OrderedDict, 2. key,value of new data and return rewquired dict:\n",
    "def at_begin(dic, key, val):\n",
    "    dic.update({key:val})\n",
    "    dic.move_to_end(key, last = False)\n",
    "    return dic "
   ]
  },
  {
   "cell_type": "code",
   "execution_count": 14,
   "id": "63af1c10",
   "metadata": {},
   "outputs": [
    {
     "data": {
      "text/plain": [
       "OrderedDict([('Rome', 3), ('Will', '1'), ('James', '2'), ('Rob', '4')])"
      ]
     },
     "execution_count": 14,
     "metadata": {},
     "output_type": "execute_result"
    }
   ],
   "source": [
    "dic = OrderedDict([('Will', '1'), ('James', '2'), ('Rob', '4')])\n",
    "at_begin(dic,\"Rome\",3)"
   ]
  },
  {
   "cell_type": "markdown",
   "id": "54d85936",
   "metadata": {},
   "source": [
    "- Write a Python program to check order of character in string using OrderedDict()?"
   ]
  },
  {
   "cell_type": "code",
   "execution_count": 15,
   "id": "3cd40f38",
   "metadata": {},
   "outputs": [],
   "source": [
    "def checkOrder(strr, pattern): \n",
    "    dic = OrderedDict.fromkeys(strr)  # Dictnary formed using string\n",
    "    l = 0\n",
    "    for key in dic.keys(): \n",
    "        if (key == pattern[l]): \n",
    "            l = l + 1\n",
    " \n",
    "        if (l == (len(pattern))): \n",
    "            return 'true'\n",
    "    return 'false'"
   ]
  },
  {
   "cell_type": "code",
   "execution_count": 16,
   "id": "2b79e92d",
   "metadata": {},
   "outputs": [
    {
     "data": {
      "text/plain": [
       "'true'"
      ]
     },
     "execution_count": 16,
     "metadata": {},
     "output_type": "execute_result"
    }
   ],
   "source": [
    "strr = \"Get the world with the world news\"\n",
    "pattern = \"world\"\n",
    "checkOrder(strr, pattern)"
   ]
  },
  {
   "cell_type": "markdown",
   "id": "a507269d",
   "metadata": {},
   "source": [
    "- Write a Python program to sort Python Dictionaries by Key or Value?"
   ]
  },
  {
   "cell_type": "code",
   "execution_count": 19,
   "id": "1d77ea58",
   "metadata": {},
   "outputs": [],
   "source": [
    "def dict_sort(dic):\n",
    "    dict1 = OrderedDict(sorted(dic.items()))\n",
    "    return dict1"
   ]
  },
  {
   "cell_type": "code",
   "execution_count": 20,
   "id": "ce1e71ac",
   "metadata": {},
   "outputs": [
    {
     "data": {
      "text/plain": [
       "OrderedDict([('rajnish', '9'),\n",
       "             ('ravi', '10'),\n",
       "             ('suraj', '32'),\n",
       "             ('yash', '2'),\n",
       "             ('zsanjeev', '15')])"
      ]
     },
     "execution_count": 20,
     "metadata": {},
     "output_type": "execute_result"
    }
   ],
   "source": [
    "dic = {'ravi':'10','rajnish':'9','zsanjeev':'15','yash':'2','suraj':'32'}\n",
    "dict_sort(dic)"
   ]
  }
 ],
 "metadata": {
  "kernelspec": {
   "display_name": "Python 3 (ipykernel)",
   "language": "python",
   "name": "python3"
  },
  "language_info": {
   "codemirror_mode": {
    "name": "ipython",
    "version": 3
   },
   "file_extension": ".py",
   "mimetype": "text/x-python",
   "name": "python",
   "nbconvert_exporter": "python",
   "pygments_lexer": "ipython3",
   "version": "3.9.7"
  }
 },
 "nbformat": 4,
 "nbformat_minor": 5
}
