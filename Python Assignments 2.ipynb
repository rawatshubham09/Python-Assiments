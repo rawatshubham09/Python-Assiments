{
 "cells": [
  {
   "cell_type": "markdown",
   "id": "b26d8c9f",
   "metadata": {},
   "source": [
    "## Assignment 2"
   ]
  },
  {
   "cell_type": "markdown",
   "id": "9197ebdf",
   "metadata": {},
   "source": [
    "- Write a Python Program to convert kilometers to miles?"
   ]
  },
  {
   "cell_type": "code",
   "execution_count": 1,
   "id": "4c54f8f6",
   "metadata": {},
   "outputs": [],
   "source": [
    "def km_to_mile(num):\n",
    "    return num*0.621"
   ]
  },
  {
   "cell_type": "markdown",
   "id": "93b1ac1d",
   "metadata": {},
   "source": [
    "- Write a Python Program to convert Celsius to Fahrenheit?"
   ]
  },
  {
   "cell_type": "code",
   "execution_count": 2,
   "id": "5cc65af0",
   "metadata": {},
   "outputs": [],
   "source": [
    "def cel_to_far(cel):\n",
    "    return (cel*9/5) + 32"
   ]
  },
  {
   "cell_type": "markdown",
   "id": "24e54a81",
   "metadata": {},
   "source": [
    "- Write a Python Program to display calendar?"
   ]
  },
  {
   "cell_type": "code",
   "execution_count": 4,
   "id": "76092273",
   "metadata": {},
   "outputs": [],
   "source": [
    "# importing calendar\n",
    "import calendar\n",
    "\n",
    "def print_calender(yy):\n",
    "    print(calendar.calendar(yy))"
   ]
  },
  {
   "cell_type": "markdown",
   "id": "4fd92e82",
   "metadata": {},
   "source": [
    "- Write a Python Program to solve quadratic equaton?"
   ]
  },
  {
   "cell_type": "code",
   "execution_count": 48,
   "id": "9723f669",
   "metadata": {},
   "outputs": [],
   "source": [
    "from math import sqrt\n",
    "# this function take three values a,b,c ---> (a*x^2 + b*x + c) \n",
    "def quad_sol(a,b,c):\n",
    "    d = (b**2 - (4*a*c))\n",
    "    if d > 0:\n",
    "        d = sqrt(d)\n",
    "        x1 = (d-b)/2*a\n",
    "        \n",
    "        x2 = (-b-d)/2*a\n",
    "        print(\"x1 : \", x1, \"  x2 : \", x2)\n",
    "    else:\n",
    "        print(\"root are not real !\")\n",
    "    "
   ]
  },
  {
   "cell_type": "markdown",
   "id": "2be16c4e",
   "metadata": {},
   "source": [
    "- Write a Python Program to swap two variables without temp variable?"
   ]
  },
  {
   "cell_type": "code",
   "execution_count": 33,
   "id": "4ee3e57a",
   "metadata": {},
   "outputs": [],
   "source": [
    "def my_swap(num1, num2):\n",
    "    num1, num2 = num2, num1\n",
    "    return num1, num2"
   ]
  },
  {
   "cell_type": "markdown",
   "id": "901ba88d",
   "metadata": {},
   "source": [
    "## Solution"
   ]
  },
  {
   "cell_type": "code",
   "execution_count": 45,
   "id": "c59c3c0d",
   "metadata": {},
   "outputs": [
    {
     "name": "stdout",
     "output_type": "stream",
     "text": [
      "15 km ->  9.315 miles\n",
      "10 km ->  6.21 miles\n"
     ]
    }
   ],
   "source": [
    "# 1 : kilometer to mile\n",
    "# First\n",
    "print(\"15 km -> \",km_to_mile(15), \"miles\")\n",
    "print(\"10 km -> \",km_to_mile(10), \"miles\")"
   ]
  },
  {
   "cell_type": "code",
   "execution_count": 46,
   "id": "382b025b",
   "metadata": {},
   "outputs": [
    {
     "name": "stdout",
     "output_type": "stream",
     "text": [
      " 25 C ->  77.0 F\n",
      " 100 C ->  212.0 F\n",
      " 0 C ->  32.0 F\n"
     ]
    }
   ],
   "source": [
    "# 2 : degree conversion\n",
    "\n",
    "print(\" 25 C -> \", cel_to_far(25), \"F\")\n",
    "print(\" 100 C -> \", cel_to_far(100), \"F\")\n",
    "print(\" 0 C -> \", cel_to_far(0), \"F\")"
   ]
  },
  {
   "cell_type": "code",
   "execution_count": 47,
   "id": "ca87d26d",
   "metadata": {},
   "outputs": [
    {
     "name": "stdout",
     "output_type": "stream",
     "text": [
      "Type year which need to print : 1997\n",
      "                                  1997\n",
      "\n",
      "      January                   February                   March\n",
      "Mo Tu We Th Fr Sa Su      Mo Tu We Th Fr Sa Su      Mo Tu We Th Fr Sa Su\n",
      "       1  2  3  4  5                      1  2                      1  2\n",
      " 6  7  8  9 10 11 12       3  4  5  6  7  8  9       3  4  5  6  7  8  9\n",
      "13 14 15 16 17 18 19      10 11 12 13 14 15 16      10 11 12 13 14 15 16\n",
      "20 21 22 23 24 25 26      17 18 19 20 21 22 23      17 18 19 20 21 22 23\n",
      "27 28 29 30 31            24 25 26 27 28            24 25 26 27 28 29 30\n",
      "                                                    31\n",
      "\n",
      "       April                      May                       June\n",
      "Mo Tu We Th Fr Sa Su      Mo Tu We Th Fr Sa Su      Mo Tu We Th Fr Sa Su\n",
      "    1  2  3  4  5  6                1  2  3  4                         1\n",
      " 7  8  9 10 11 12 13       5  6  7  8  9 10 11       2  3  4  5  6  7  8\n",
      "14 15 16 17 18 19 20      12 13 14 15 16 17 18       9 10 11 12 13 14 15\n",
      "21 22 23 24 25 26 27      19 20 21 22 23 24 25      16 17 18 19 20 21 22\n",
      "28 29 30                  26 27 28 29 30 31         23 24 25 26 27 28 29\n",
      "                                                    30\n",
      "\n",
      "        July                     August                  September\n",
      "Mo Tu We Th Fr Sa Su      Mo Tu We Th Fr Sa Su      Mo Tu We Th Fr Sa Su\n",
      "    1  2  3  4  5  6                   1  2  3       1  2  3  4  5  6  7\n",
      " 7  8  9 10 11 12 13       4  5  6  7  8  9 10       8  9 10 11 12 13 14\n",
      "14 15 16 17 18 19 20      11 12 13 14 15 16 17      15 16 17 18 19 20 21\n",
      "21 22 23 24 25 26 27      18 19 20 21 22 23 24      22 23 24 25 26 27 28\n",
      "28 29 30 31               25 26 27 28 29 30 31      29 30\n",
      "\n",
      "      October                   November                  December\n",
      "Mo Tu We Th Fr Sa Su      Mo Tu We Th Fr Sa Su      Mo Tu We Th Fr Sa Su\n",
      "       1  2  3  4  5                      1  2       1  2  3  4  5  6  7\n",
      " 6  7  8  9 10 11 12       3  4  5  6  7  8  9       8  9 10 11 12 13 14\n",
      "13 14 15 16 17 18 19      10 11 12 13 14 15 16      15 16 17 18 19 20 21\n",
      "20 21 22 23 24 25 26      17 18 19 20 21 22 23      22 23 24 25 26 27 28\n",
      "27 28 29 30 31            24 25 26 27 28 29 30      29 30 31\n",
      "\n"
     ]
    }
   ],
   "source": [
    "# 3 : print year calender\n",
    "year = int(input(\"Type year which need to print : \"))\n",
    "print_calender(year)"
   ]
  },
  {
   "cell_type": "code",
   "execution_count": 54,
   "id": "f7aa696d",
   "metadata": {},
   "outputs": [
    {
     "name": "stdout",
     "output_type": "stream",
     "text": [
      "x1 :  -1.1715728752538097   x2 :  -6.82842712474619\n"
     ]
    }
   ],
   "source": [
    "# 4 : Solving Quadritic Equation:\n",
    "quad_sol(2,4,1)"
   ]
  },
  {
   "cell_type": "code",
   "execution_count": 53,
   "id": "b234a1c9",
   "metadata": {},
   "outputs": [
    {
     "name": "stdout",
     "output_type": "stream",
     "text": [
      "x1 :  -2.0   x2 :  -4.0\n"
     ]
    }
   ],
   "source": [
    "quad_sol(2,3,1)"
   ]
  },
  {
   "cell_type": "code",
   "execution_count": 58,
   "id": "8fdea823",
   "metadata": {},
   "outputs": [
    {
     "name": "stdout",
     "output_type": "stream",
     "text": [
      "Old Numbers\n",
      "num1 :  10  num2 :  50\n",
      "Swap Numbers\n",
      "num1 :  50  num2 :  10\n"
     ]
    }
   ],
   "source": [
    "#  5: swap\n",
    "num1, num2 = 10, 50\n",
    "print(\"Old Numbers\")\n",
    "print(\"num1 : \", num1, \" num2 : \", num2)\n",
    "num1, num2 = my_swap(num1, num2)\n",
    "print(\"Swap Numbers\")\n",
    "print(\"num1 : \", num1, \" num2 : \", num2)"
   ]
  }
 ],
 "metadata": {
  "kernelspec": {
   "display_name": "Python 3 (ipykernel)",
   "language": "python",
   "name": "python3"
  },
  "language_info": {
   "codemirror_mode": {
    "name": "ipython",
    "version": 3
   },
   "file_extension": ".py",
   "mimetype": "text/x-python",
   "name": "python",
   "nbconvert_exporter": "python",
   "pygments_lexer": "ipython3",
   "version": "3.9.7"
  }
 },
 "nbformat": 4,
 "nbformat_minor": 5
}
