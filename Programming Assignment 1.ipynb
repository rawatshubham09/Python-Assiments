{
 "cells": [
  {
   "cell_type": "markdown",
   "id": "aebf947b",
   "metadata": {},
   "source": [
    "## Question Answer"
   ]
  },
  {
   "cell_type": "markdown",
   "id": "445a6806",
   "metadata": {},
   "source": [
    "- Q: Write a Program to print \"Hello Python\"?"
   ]
  },
  {
   "cell_type": "code",
   "execution_count": 9,
   "id": "ed8407c3",
   "metadata": {},
   "outputs": [],
   "source": [
    "def say_hello():\n",
    "    print(\"Hello Python\")"
   ]
  },
  {
   "cell_type": "markdown",
   "id": "d0cef50f",
   "metadata": {},
   "source": [
    "- Write a Python Program to do arithmentical operations addition and division. ?"
   ]
  },
  {
   "cell_type": "code",
   "execution_count": 12,
   "id": "f598972c",
   "metadata": {},
   "outputs": [],
   "source": [
    "def add(num1, num2):\n",
    "    return num1 + num2"
   ]
  },
  {
   "cell_type": "markdown",
   "id": "0c33e602",
   "metadata": {},
   "source": [
    "- Write a Python Program to find the area of triangle?"
   ]
  },
  {
   "cell_type": "code",
   "execution_count": 32,
   "id": "834d285c",
   "metadata": {},
   "outputs": [],
   "source": [
    "# This will work for perfect triangle if triangle dosenot exist then it may give wrong output \n",
    "import math\n",
    "\n",
    "def tri_area(s1, s2, s3) :\n",
    "    if s1+s2>=s3 and s2+s3>=s1 and s1+s3>=s2 :\n",
    "        m = (s1 + s2 + s3)/2           #simi perimeter\n",
    "        a,b,c = (m-s1), (m-s2), (m-s3)\n",
    "        return math.sqrt(m*a*b*c)"
   ]
  },
  {
   "cell_type": "markdown",
   "id": "0c0377c0",
   "metadata": {},
   "source": [
    "- Write a Python Program to swap two variables?"
   ]
  },
  {
   "cell_type": "code",
   "execution_count": 5,
   "id": "0083d994",
   "metadata": {},
   "outputs": [],
   "source": [
    "#take two number and return swap two number\n",
    "def my_swap(a,b):\n",
    "    a,b = b,a\n",
    "    return a,b"
   ]
  },
  {
   "cell_type": "markdown",
   "id": "5b900636",
   "metadata": {},
   "source": [
    "- Write a Python Program to generate a random number?"
   ]
  },
  {
   "cell_type": "code",
   "execution_count": 7,
   "id": "ca7ac394",
   "metadata": {},
   "outputs": [],
   "source": [
    "#this will generate random number between 1-10000000\n",
    "from random import randint\n",
    "\n",
    "def rand_num():\n",
    "    return randint(1,1000000)\n"
   ]
  },
  {
   "cell_type": "markdown",
   "id": "2ea10556",
   "metadata": {},
   "source": [
    "## Solutions"
   ]
  },
  {
   "cell_type": "code",
   "execution_count": 10,
   "id": "cbd7f6c6",
   "metadata": {},
   "outputs": [
    {
     "name": "stdout",
     "output_type": "stream",
     "text": [
      "Hello Python\n"
     ]
    }
   ],
   "source": [
    "# first\n",
    "say_hello()"
   ]
  },
  {
   "cell_type": "code",
   "execution_count": 22,
   "id": "f15cf09b",
   "metadata": {},
   "outputs": [
    {
     "name": "stdout",
     "output_type": "stream",
     "text": [
      "first :  30\n",
      "second :  name new name \n"
     ]
    }
   ],
   "source": [
    "#second\n",
    "print(\"first : \",add(10,20))\n",
    "print(\"second : \", add(\"name \", \"new name \"))"
   ]
  },
  {
   "cell_type": "code",
   "execution_count": 33,
   "id": "c3fcebc3",
   "metadata": {},
   "outputs": [
    {
     "name": "stdout",
     "output_type": "stream",
     "text": [
      "Existing Tringle :  64.06246951218786\n",
      " Non Existing Triangle :  None\n"
     ]
    }
   ],
   "source": [
    "# third\n",
    "print(\"Existing Tringle : \",tri_area(10,15,13))\n",
    "print(\" Non Existing Triangle : \",tri_area(10,20,5) )"
   ]
  },
  {
   "cell_type": "code",
   "execution_count": 37,
   "id": "60d3e6e9",
   "metadata": {},
   "outputs": [
    {
     "name": "stdout",
     "output_type": "stream",
     "text": [
      " Old--> Num1 - 10, Num2 - 20\n",
      " New--> Num1 - 20, Num2 - 10\n"
     ]
    }
   ],
   "source": [
    "# forth\n",
    "num1 = 10\n",
    "num2 = 20\n",
    "print(\" Old--> Num1 - {}, Num2 - {}\".format(num1,num2))\n",
    "num1, num2 = my_swap(10, 20)\n",
    "print(\" New--> Num1 - {}, Num2 - {}\".format(num1,num2))"
   ]
  },
  {
   "cell_type": "code",
   "execution_count": 40,
   "id": "68af89cd",
   "metadata": {},
   "outputs": [
    {
     "name": "stdout",
     "output_type": "stream",
     "text": [
      "0  :  703898\n",
      "1  :  688842\n",
      "2  :  225110\n",
      "3  :  930039\n",
      "4  :  214542\n",
      "5  :  232982\n",
      "6  :  763414\n",
      "7  :  760972\n",
      "8  :  879467\n",
      "9  :  606323\n"
     ]
    }
   ],
   "source": [
    "# fifth(random)\n",
    "for i in range(10):\n",
    "    print(i, \" : \", rand_num())"
   ]
  }
 ],
 "metadata": {
  "kernelspec": {
   "display_name": "Python 3 (ipykernel)",
   "language": "python",
   "name": "python3"
  },
  "language_info": {
   "codemirror_mode": {
    "name": "ipython",
    "version": 3
   },
   "file_extension": ".py",
   "mimetype": "text/x-python",
   "name": "python",
   "nbconvert_exporter": "python",
   "pygments_lexer": "ipython3",
   "version": "3.9.7"
  }
 },
 "nbformat": 4,
 "nbformat_minor": 5
}
