{
 "cells": [
  {
   "cell_type": "markdown",
   "id": "b3f4345f",
   "metadata": {},
   "source": [
    "## Assignment 10:"
   ]
  },
  {
   "cell_type": "markdown",
   "id": "d0daee9b",
   "metadata": {},
   "source": [
    "- Write a Python program to find sum of elements in list?"
   ]
  },
  {
   "cell_type": "code",
   "execution_count": 1,
   "id": "0818eeda",
   "metadata": {},
   "outputs": [],
   "source": [
    "def list_sum(arr):\n",
    "    summ = 0\n",
    "    for i in arr:\n",
    "        summ += i\n",
    "    return summ"
   ]
  },
  {
   "cell_type": "code",
   "execution_count": 2,
   "id": "b371529c",
   "metadata": {},
   "outputs": [
    {
     "data": {
      "text/plain": [
       "55"
      ]
     },
     "execution_count": 2,
     "metadata": {},
     "output_type": "execute_result"
    }
   ],
   "source": [
    "list_sum([1,2,3,4,5,6,7,8,9,10])"
   ]
  },
  {
   "cell_type": "markdown",
   "id": "3d23d25a",
   "metadata": {},
   "source": [
    "- Write a Python program to  Multiply all numbers in the list?\n"
   ]
  },
  {
   "cell_type": "code",
   "execution_count": 3,
   "id": "ce7e4b92",
   "metadata": {},
   "outputs": [],
   "source": [
    "def list_mult(arr):\n",
    "    summ = 1\n",
    "    for i in arr:\n",
    "        summ *= i\n",
    "    return summ"
   ]
  },
  {
   "cell_type": "code",
   "execution_count": 4,
   "id": "fef76a5b",
   "metadata": {},
   "outputs": [
    {
     "data": {
      "text/plain": [
       "3628800"
      ]
     },
     "execution_count": 4,
     "metadata": {},
     "output_type": "execute_result"
    }
   ],
   "source": [
    "list_mult([1,2,3,4,5,6,7,8,9,10])"
   ]
  },
  {
   "cell_type": "markdown",
   "id": "0d51af0f",
   "metadata": {},
   "source": [
    "- Write a Python program to find smallest number in a list?"
   ]
  },
  {
   "cell_type": "code",
   "execution_count": 7,
   "id": "a333fc71",
   "metadata": {},
   "outputs": [],
   "source": [
    "def list_min(arr):\n",
    "    low = 99999999\n",
    "    for i in arr:\n",
    "        if low > i:\n",
    "            low = i\n",
    "    return low"
   ]
  },
  {
   "cell_type": "code",
   "execution_count": 8,
   "id": "ed5ebc8f",
   "metadata": {},
   "outputs": [
    {
     "data": {
      "text/plain": [
       "1"
      ]
     },
     "execution_count": 8,
     "metadata": {},
     "output_type": "execute_result"
    }
   ],
   "source": [
    "list_min([23,32,433,22,13,33,222,22,32,1,2,32,232,22])"
   ]
  },
  {
   "cell_type": "markdown",
   "id": "54f5f35f",
   "metadata": {},
   "source": [
    "- Write a Python program to find largest number in a list?"
   ]
  },
  {
   "cell_type": "code",
   "execution_count": 9,
   "id": "c70b6ca2",
   "metadata": {},
   "outputs": [],
   "source": [
    "def list_max(arr):\n",
    "    maxx = -99999999\n",
    "    for i in arr:\n",
    "        if maxx < i:\n",
    "            maxx = i\n",
    "    return maxx"
   ]
  },
  {
   "cell_type": "code",
   "execution_count": 10,
   "id": "7424c74c",
   "metadata": {},
   "outputs": [
    {
     "data": {
      "text/plain": [
       "433"
      ]
     },
     "execution_count": 10,
     "metadata": {},
     "output_type": "execute_result"
    }
   ],
   "source": [
    "list_max([23,32,433,22,13,33,222,22,32,1,2,32,232,22])"
   ]
  },
  {
   "cell_type": "markdown",
   "id": "833357d8",
   "metadata": {},
   "source": [
    "- Write a Python program to find second largest number in a list?\n"
   ]
  },
  {
   "cell_type": "code",
   "execution_count": 13,
   "id": "ca87068d",
   "metadata": {},
   "outputs": [],
   "source": [
    "# This Function wil give second largest number:\n",
    "def second_larg(arr):\n",
    "    new_arr = arr.copy() #this will not chane orignal list\n",
    "    max_num = list_max(new_arr)\n",
    "    new_arr.remove(max_num)\n",
    "    return list_max(new_arr)"
   ]
  },
  {
   "cell_type": "code",
   "execution_count": 14,
   "id": "5aee1b0c",
   "metadata": {},
   "outputs": [
    {
     "data": {
      "text/plain": [
       "232"
      ]
     },
     "execution_count": 14,
     "metadata": {},
     "output_type": "execute_result"
    }
   ],
   "source": [
    "second_larg([23,32,433,22,13,33,222,22,32,1,2,32,232,22])"
   ]
  },
  {
   "cell_type": "markdown",
   "id": "cf13efc8",
   "metadata": {},
   "source": [
    "- Write a Python program to find N largest elements from a list?"
   ]
  },
  {
   "cell_type": "code",
   "execution_count": 18,
   "id": "7249f6b2",
   "metadata": {},
   "outputs": [],
   "source": [
    "def n_largest(arr, n):\n",
    "    new_arr = arr.copy() #this will not chane orignal list\n",
    "    if n > len(arr):\n",
    "        return -1\n",
    "    for i in range(n-2):\n",
    "        max_num = list_max(new_arr)\n",
    "        new_arr.remove(max_num)\n",
    "    \n",
    "    return list_max(new_arr)"
   ]
  },
  {
   "cell_type": "code",
   "execution_count": 19,
   "id": "4aa53018",
   "metadata": {},
   "outputs": [
    {
     "data": {
      "text/plain": [
       "33"
      ]
     },
     "execution_count": 19,
     "metadata": {},
     "output_type": "execute_result"
    }
   ],
   "source": [
    "n_largest([23,32,433,22,13,33,222,22,32,1,2,32,232,22], 5)"
   ]
  },
  {
   "cell_type": "markdown",
   "id": "7ecabba7",
   "metadata": {},
   "source": [
    "- Write a Python program to print even numbers in a list?"
   ]
  },
  {
   "cell_type": "code",
   "execution_count": 20,
   "id": "a9da75ae",
   "metadata": {},
   "outputs": [],
   "source": [
    "def print_even(arr):\n",
    "    print(\"Even number in the given list are :\")\n",
    "    for i in arr:\n",
    "        if i%2==0:\n",
    "            print(i, end = \" \")"
   ]
  },
  {
   "cell_type": "code",
   "execution_count": 21,
   "id": "7114f0c4",
   "metadata": {},
   "outputs": [
    {
     "name": "stdout",
     "output_type": "stream",
     "text": [
      "Even number in the given list are :\n",
      "32 22 222 22 32 2 32 232 22 "
     ]
    }
   ],
   "source": [
    "print_even([23,32,433,22,13,33,222,22,32,1,2,32,232,22])"
   ]
  },
  {
   "cell_type": "markdown",
   "id": "af02071a",
   "metadata": {},
   "source": [
    "- Write a Python program to print odd numbers in a List?"
   ]
  },
  {
   "cell_type": "code",
   "execution_count": 22,
   "id": "78f03cc5",
   "metadata": {},
   "outputs": [],
   "source": [
    "def print_odd(arr):\n",
    "    print(\"Odd numbers in the given list are :\")\n",
    "    for i in arr:\n",
    "        if i%2!=0:\n",
    "            print(i, end = \" \")"
   ]
  },
  {
   "cell_type": "code",
   "execution_count": 23,
   "id": "31720629",
   "metadata": {},
   "outputs": [
    {
     "name": "stdout",
     "output_type": "stream",
     "text": [
      "Odd numbers in the given list are :\n",
      "23 433 13 33 1 "
     ]
    }
   ],
   "source": [
    "print_odd([23,32,433,22,13,33,222,22,32,1,2,32,232,22])"
   ]
  },
  {
   "cell_type": "markdown",
   "id": "dbaa8231",
   "metadata": {},
   "source": [
    "- Write a Python program to Remove empty List from List?"
   ]
  },
  {
   "cell_type": "code",
   "execution_count": 24,
   "id": "48c530a6",
   "metadata": {},
   "outputs": [],
   "source": [
    "# This program will take list of lists and remove empty list:\n",
    "def remove_empty(arr):\n",
    "    while [] in arr:\n",
    "        arr.remove([])"
   ]
  },
  {
   "cell_type": "code",
   "execution_count": 25,
   "id": "8db30e94",
   "metadata": {},
   "outputs": [
    {
     "name": "stdout",
     "output_type": "stream",
     "text": [
      "[[1, 2, 3, 4], [1, 2, 2, 2, 3], [7, 7, 7, 7, 7]]\n"
     ]
    }
   ],
   "source": [
    "test = [[1,2,3,4],[],[1,2,2,2,3],[],[7,7,7,7,7],[]]\n",
    "remove_empty(test)\n",
    "print(test)"
   ]
  },
  {
   "cell_type": "markdown",
   "id": "95e67346",
   "metadata": {},
   "source": [
    "- Write a Python program to Cloning or Copying a list?"
   ]
  },
  {
   "cell_type": "code",
   "execution_count": 26,
   "id": "4b11744e",
   "metadata": {},
   "outputs": [],
   "source": [
    "def Copy(li1):\n",
    "    li_copy = [i for i in li1]\n",
    "    return li_copy"
   ]
  },
  {
   "cell_type": "code",
   "execution_count": 27,
   "id": "cc4446c5",
   "metadata": {},
   "outputs": [
    {
     "name": "stdout",
     "output_type": "stream",
     "text": [
      "Old List :  [1, 2, 2, 3, 3, 4, 4, 5, 4, 56, 5, 4, 64, 564]\n",
      "Copyed New List :  [1, 2, 2, 3, 3, 4, 4, 5, 4, 56, 5, 4, 64, 564]\n"
     ]
    }
   ],
   "source": [
    "old = [1,2,2,3,3,4,4,5,4,56,5,4,64,564]\n",
    "new_li = Copy(old)\n",
    "print(\"Old List : \", old)\n",
    "print(\"Copyed New List : \", new_li)"
   ]
  },
  {
   "cell_type": "markdown",
   "id": "ff940d4d",
   "metadata": {},
   "source": [
    "- Write a Python program to Count occurrences of an element in a list?"
   ]
  },
  {
   "cell_type": "code",
   "execution_count": 29,
   "id": "0874e9ee",
   "metadata": {},
   "outputs": [],
   "source": [
    "def list_count(arr):\n",
    "    l = 0\n",
    "    for i in arr:\n",
    "        l += 1\n",
    "    return l"
   ]
  },
  {
   "cell_type": "code",
   "execution_count": 30,
   "id": "166ba2d9",
   "metadata": {},
   "outputs": [
    {
     "data": {
      "text/plain": [
       "14"
      ]
     },
     "execution_count": 30,
     "metadata": {},
     "output_type": "execute_result"
    }
   ],
   "source": [
    "list_count([1,2,2,3,3,4,4,5,4,56,5,4,64,564])"
   ]
  }
 ],
 "metadata": {
  "kernelspec": {
   "display_name": "Python 3 (ipykernel)",
   "language": "python",
   "name": "python3"
  },
  "language_info": {
   "codemirror_mode": {
    "name": "ipython",
    "version": 3
   },
   "file_extension": ".py",
   "mimetype": "text/x-python",
   "name": "python",
   "nbconvert_exporter": "python",
   "pygments_lexer": "ipython3",
   "version": "3.9.7"
  }
 },
 "nbformat": 4,
 "nbformat_minor": 5
}
