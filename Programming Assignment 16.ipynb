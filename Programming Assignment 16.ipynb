{
 "cells": [
  {
   "cell_type": "markdown",
   "id": "b51bd935",
   "metadata": {},
   "source": [
    "# Assignment 16"
   ]
  },
  {
   "cell_type": "markdown",
   "id": "f942e254",
   "metadata": {},
   "source": [
    "- Question1 : Write a function that stutters a word as if someone is struggling to read it. The first two letters are repeated twice with an ellipsis ... and space after each, and then the word is pronounced with a question mark ?."
   ]
  },
  {
   "cell_type": "code",
   "execution_count": 8,
   "id": "7434d45b",
   "metadata": {},
   "outputs": [],
   "source": [
    "def stutter(st):\n",
    "    if len(st)>=2 and st[0]!=\" \":\n",
    "        print(st[:2],\"...\",st[:2],\"...\",st+\"?\")"
   ]
  },
  {
   "cell_type": "code",
   "execution_count": 9,
   "id": "d46023ab",
   "metadata": {},
   "outputs": [
    {
     "name": "stdout",
     "output_type": "stream",
     "text": [
      "in ... in ... incredible?\n",
      "en ... en ... enthusiastic?\n",
      "ou ... ou ... outstanding?\n"
     ]
    }
   ],
   "source": [
    "test = [\"incredible\", \"enthusiastic\", \"outstanding\"]\n",
    "for i in test :\n",
    "    stutter(i) "
   ]
  },
  {
   "cell_type": "markdown",
   "id": "f3c77291",
   "metadata": {},
   "source": [
    "- Question 2 : Create a function that takes an angle in radians and returns the corresponding angle in degrees rounded to one decimal place."
   ]
  },
  {
   "cell_type": "code",
   "execution_count": 12,
   "id": "6248072d",
   "metadata": {},
   "outputs": [],
   "source": [
    "def rad_to_deg(rad):\n",
    "    return round(rad*180*7/22,1)"
   ]
  },
  {
   "cell_type": "code",
   "execution_count": 14,
   "id": "d4e4f405",
   "metadata": {},
   "outputs": [
    {
     "name": "stdout",
     "output_type": "stream",
     "text": [
      "10  radian --->  572.7  degree\n"
     ]
    }
   ],
   "source": [
    "print(10, \" radian ---> \",rad_to_deg(10),\" degree\")"
   ]
  },
  {
   "cell_type": "markdown",
   "id": "2896de9b",
   "metadata": {},
   "source": [
    "- Question 3 : In this challenge, establish if a given integer num is a Curzon number. If 1 plus 2 elevated to num is exactly divisible by 1 plus 2 multiplied by num, then num is a Curzon number.\n",
    "Given a non-negative integer num, implement a function that returns True if num is a Curzon number, or False otherwise."
   ]
  },
  {
   "cell_type": "code",
   "execution_count": 16,
   "id": "d1169888",
   "metadata": {},
   "outputs": [],
   "source": [
    "# This Function will generate an Boolen value according number\n",
    "def is_curzon(num):\n",
    "    a = 2**num + 1\n",
    "    b = 2*num + 1\n",
    "    return a%b==0"
   ]
  },
  {
   "cell_type": "code",
   "execution_count": 17,
   "id": "1a1df6e8",
   "metadata": {},
   "outputs": [
    {
     "name": "stdout",
     "output_type": "stream",
     "text": [
      "5  is Curzon :  True\n",
      "10  is Curzon :  False\n",
      "7  is Curzon :  False\n",
      "14  is Curzon :  True\n",
      "20  is Curzon :  False\n"
     ]
    }
   ],
   "source": [
    "num = [5, 10, 7, 14, 20]\n",
    "for i in num:\n",
    "    print(i, \" is Curzon : \", is_curzon(i))"
   ]
  },
  {
   "cell_type": "markdown",
   "id": "20e402fe",
   "metadata": {},
   "source": [
    "- Question 4 : Given the side length x find the area of a hexagon.\n"
   ]
  },
  {
   "cell_type": "code",
   "execution_count": 20,
   "id": "7bd02df7",
   "metadata": {},
   "outputs": [],
   "source": [
    "import math\n",
    "# This Function will take one input(side) and return area:\n",
    "def hex_area(x):\n",
    "    return round(x*x*3*math.sqrt(3)/2, 1)"
   ]
  },
  {
   "cell_type": "code",
   "execution_count": 21,
   "id": "01ff91bf",
   "metadata": {},
   "outputs": [
    {
     "name": "stdout",
     "output_type": "stream",
     "text": [
      "side = 1 cm : area : 2.6\n",
      "side = 2 cm : area : 10.4\n",
      "side = 3 cm : area : 23.4\n",
      "side = 4 cm : area : 41.6\n"
     ]
    }
   ],
   "source": [
    "print(\"side = 1 cm : area :\", hex_area(1))\n",
    "print(\"side = 2 cm : area :\", hex_area(2))\n",
    "print(\"side = 3 cm : area :\", hex_area(3))\n",
    "print(\"side = 4 cm : area :\", hex_area(4))"
   ]
  },
  {
   "cell_type": "markdown",
   "id": "7a55cebb",
   "metadata": {},
   "source": [
    "- Question 5 : Create a function that returns a base-2 (binary) representation of a base-10 (decimal) string number. To convert is simple: ((2) means base-2 and (10) means base-10) "
   ]
  },
  {
   "cell_type": "code",
   "execution_count": 3,
   "id": "9514af8b",
   "metadata": {},
   "outputs": [],
   "source": [
    "# Decimal to binary function, this will return string in binary value:\n",
    "def binary(num):\n",
    "    st = \"\"\n",
    "    while num:\n",
    "        if num%2==0:\n",
    "            st = \"0\" + st\n",
    "        else :\n",
    "            st = \"1\" + st\n",
    "        num = num//2\n",
    "    return st"
   ]
  },
  {
   "cell_type": "code",
   "execution_count": 2,
   "id": "048e47e7",
   "metadata": {},
   "outputs": [
    {
     "name": "stdout",
     "output_type": "stream",
     "text": [
      "10 ---> 1010\n",
      "5 ---> 101\n",
      "15 ---> 1111\n",
      "45 ---> 101101\n",
      "205 ---> 11001101\n"
     ]
    }
   ],
   "source": [
    "num = [10,5,15,45,205]\n",
    "for i in num:\n",
    "    print(i, \"--->\", binary(i))"
   ]
  },
  {
   "cell_type": "code",
   "execution_count": 23,
   "id": "055dd288",
   "metadata": {},
   "outputs": [],
   "source": [
    "# Didn't read Question Properly:\n",
    "# This Function will convert binary into decimal\n",
    "def bin_to_dec(st):\n",
    "    summ, l = 0, len(st)\n",
    "    a = [1]\n",
    "    [a.append(a[-1]*2) for i in range(l-1)]\n",
    "    new_st = st[::-1]\n",
    "    for i in range(l):\n",
    "        summ += a[i]*int(new_st[i])\n",
    "    return summ"
   ]
  },
  {
   "cell_type": "code",
   "execution_count": 24,
   "id": "24bb12ef",
   "metadata": {},
   "outputs": [
    {
     "name": "stdout",
     "output_type": "stream",
     "text": [
      "101101 --> 45\n",
      "11001101 --> 205\n",
      "1111 --> 15\n",
      "101 --> 5\n"
     ]
    }
   ],
   "source": [
    "test = [\"101101\", \"11001101\",\"1111\", \"101\"]\n",
    "for i in test:\n",
    "    print(i, \"-->\",bin_to_dec(i))"
   ]
  }
 ],
 "metadata": {
  "kernelspec": {
   "display_name": "Python 3 (ipykernel)",
   "language": "python",
   "name": "python3"
  },
  "language_info": {
   "codemirror_mode": {
    "name": "ipython",
    "version": 3
   },
   "file_extension": ".py",
   "mimetype": "text/x-python",
   "name": "python",
   "nbconvert_exporter": "python",
   "pygments_lexer": "ipython3",
   "version": "3.9.7"
  }
 },
 "nbformat": 4,
 "nbformat_minor": 5
}
