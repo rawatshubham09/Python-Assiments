{
 "cells": [
  {
   "cell_type": "markdown",
   "id": "a732e6be",
   "metadata": {},
   "source": [
    "# Assignment 7"
   ]
  },
  {
   "cell_type": "markdown",
   "id": "f51b171b",
   "metadata": {},
   "source": [
    "- Write a Python Program to find sum of array"
   ]
  },
  {
   "cell_type": "code",
   "execution_count": 2,
   "id": "8c05c13a",
   "metadata": {},
   "outputs": [],
   "source": [
    "#Easy way to solve:\n",
    "def summ1(arr):\n",
    "    return sum(arr)"
   ]
  },
  {
   "cell_type": "code",
   "execution_count": 4,
   "id": "9c5a1f62",
   "metadata": {},
   "outputs": [],
   "source": [
    "#Without using \"sum\":\n",
    "def summ(arr):\n",
    "    s = 0\n",
    "    for i in arr:\n",
    "        s += i\n",
    "    return s"
   ]
  },
  {
   "cell_type": "markdown",
   "id": "61902a81",
   "metadata": {},
   "source": [
    "- Python program to find largest element in an array?"
   ]
  },
  {
   "cell_type": "code",
   "execution_count": 5,
   "id": "e214be4b",
   "metadata": {},
   "outputs": [],
   "source": [
    "# Max element\n",
    "def max_ele(arr):\n",
    "    return max(arr)"
   ]
  },
  {
   "cell_type": "markdown",
   "id": "d3aec9e2",
   "metadata": {},
   "source": [
    "- Python Program for array rotation?"
   ]
  },
  {
   "cell_type": "code",
   "execution_count": 21,
   "id": "b076bdcd",
   "metadata": {},
   "outputs": [],
   "source": [
    "# function to return rotated arry:\n",
    "# This Function will return a reversed array\n",
    "def rotate(arr):\n",
    "    return arr[::-1]"
   ]
  },
  {
   "cell_type": "markdown",
   "id": "f3b3ee43",
   "metadata": {},
   "source": [
    "- Python Program to Split the array and add the first part to the end?"
   ]
  },
  {
   "cell_type": "code",
   "execution_count": 8,
   "id": "44475e43",
   "metadata": {},
   "outputs": [],
   "source": [
    "# Function :\n",
    "def flip_arry(arr):\n",
    "    m = len(arr)//2\n",
    "    return arr[m:] + arr[:m]"
   ]
  },
  {
   "cell_type": "markdown",
   "id": "f35227f3",
   "metadata": {},
   "source": [
    "- program to check if given array is Monotonic?"
   ]
  },
  {
   "cell_type": "code",
   "execution_count": 15,
   "id": "90d57dcb",
   "metadata": {},
   "outputs": [],
   "source": [
    "# an arry is called as monotonic when it is continuesly increasing or decreasing:\n",
    "def check(arr):\n",
    "    return all(arr[i]<=arr[i+1] for i in range(len(arr)-1)) or all(arr[i]>=arr[i+1] for i in range(len(arr)-1))"
   ]
  },
  {
   "cell_type": "markdown",
   "id": "1731accd",
   "metadata": {},
   "source": [
    "# Solution :"
   ]
  },
  {
   "cell_type": "markdown",
   "id": "694fdb36",
   "metadata": {},
   "source": [
    "## First :"
   ]
  },
  {
   "cell_type": "code",
   "execution_count": 18,
   "id": "d608ca2c",
   "metadata": {},
   "outputs": [
    {
     "name": "stdout",
     "output_type": "stream",
     "text": [
      "first function :  55\n",
      "Second Function :  55\n"
     ]
    }
   ],
   "source": [
    "# easy one:\n",
    "print(\"first function : \",summ1([1,2,3,4,5,6,7,8,9,10]))\n",
    "print(\"Second Function : \",summ([1,2,3,4,5,6,7,8,9,10]))"
   ]
  },
  {
   "cell_type": "markdown",
   "id": "deaea37b",
   "metadata": {},
   "source": [
    "## Second :"
   ]
  },
  {
   "cell_type": "code",
   "execution_count": 20,
   "id": "637616d9",
   "metadata": {},
   "outputs": [
    {
     "data": {
      "text/plain": [
       "342"
      ]
     },
     "execution_count": 20,
     "metadata": {},
     "output_type": "execute_result"
    }
   ],
   "source": [
    "# Return max element in arry\n",
    "max_ele([12,23,33,342,1])"
   ]
  },
  {
   "cell_type": "markdown",
   "id": "625bacea",
   "metadata": {},
   "source": [
    "## Third :"
   ]
  },
  {
   "cell_type": "code",
   "execution_count": 22,
   "id": "c20d7155",
   "metadata": {},
   "outputs": [
    {
     "data": {
      "text/plain": [
       "[9, 8, 7, 6, 5, 4, 3, 2, 1]"
      ]
     },
     "execution_count": 22,
     "metadata": {},
     "output_type": "execute_result"
    }
   ],
   "source": [
    "#Function which return rotated arry :\n",
    "rotate([1,2,3,4,5,6,7,8,9])"
   ]
  },
  {
   "cell_type": "markdown",
   "id": "a5c72d44",
   "metadata": {},
   "source": [
    "## Forth:"
   ]
  },
  {
   "cell_type": "code",
   "execution_count": 23,
   "id": "90010faa",
   "metadata": {},
   "outputs": [
    {
     "data": {
      "text/plain": [
       "[5, 6, 7, 8, 9, 1, 2, 3, 4]"
      ]
     },
     "execution_count": 23,
     "metadata": {},
     "output_type": "execute_result"
    }
   ],
   "source": [
    "#Flip and add function :\n",
    "flip_arry([1,2,3,4,5,6,7,8,9])"
   ]
  },
  {
   "cell_type": "markdown",
   "id": "5ee76428",
   "metadata": {},
   "source": [
    "## Fifth :"
   ]
  },
  {
   "cell_type": "code",
   "execution_count": 26,
   "id": "214f78d2",
   "metadata": {},
   "outputs": [
    {
     "name": "stdout",
     "output_type": "stream",
     "text": [
      "[1, 2, 3, 4, 5, 6]  :  True\n",
      "[5, 4, 3, 2, 1]  :  True\n",
      "[1, 1, 1, 1, 1, 1, 1]  :  True\n",
      "[2, 3, 1, 3, 2, 1, 2, 3, 4]  :  False\n",
      "[2, 2, 2, 3, 3, 3, 5, 5, 5]  :  True\n"
     ]
    }
   ],
   "source": [
    "# Check wether arry is monotonic or not :\n",
    "# this function will return True or False:\n",
    "test = [[1,2,3,4,5,6],\n",
    "        [5,4,3,2,1],\n",
    "        [1,1,1,1,1,1,1],\n",
    "        [2,3,1,3,2,1,2,3,4],\n",
    "        [2,2,2,3,3,3,5,5,5]]\n",
    "for i in test:\n",
    "    print(i, \" : \",check(i))"
   ]
  }
 ],
 "metadata": {
  "kernelspec": {
   "display_name": "Python 3 (ipykernel)",
   "language": "python",
   "name": "python3"
  },
  "language_info": {
   "codemirror_mode": {
    "name": "ipython",
    "version": 3
   },
   "file_extension": ".py",
   "mimetype": "text/x-python",
   "name": "python",
   "nbconvert_exporter": "python",
   "pygments_lexer": "ipython3",
   "version": "3.9.7"
  }
 },
 "nbformat": 4,
 "nbformat_minor": 5
}
