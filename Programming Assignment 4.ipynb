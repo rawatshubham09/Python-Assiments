{
 "cells": [
  {
   "cell_type": "markdown",
   "id": "81bad2aa",
   "metadata": {},
   "source": [
    "# Assignment 4"
   ]
  },
  {
   "cell_type": "markdown",
   "id": "7a8ea34b",
   "metadata": {},
   "source": [
    "- Write a program to find the Factorial of a Number?"
   ]
  },
  {
   "cell_type": "code",
   "execution_count": 1,
   "id": "caac42f6",
   "metadata": {},
   "outputs": [],
   "source": [
    "# this will give factor or any positive intiger\n",
    "def fact(num):\n",
    "    if num<2:\n",
    "        return 1\n",
    "    return num*fact(num-1)"
   ]
  },
  {
   "cell_type": "markdown",
   "id": "e1a9575f",
   "metadata": {},
   "source": [
    "- Write a program to display the multiplication Table?"
   ]
  },
  {
   "cell_type": "code",
   "execution_count": 2,
   "id": "73a16bee",
   "metadata": {},
   "outputs": [],
   "source": [
    "def table(num):\n",
    "    num = int(num)\n",
    "    for i in range(1,11):\n",
    "        print(\"{} * {} = {}\".format(num,i,num*i))"
   ]
  },
  {
   "cell_type": "markdown",
   "id": "ecbaf11a",
   "metadata": {},
   "source": [
    "- Write a program to print the Fabonacci sequence?"
   ]
  },
  {
   "cell_type": "code",
   "execution_count": 3,
   "id": "51dd9c1a",
   "metadata": {},
   "outputs": [],
   "source": [
    "# Give the nmber of terms yo want to print:\n",
    "def fibo(num):\n",
    "    a,b = 0,1  #initlising first 2 values\n",
    "    for i in range(num):\n",
    "        print(a, end=\", \")\n",
    "        temp = b\n",
    "        b = a+temp\n",
    "        a = temp"
   ]
  },
  {
   "cell_type": "markdown",
   "id": "46ebc526",
   "metadata": {},
   "source": [
    "- Program to check Armstrong Number?"
   ]
  },
  {
   "cell_type": "code",
   "execution_count": 17,
   "id": "9f519ba5",
   "metadata": {},
   "outputs": [],
   "source": [
    "\n",
    "def is_Armstrong(num):\n",
    "    numm,summ = int(num),0\n",
    "    poww = len(str(num))\n",
    "    while(numm):\n",
    "        a = numm%10\n",
    "        numm=numm//10\n",
    "        summ += a**poww\n",
    "    return int(num) == summ"
   ]
  },
  {
   "cell_type": "markdown",
   "id": "eef11f55",
   "metadata": {},
   "source": [
    "- Write a python Program to Find Armstrong Number in an interval?"
   ]
  },
  {
   "cell_type": "code",
   "execution_count": 5,
   "id": "dfa1b4fb",
   "metadata": {},
   "outputs": [],
   "source": [
    "def btw_armstrong(first, last):\n",
    "    for i in range(first+1,last): # this will give between values(mns without first and last number)\n",
    "        if is_Armstrong(i):\n",
    "            print(i, end=\", \")"
   ]
  },
  {
   "cell_type": "markdown",
   "id": "fadef4a0",
   "metadata": {},
   "source": [
    "- Write a program to Find the Sum of Natural Numbers?"
   ]
  },
  {
   "cell_type": "code",
   "execution_count": 6,
   "id": "a2f6446b",
   "metadata": {},
   "outputs": [],
   "source": [
    "def sum_of_natural(num):\n",
    "    return (num*(num+1))/2"
   ]
  },
  {
   "cell_type": "markdown",
   "id": "13920058",
   "metadata": {},
   "source": [
    "# Solution"
   ]
  },
  {
   "cell_type": "markdown",
   "id": "37a2420e",
   "metadata": {},
   "source": [
    "## First :"
   ]
  },
  {
   "cell_type": "code",
   "execution_count": 7,
   "id": "5d4d64de",
   "metadata": {},
   "outputs": [
    {
     "name": "stdout",
     "output_type": "stream",
     "text": [
      "Enter the number for factroial : 25\n"
     ]
    },
    {
     "data": {
      "text/plain": [
       "15511210043330985984000000"
      ]
     },
     "execution_count": 7,
     "metadata": {},
     "output_type": "execute_result"
    }
   ],
   "source": [
    "# factorial of a number:\n",
    "n = int(input(\"Enter the number for factroial : \"))\n",
    "fact(n)"
   ]
  },
  {
   "cell_type": "markdown",
   "id": "a2537f1a",
   "metadata": {},
   "source": [
    "## Second :"
   ]
  },
  {
   "cell_type": "code",
   "execution_count": 8,
   "id": "f5dd7420",
   "metadata": {},
   "outputs": [
    {
     "name": "stdout",
     "output_type": "stream",
     "text": [
      "Enter the number for printing table : 25\n",
      "25 * 1 = 25\n",
      "25 * 2 = 50\n",
      "25 * 3 = 75\n",
      "25 * 4 = 100\n",
      "25 * 5 = 125\n",
      "25 * 6 = 150\n",
      "25 * 7 = 175\n",
      "25 * 8 = 200\n",
      "25 * 9 = 225\n",
      "25 * 10 = 250\n"
     ]
    }
   ],
   "source": [
    "# multiplication table of a number :\n",
    "n = int(input(\"Enter the number for printing table : \"))\n",
    "table(n)"
   ]
  },
  {
   "cell_type": "markdown",
   "id": "969ecc98",
   "metadata": {},
   "source": [
    "## Third :"
   ]
  },
  {
   "cell_type": "code",
   "execution_count": 9,
   "id": "c32aed9c",
   "metadata": {},
   "outputs": [
    {
     "name": "stdout",
     "output_type": "stream",
     "text": [
      "Enter number to print fibnoic series to n terms :25\n",
      "0, 1, 1, 2, 3, 5, 8, 13, 21, 34, 55, 89, 144, 233, 377, 610, 987, 1597, 2584, 4181, 6765, 10946, 17711, 28657, 46368, "
     ]
    }
   ],
   "source": [
    "#Fibnoic Series up to \"n\" number of terms :\n",
    "n = int(input(\"Enter number to print fibnoic series to n terms :\"))\n",
    "fibo(n)"
   ]
  },
  {
   "cell_type": "markdown",
   "id": "f1451c13",
   "metadata": {},
   "source": [
    "## Forth :"
   ]
  },
  {
   "cell_type": "code",
   "execution_count": 15,
   "id": "8011784e",
   "metadata": {},
   "outputs": [
    {
     "name": "stdout",
     "output_type": "stream",
     "text": [
      "Enter number to check is armstrong or not :1634\n"
     ]
    },
    {
     "data": {
      "text/plain": [
       "False"
      ]
     },
     "execution_count": 15,
     "metadata": {},
     "output_type": "execute_result"
    }
   ],
   "source": [
    "# to check a number is armstrong or not :\n",
    "n = int(input(\"Enter number to check is armstrong or not :\"))\n",
    "is_Armstrong(n)"
   ]
  },
  {
   "cell_type": "markdown",
   "id": "fa6061c2",
   "metadata": {},
   "source": [
    "## Fifth :"
   ]
  },
  {
   "cell_type": "code",
   "execution_count": 19,
   "id": "d7a40250",
   "metadata": {},
   "outputs": [
    {
     "name": "stdout",
     "output_type": "stream",
     "text": [
      "Enter First number:10\n",
      "Enter Last number :10000\n",
      "153, 370, 371, 407, 1634, 8208, 9474, "
     ]
    }
   ],
   "source": [
    "# to print all armstrong number between series:\n",
    "first= int(input(\"Enter First number:\"))\n",
    "last = int(input(\"Enter Last number :\"))\n",
    "btw_armstrong(first, last)"
   ]
  },
  {
   "cell_type": "markdown",
   "id": "d767f296",
   "metadata": {},
   "source": [
    "## Sixth :"
   ]
  },
  {
   "cell_type": "code",
   "execution_count": 20,
   "id": "521ce737",
   "metadata": {},
   "outputs": [
    {
     "name": "stdout",
     "output_type": "stream",
     "text": [
      "Enter number20\n"
     ]
    },
    {
     "data": {
      "text/plain": [
       "210.0"
      ]
     },
     "execution_count": 20,
     "metadata": {},
     "output_type": "execute_result"
    }
   ],
   "source": [
    "# Sum of n natural numbers : \n",
    "num = int(input(\"Enter number\"))\n",
    "sum_of_natural(num)"
   ]
  }
 ],
 "metadata": {
  "kernelspec": {
   "display_name": "Python 3 (ipykernel)",
   "language": "python",
   "name": "python3"
  },
  "language_info": {
   "codemirror_mode": {
    "name": "ipython",
    "version": 3
   },
   "file_extension": ".py",
   "mimetype": "text/x-python",
   "name": "python",
   "nbconvert_exporter": "python",
   "pygments_lexer": "ipython3",
   "version": "3.9.7"
  }
 },
 "nbformat": 4,
 "nbformat_minor": 5
}
