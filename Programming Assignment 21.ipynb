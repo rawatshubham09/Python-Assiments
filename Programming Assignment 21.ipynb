{
 "cells": [
  {
   "cell_type": "markdown",
   "id": "d5e5d6fb",
   "metadata": {},
   "source": [
    "# Assignment 21"
   ]
  },
  {
   "cell_type": "markdown",
   "id": "8e9a7030",
   "metadata": {},
   "source": [
    "- Write a function that takes a list and a number as arguments. Add the number to the end of the list, then remove the first element of the list. The function should then return the updated list"
   ]
  },
  {
   "cell_type": "code",
   "execution_count": 2,
   "id": "0ccc74fc",
   "metadata": {},
   "outputs": [],
   "source": [
    "def next_in_line(arr, num):\n",
    "    if len(arr)==0:\n",
    "        return \"No list has been selected\"\n",
    "    new_arr = arr.copy()\n",
    "    new_arr.remove(arr[0])\n",
    "    new_arr.append(num)\n",
    "    return new_arr"
   ]
  },
  {
   "cell_type": "code",
   "execution_count": 4,
   "id": "584f1fc5",
   "metadata": {},
   "outputs": [
    {
     "name": "stdout",
     "output_type": "stream",
     "text": [
      "[5, 6, 7, 8, 9]   - 1 -   [6, 7, 8, 9, 1]\n",
      "[7, 6, 3, 23, 17]   - 10 -   [6, 3, 23, 17, 10]\n",
      "[1, 10, 20, 42]   - 6 -   [10, 20, 42, 6]\n",
      "[]   - 6 -   No list has been selected\n"
     ]
    }
   ],
   "source": [
    "test = [[[5, 6, 7, 8, 9], 1], [[7, 6, 3, 23, 17], 10], [[1, 10, 20, 42 ], 6], [[], 6]]\n",
    "for arr, num in test:\n",
    "    print(arr, \"  -\",num,\"-  \", next_in_line(arr,num))"
   ]
  },
  {
   "cell_type": "markdown",
   "id": "9c2e4955",
   "metadata": {},
   "source": [
    "- Create the function that takes a list of dictionaries and returns the sum of people's budgets."
   ]
  },
  {
   "cell_type": "code",
   "execution_count": 5,
   "id": "141465af",
   "metadata": {},
   "outputs": [],
   "source": [
    "def get_budgets(lis):\n",
    "    summ = 0\n",
    "    for i in lis:\n",
    "        summ += i[\"budget\"]\n",
    "    return summ"
   ]
  },
  {
   "cell_type": "code",
   "execution_count": 6,
   "id": "ff1e144b",
   "metadata": {},
   "outputs": [
    {
     "name": "stdout",
     "output_type": "stream",
     "text": [
      "Total Budgets :  65700\n",
      "Total Budgets :  62600\n"
     ]
    }
   ],
   "source": [
    "lis = [[{ \"name\": \"John\", \"age\": 21, \"budget\": 23000 },\n",
    "  { \"name\": \"Steve\",  \"age\": 32, \"budget\": 40000 },\n",
    "  { \"name\": \"Martin\",  \"age\": 16, \"budget\": 2700 }],\n",
    "  [{ \"name\": \"John\",  \"age\": 21, \"budget\": 29000 },\n",
    "  { \"name\": \"Steve\",  \"age\": 32, \"budget\": 32000 },\n",
    "  { \"name\": \"Martin\",  \"age\": 16, \"budget\": 1600 }]]\n",
    "\n",
    "for i in lis:\n",
    "    print(\"Total Budgets : \", get_budgets(i))"
   ]
  },
  {
   "cell_type": "markdown",
   "id": "931995b8",
   "metadata": {},
   "source": [
    "- Create a function that takes a string and returns a string with its letters in alphabetical order."
   ]
  },
  {
   "cell_type": "code",
   "execution_count": 18,
   "id": "9ce9b2a2",
   "metadata": {},
   "outputs": [],
   "source": [
    "# This Function will take one string and return in ordered way:\n",
    "def alphabet_soup(string):\n",
    "    a = list(string) # splitting alphabets\n",
    "    a.sort()         # shorting\n",
    "    return \"\".join(a)"
   ]
  },
  {
   "cell_type": "code",
   "execution_count": 20,
   "id": "821858b4",
   "metadata": {},
   "outputs": [
    {
     "name": "stdout",
     "output_type": "stream",
     "text": [
      "hello   =>   ehllo\n",
      "edabit   =>   abdeit\n",
      "hacker   =>   acehkr\n",
      "greek   =>   eegkr\n",
      "javascripts   =>   aacijprsstv\n"
     ]
    }
   ],
   "source": [
    "lis = [\"hello\",\"edabit\", \"hacker\", \"greek\", \"javascripts\"]\n",
    "for i in lis:\n",
    "    print(i, \"  =>  \", alphabet_soup(i))"
   ]
  },
  {
   "cell_type": "markdown",
   "id": "542b2b43",
   "metadata": {},
   "source": [
    "- Create a function that accepts the principal p, the term in years t, the interest rate r, and the number of compounding periods per year n. The function returns the value at the end of term rounded to the nearest cent."
   ]
  },
  {
   "cell_type": "code",
   "execution_count": 39,
   "id": "d3ff6b9a",
   "metadata": {},
   "outputs": [],
   "source": [
    "# This function take 4 inputs -> 1. Principle, 2. time, 3. rate, 4. and time per year:\n",
    "# It return amount\n",
    "def compound_interest(p, t, r, n) :\n",
    "    amount = p*((1 + r/n)**(t*n))\n",
    "    return round(amount,2)"
   ]
  },
  {
   "cell_type": "code",
   "execution_count": 38,
   "id": "c5dd80d1",
   "metadata": {},
   "outputs": [
    {
     "name": "stdout",
     "output_type": "stream",
     "text": [
      "105.0\n",
      "15399.26\n",
      "2007316.26\n"
     ]
    }
   ],
   "source": [
    "print(compound_interest(100, 1, 0.05, 1))\n",
    "print(compound_interest(3500, 15, 0.1, 4))\n",
    "print(compound_interest(100000, 20, 0.15, 365))"
   ]
  },
  {
   "cell_type": "markdown",
   "id": "6bdc3f53",
   "metadata": {},
   "source": [
    "- Write a function that takes a list of elements and returns only the integers."
   ]
  },
  {
   "cell_type": "code",
   "execution_count": 40,
   "id": "23718b5e",
   "metadata": {},
   "outputs": [],
   "source": [
    "def filter_list(lis):\n",
    "    a = []\n",
    "    for i in lis:\n",
    "        if isinstance(i, int) or isinstance(i, float) : # This will check if given data is \"int\" or \"float\"\n",
    "            a.append(i)\n",
    "    return a"
   ]
  },
  {
   "cell_type": "code",
   "execution_count": 41,
   "id": "f4c1deac",
   "metadata": {},
   "outputs": [
    {
     "ename": "NameError",
     "evalue": "name 'ra_arr' is not defined",
     "output_type": "error",
     "traceback": [
      "\u001b[1;31m---------------------------------------------------------------------------\u001b[0m",
      "\u001b[1;31mNameError\u001b[0m                                 Traceback (most recent call last)",
      "\u001b[1;32m~\\AppData\\Local\\Temp/ipykernel_14280/2906198002.py\u001b[0m in \u001b[0;36m<module>\u001b[1;34m\u001b[0m\n\u001b[0;32m      4\u001b[0m         [\"Nothing\", \"here\"]]\n\u001b[0;32m      5\u001b[0m \u001b[1;32mfor\u001b[0m \u001b[0mi\u001b[0m \u001b[1;32min\u001b[0m \u001b[0mtest\u001b[0m\u001b[1;33m:\u001b[0m\u001b[1;33m\u001b[0m\u001b[1;33m\u001b[0m\u001b[0m\n\u001b[1;32m----> 6\u001b[1;33m     \u001b[0mprint\u001b[0m\u001b[1;33m(\u001b[0m\u001b[0mi\u001b[0m\u001b[1;33m,\u001b[0m \u001b[1;34m\"  -->  \"\u001b[0m\u001b[1;33m,\u001b[0m \u001b[0mfilter_list\u001b[0m\u001b[1;33m(\u001b[0m\u001b[0mi\u001b[0m\u001b[1;33m)\u001b[0m\u001b[1;33m)\u001b[0m\u001b[1;33m\u001b[0m\u001b[1;33m\u001b[0m\u001b[0m\n\u001b[0m",
      "\u001b[1;32m~\\AppData\\Local\\Temp/ipykernel_14280/1891231704.py\u001b[0m in \u001b[0;36mfilter_list\u001b[1;34m(arr)\u001b[0m\n\u001b[0;32m      3\u001b[0m     \u001b[1;32mfor\u001b[0m \u001b[0mi\u001b[0m \u001b[1;32min\u001b[0m \u001b[0marr\u001b[0m\u001b[1;33m:\u001b[0m\u001b[1;33m\u001b[0m\u001b[1;33m\u001b[0m\u001b[0m\n\u001b[0;32m      4\u001b[0m         \u001b[1;32mif\u001b[0m \u001b[0misinstance\u001b[0m\u001b[1;33m(\u001b[0m\u001b[0mi\u001b[0m\u001b[1;33m,\u001b[0m \u001b[0mint\u001b[0m\u001b[1;33m)\u001b[0m \u001b[1;32mor\u001b[0m \u001b[0misinstance\u001b[0m\u001b[1;33m(\u001b[0m\u001b[0mi\u001b[0m\u001b[1;33m,\u001b[0m \u001b[0mfloat\u001b[0m\u001b[1;33m)\u001b[0m\u001b[1;33m:\u001b[0m\u001b[1;33m\u001b[0m\u001b[1;33m\u001b[0m\u001b[0m\n\u001b[1;32m----> 5\u001b[1;33m             \u001b[0mra_arr\u001b[0m\u001b[1;33m.\u001b[0m\u001b[0mappend\u001b[0m\u001b[1;33m(\u001b[0m\u001b[0mi\u001b[0m\u001b[1;33m)\u001b[0m\u001b[1;33m\u001b[0m\u001b[1;33m\u001b[0m\u001b[0m\n\u001b[0m\u001b[0;32m      6\u001b[0m     \u001b[1;32mreturn\u001b[0m \u001b[0mre_arr\u001b[0m\u001b[1;33m\u001b[0m\u001b[1;33m\u001b[0m\u001b[0m\n",
      "\u001b[1;31mNameError\u001b[0m: name 'ra_arr' is not defined"
     ]
    }
   ],
   "source": [
    "test = [[1, 2, \"a\", \"b\"], [1, \"a\", \"b\", 0, 15], \n",
    "        [1, 2, \"aasf\", \"1\", \"123\", 123], \n",
    "        [\"A\", 0, \"Edabit\", 1729, \"Python\", \"1729\"],\n",
    "        [\"Nothing\", \"here\"]]\n",
    "for i in test:\n",
    "    print(i, \"  -->  \", filter_list(i))"
   ]
  },
  {
   "cell_type": "code",
   "execution_count": null,
   "id": "17bf825f",
   "metadata": {},
   "outputs": [],
   "source": []
  }
 ],
 "metadata": {
  "kernelspec": {
   "display_name": "Python 3 (ipykernel)",
   "language": "python",
   "name": "python3"
  },
  "language_info": {
   "codemirror_mode": {
    "name": "ipython",
    "version": 3
   },
   "file_extension": ".py",
   "mimetype": "text/x-python",
   "name": "python",
   "nbconvert_exporter": "python",
   "pygments_lexer": "ipython3",
   "version": "3.9.7"
  }
 },
 "nbformat": 4,
 "nbformat_minor": 5
}
