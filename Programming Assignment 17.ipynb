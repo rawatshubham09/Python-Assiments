{
 "cells": [
  {
   "cell_type": "markdown",
   "id": "39f02d9c",
   "metadata": {},
   "source": [
    "# Assignment 17"
   ]
  },
  {
   "cell_type": "markdown",
   "id": "64da7370",
   "metadata": {},
   "source": [
    "- Create a function that takes three arguments a, b, c and returns the sum of the numbers that are evenly divided by c from the range a, b inclusive."
   ]
  },
  {
   "cell_type": "code",
   "execution_count": 3,
   "id": "eeb9b816",
   "metadata": {},
   "outputs": [],
   "source": [
    "# This Function will take 3 input and return sum of all number between a to b which are multiple of c\n",
    "def sum_of_div(a,b,c):\n",
    "    summ = 0\n",
    "    for i in range(a,b+1):\n",
    "        if i%c==0:\n",
    "            summ += i\n",
    "    return summ"
   ]
  },
  {
   "cell_type": "code",
   "execution_count": 5,
   "id": "77faf785",
   "metadata": {},
   "outputs": [
    {
     "name": "stdout",
     "output_type": "stream",
     "text": [
      "1 10 20 ----> 0\n",
      "1 10 2 ----> 30\n",
      "1 10 3 ----> 18\n"
     ]
    }
   ],
   "source": [
    "test = [[1, 10, 20], [1, 10, 2], [1, 10, 3]]\n",
    "for a,b,c in test:\n",
    "    print(a,b,c,\"---->\",sum_of_div(a,b,c))"
   ]
  },
  {
   "cell_type": "markdown",
   "id": "0a4327f8",
   "metadata": {},
   "source": [
    "- Create a function that returns True if a given inequality expression is correct and False otherwise."
   ]
  },
  {
   "cell_type": "code",
   "execution_count": 11,
   "id": "5a3ed854",
   "metadata": {},
   "outputs": [],
   "source": [
    "# This Function check given string and retuen True and False if valid\n",
    "def correct_signs(st):\n",
    "    lis = st.split()\n",
    "    lis2 = list(map(int,lis[::2]))\n",
    "    l = len(lis)\n",
    "    if lis[1]==\"<\":\n",
    "        temp = -99999999999999999\n",
    "        for i in lis2:\n",
    "            if temp < i:\n",
    "                temp = i\n",
    "            else :\n",
    "                return False\n",
    "    else :\n",
    "        temp = 99999999999999999\n",
    "        for i in lis2:\n",
    "            if temp > i:\n",
    "                temp = i\n",
    "            else :\n",
    "                return False\n",
    "    return True"
   ]
  },
  {
   "cell_type": "code",
   "execution_count": 10,
   "id": "f6d28445",
   "metadata": {},
   "outputs": [
    {
     "name": "stdout",
     "output_type": "stream",
     "text": [
      "3 < 7 < 11  :  True\n",
      "13 > 44 > 33 > 1  :  False\n",
      "1 < 2 < 6 < 9 > 3  :  False\n",
      "45 > 35 > 25 > 15 > 10 > 5  :  True\n"
     ]
    }
   ],
   "source": [
    "test = [\"3 < 7 < 11\", \"13 > 44 > 33 > 1\", \"1 < 2 < 6 < 9 > 3\", \"45 > 35 > 25 > 15 > 10 > 5\"]\n",
    "for i in test:\n",
    "    print(i, \" : \", correct_signs(i))"
   ]
  },
  {
   "cell_type": "markdown",
   "id": "f22df591",
   "metadata": {},
   "source": [
    "- Create a function that replaces all the vowels in a string with a specified character."
   ]
  },
  {
   "cell_type": "code",
   "execution_count": 14,
   "id": "ba87e5b9",
   "metadata": {},
   "outputs": [],
   "source": [
    "import re\n",
    "def replace(st, ch):\n",
    "    return re.sub(\"(?:[aeiou])\", ch, st)"
   ]
  },
  {
   "cell_type": "code",
   "execution_count": 15,
   "id": "0c6d1fc5",
   "metadata": {},
   "outputs": [
    {
     "name": "stdout",
     "output_type": "stream",
     "text": [
      "the aardvark   -->   th# ##rdv#rk\n",
      "minnie mouse   -->   m?nn?? m??s?\n",
      "shakespeare   -->   sh*k*sp**r*\n"
     ]
    }
   ],
   "source": [
    "test = [[\"the aardvark\", \"#\"], [\"minnie mouse\", \"?\"], [\"shakespeare\", \"*\"]]\n",
    "for st, ch in test:\n",
    "    print(st, \"  -->  \", replace(st,ch))"
   ]
  },
  {
   "cell_type": "markdown",
   "id": "ba763680",
   "metadata": {},
   "source": [
    "- Write a function that calculates the factorial of a number recursively."
   ]
  },
  {
   "cell_type": "code",
   "execution_count": 1,
   "id": "5582bcec",
   "metadata": {},
   "outputs": [],
   "source": [
    "# Recurssive Factorial\n",
    "def fact(num):\n",
    "    if num in [0,1]:\n",
    "        return 1\n",
    "    return num*fact(num-1)"
   ]
  },
  {
   "cell_type": "code",
   "execution_count": 3,
   "id": "a9e0d3c5",
   "metadata": {},
   "outputs": [
    {
     "name": "stdout",
     "output_type": "stream",
     "text": [
      "-  7  Factorial :  5040\n",
      "-  6  Factorial :  720\n",
      "-  5  Factorial :  120\n",
      "-  4  Factorial :  24\n",
      "-  3  Factorial :  6\n",
      "-  2  Factorial :  2\n",
      "-  1  Factorial :  1\n",
      "-  0  Factorial :  1\n"
     ]
    }
   ],
   "source": [
    "num = [7,6,5,4,3,2,1,0]\n",
    "for i in num:\n",
    "    print(\"- \",i, \" Factorial : \", fact(i))"
   ]
  },
  {
   "cell_type": "markdown",
   "id": "f1171b43",
   "metadata": {},
   "source": [
    "- Create a function that computes the hamming distance between two strings."
   ]
  },
  {
   "cell_type": "code",
   "execution_count": 4,
   "id": "e7c784a9",
   "metadata": {},
   "outputs": [],
   "source": [
    "# Hamming distance is the number of characters that differ between two strings.\n",
    "def hamming_distance(st1, st2):\n",
    "    l1,l2 = len(st1), len(st2)\n",
    "    t = 0\n",
    "    if l1>=l2 :\n",
    "        for i in range(l2):\n",
    "            if st1[i]!=st2[i]:\n",
    "                t += 1\n",
    "        t += l1-l2\n",
    "    else :\n",
    "        for i in range(l1):\n",
    "            if st1[i]!=st2[i]:\n",
    "                t += 1\n",
    "        t += l2-l1\n",
    "    return t"
   ]
  },
  {
   "cell_type": "code",
   "execution_count": 5,
   "id": "ee455430",
   "metadata": {},
   "outputs": [
    {
     "name": "stdout",
     "output_type": "stream",
     "text": [
      "abcde bcdef  -->  5\n",
      "abcde abcde  -->  0\n",
      "strong strung  -->  1\n"
     ]
    }
   ],
   "source": [
    "test = [[\"abcde\", \"bcdef\"], [\"abcde\", \"abcde\"], [\"strong\", \"strung\"]]\n",
    "for st1, st2 in test:\n",
    "    print(st1, st2, \" --> \", hamming_distance(st1, st2))"
   ]
  }
 ],
 "metadata": {
  "kernelspec": {
   "display_name": "Python 3 (ipykernel)",
   "language": "python",
   "name": "python3"
  },
  "language_info": {
   "codemirror_mode": {
    "name": "ipython",
    "version": 3
   },
   "file_extension": ".py",
   "mimetype": "text/x-python",
   "name": "python",
   "nbconvert_exporter": "python",
   "pygments_lexer": "ipython3",
   "version": "3.9.7"
  }
 },
 "nbformat": 4,
 "nbformat_minor": 5
}
