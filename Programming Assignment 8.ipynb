{
 "cells": [
  {
   "cell_type": "markdown",
   "id": "95e2d3b6",
   "metadata": {},
   "source": [
    "# Assignment 8"
   ]
  },
  {
   "cell_type": "markdown",
   "id": "680b6917",
   "metadata": {},
   "source": [
    "- Write a Python Program to Add Two Matrices?"
   ]
  },
  {
   "cell_type": "code",
   "execution_count": 1,
   "id": "fdb4dcdd",
   "metadata": {},
   "outputs": [],
   "source": [
    "import numpy as np\n",
    "# function to add two matrices :\n",
    "def add(arr1, arr2):\n",
    "    return np.add(arr1, arr2)"
   ]
  },
  {
   "cell_type": "markdown",
   "id": "a0f65312",
   "metadata": {},
   "source": [
    "- Write a Python Program to Multiply Two Matrices?"
   ]
  },
  {
   "cell_type": "code",
   "execution_count": 2,
   "id": "e1c255fb",
   "metadata": {},
   "outputs": [],
   "source": [
    "# function to Multiply two matrices :\n",
    "def mult(arr1, arr2):\n",
    "    return np.multiply(arr1, arr2)"
   ]
  },
  {
   "cell_type": "markdown",
   "id": "ff7e43a5",
   "metadata": {},
   "source": [
    "- Write a Python Program to Transpose a Matrix?"
   ]
  },
  {
   "cell_type": "code",
   "execution_count": 12,
   "id": "ed6b7201",
   "metadata": {},
   "outputs": [],
   "source": [
    "# function for converting matrics as transpose matrics :\n",
    "def transpose(arr):\n",
    "    return arr.T"
   ]
  },
  {
   "cell_type": "markdown",
   "id": "c65301a2",
   "metadata": {},
   "source": [
    "- Write a Python Program to Sort Words in Alphabetic Order?"
   ]
  },
  {
   "cell_type": "code",
   "execution_count": 17,
   "id": "f5aabcf7",
   "metadata": {},
   "outputs": [],
   "source": [
    "def alpha_sort(arr):\n",
    "    arr.sort()\n",
    "    for i in arr:\n",
    "        print"
   ]
  },
  {
   "cell_type": "markdown",
   "id": "86d9e16f",
   "metadata": {},
   "source": [
    "- Write a Python Program to Remove Punctuation From a String?"
   ]
  },
  {
   "cell_type": "code",
   "execution_count": 6,
   "id": "48c6e103",
   "metadata": {},
   "outputs": [],
   "source": [
    "def remove_punc(s):\n",
    "    punc = '''!()-[]{};:'\"\\,<>./?@#$%^&*_~'''\n",
    "    for i in s:\n",
    "        if i in punc:\n",
    "            s = s.replace(i, \"\")\n",
    "    return s"
   ]
  },
  {
   "cell_type": "markdown",
   "id": "2743fd82",
   "metadata": {},
   "source": [
    "# Solution :"
   ]
  },
  {
   "cell_type": "markdown",
   "id": "75286e9b",
   "metadata": {},
   "source": [
    "## 1 :"
   ]
  },
  {
   "cell_type": "code",
   "execution_count": 7,
   "id": "1021dd8e",
   "metadata": {},
   "outputs": [],
   "source": [
    "# Creating two matrix using numpy library:\n",
    "x = np.array([[1,2,3],[2,3,4],[3,4,5]])\n",
    "y = np.array([[2,3,4],[3,4,5],[4,5,6]])"
   ]
  },
  {
   "cell_type": "code",
   "execution_count": 8,
   "id": "2bdb6d51",
   "metadata": {},
   "outputs": [
    {
     "data": {
      "text/plain": [
       "array([[ 3,  5,  7],\n",
       "       [ 5,  7,  9],\n",
       "       [ 7,  9, 11]])"
      ]
     },
     "execution_count": 8,
     "metadata": {},
     "output_type": "execute_result"
    }
   ],
   "source": [
    "add(x,y)"
   ]
  },
  {
   "cell_type": "markdown",
   "id": "a06e2852",
   "metadata": {},
   "source": [
    "## 2:"
   ]
  },
  {
   "cell_type": "code",
   "execution_count": 9,
   "id": "887479a7",
   "metadata": {},
   "outputs": [
    {
     "data": {
      "text/plain": [
       "array([[ 2,  6, 12],\n",
       "       [ 6, 12, 20],\n",
       "       [12, 20, 30]])"
      ]
     },
     "execution_count": 9,
     "metadata": {},
     "output_type": "execute_result"
    }
   ],
   "source": [
    "mult(x,y)"
   ]
  },
  {
   "cell_type": "markdown",
   "id": "60197aa8",
   "metadata": {},
   "source": [
    "## 3 :"
   ]
  },
  {
   "cell_type": "code",
   "execution_count": 15,
   "id": "bee1c8da",
   "metadata": {},
   "outputs": [
    {
     "name": "stdout",
     "output_type": "stream",
     "text": [
      "[[  2   3  34]\n",
      " [ 23 232   1]\n",
      " [  2  32  11]]\n",
      " -  -  -  -  -  -  -  -  -  -  -  -  -  -  -  -  -  -  -  -  -  -  -  -  -  -  -  -  -  - \n",
      "[[  2  23   2]\n",
      " [  3 232  32]\n",
      " [ 34   1  11]]\n"
     ]
    }
   ],
   "source": [
    "n = np.array([[2,3,34],[23,232,1],[2,32,11]])\n",
    "print(n)\n",
    "print(\" - \"*30)\n",
    "print(transpose(n))"
   ]
  },
  {
   "cell_type": "markdown",
   "id": "14ab11c5",
   "metadata": {},
   "source": [
    "## 4 :"
   ]
  },
  {
   "cell_type": "code",
   "execution_count": 19,
   "id": "6aa979ba",
   "metadata": {},
   "outputs": [
    {
     "name": "stdout",
     "output_type": "stream",
     "text": [
      "None\n"
     ]
    }
   ],
   "source": [
    "print(alpha_sort([\"mango\",\"banana\",\"grapes\",\"apple\"]))"
   ]
  },
  {
   "cell_type": "markdown",
   "id": "31bdac2b",
   "metadata": {},
   "source": [
    "## 5 :"
   ]
  },
  {
   "cell_type": "code",
   "execution_count": 22,
   "id": "2b4e415d",
   "metadata": {},
   "outputs": [
    {
     "name": "stdout",
     "output_type": "stream",
     "text": [
      "Enter new String with  Punctuation :- This is, new function? that will>< reduce every! things,\n",
      "This is new function that will reduce every things\n"
     ]
    }
   ],
   "source": [
    "#This function remove all  Punctuation and return new string :\n",
    "s = input(\"Enter new String with  Punctuation :- \")\n",
    "print(remove_punc(s))"
   ]
  }
 ],
 "metadata": {
  "kernelspec": {
   "display_name": "Python 3 (ipykernel)",
   "language": "python",
   "name": "python3"
  },
  "language_info": {
   "codemirror_mode": {
    "name": "ipython",
    "version": 3
   },
   "file_extension": ".py",
   "mimetype": "text/x-python",
   "name": "python",
   "nbconvert_exporter": "python",
   "pygments_lexer": "ipython3",
   "version": "3.9.7"
  }
 },
 "nbformat": 4,
 "nbformat_minor": 5
}
