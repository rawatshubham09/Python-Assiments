{
 "cells": [
  {
   "cell_type": "markdown",
   "id": "553084f6",
   "metadata": {},
   "source": [
    "# Assignment 25"
   ]
  },
  {
   "cell_type": "markdown",
   "id": "51f6cb54",
   "metadata": {},
   "source": [
    "- Create a function that takes three integer arguments (a, b, c) and returns the amount of integers which are of equal value"
   ]
  },
  {
   "cell_type": "code",
   "execution_count": 1,
   "id": "95f953cc",
   "metadata": {},
   "outputs": [],
   "source": [
    "def equal(a, b, c):\n",
    "    count = 0\n",
    "    if b==a:\n",
    "        count += 1\n",
    "    if c==a:\n",
    "        count += 1\n",
    "    if c==a:\n",
    "        count += 1\n",
    "    return count"
   ]
  },
  {
   "cell_type": "code",
   "execution_count": 3,
   "id": "e7c6a9d4",
   "metadata": {},
   "outputs": [
    {
     "name": "stdout",
     "output_type": "stream",
     "text": [
      "1 2 1  equals :  2\n",
      "2 2 2  equals :  3\n",
      "1 2 3  equals :  0\n",
      "a b a  equals :  2\n"
     ]
    }
   ],
   "source": [
    "test = [[1,2,1], [2,2,2], [1,2,3], ['a','b','a']]\n",
    "for a,b,c in test:\n",
    "    print(a,b,c, \" equals : \", equal(a,b,c))"
   ]
  },
  {
   "cell_type": "markdown",
   "id": "f977a743",
   "metadata": {},
   "source": [
    "- Write a function that converts a dictionary into a list of keys-values tuples."
   ]
  },
  {
   "cell_type": "code",
   "execution_count": 5,
   "id": "70b97950",
   "metadata": {},
   "outputs": [],
   "source": [
    "def dict_to_list(dic):\n",
    "    arr = []\n",
    "    for key, val in dic.items():\n",
    "        arr.append((key,val))\n",
    "    arr.sort()\n",
    "    return arr"
   ]
  },
  {
   "cell_type": "code",
   "execution_count": 6,
   "id": "c75e726c",
   "metadata": {},
   "outputs": [
    {
     "name": "stdout",
     "output_type": "stream",
     "text": [
      "{'D': 1, 'B': 2, 'C': 3}  Dictnary to List :-  [('B', 2), ('C', 3), ('D', 1)]\n",
      "{'likes': 2, 'dislikes': 3, 'followers': 10}  Dictnary to List :-  [('dislikes', 3), ('followers', 10), ('likes', 2)]\n"
     ]
    }
   ],
   "source": [
    "test_dict = [{\"D\": 1, \"B\": 2, \"C\": 3 },\n",
    "             { \"likes\": 2, \"dislikes\": 3, \"followers\": 10 } ]\n",
    "for dic in test_dict:\n",
    "    print(dic, \" Dictnary to List :- \", dict_to_list(dic))"
   ]
  },
  {
   "cell_type": "markdown",
   "id": "bbc0e2c2",
   "metadata": {},
   "source": [
    "- Write a function that creates a dictionary with each (key, value) pair being the (lower case, upper case) versions of a letter, respectively."
   ]
  },
  {
   "cell_type": "code",
   "execution_count": 7,
   "id": "1831ceec",
   "metadata": {},
   "outputs": [],
   "source": [
    "def mapping(lis):\n",
    "    dic = {}\n",
    "    for i in lis:\n",
    "        dic[i]=i.upper()\n",
    "    return dic"
   ]
  },
  {
   "cell_type": "code",
   "execution_count": 8,
   "id": "7e42d864",
   "metadata": {},
   "outputs": [
    {
     "name": "stdout",
     "output_type": "stream",
     "text": [
      "['p', 's']  list converted into dictnary :-  {'p': 'P', 's': 'S'}\n",
      "['a', 'b', 'c']  list converted into dictnary :-  {'a': 'A', 'b': 'B', 'c': 'C'}\n",
      "['a', 'v', 'y', 'z']  list converted into dictnary :-  {'a': 'A', 'v': 'V', 'y': 'Y', 'z': 'Z'}\n"
     ]
    }
   ],
   "source": [
    "dict_list = [['p','s'], ['a','b','c'], ['a', 'v', 'y', 'z']]\n",
    "for lis in dict_list:\n",
    "    print(lis, \" list converted into dictnary :- \", mapping(lis))"
   ]
  },
  {
   "cell_type": "markdown",
   "id": "9755892b",
   "metadata": {},
   "source": [
    "- Write a function, that replaces all vowels in a string with a specified vowel."
   ]
  },
  {
   "cell_type": "code",
   "execution_count": 9,
   "id": "e37460b9",
   "metadata": {},
   "outputs": [],
   "source": [
    "import re\n",
    "def vow_replace(st, ch):\n",
    "    new_st = re.sub(\"(?:[aeiou])\", ch, st)\n",
    "    return new_st"
   ]
  },
  {
   "cell_type": "code",
   "execution_count": 11,
   "id": "a0df60e0",
   "metadata": {},
   "outputs": [
    {
     "name": "stdout",
     "output_type": "stream",
     "text": [
      "apples and bananas replace all vovles with - u - :-   upplus und bununus\n",
      "cheese casserole replace all vovles with - o - :-   chooso cossorolo\n",
      "stuffed jalapeno poppers replace all vovles with - e - :-   steffed jelepene peppers\n"
     ]
    }
   ],
   "source": [
    "test = [[\"apples and bananas\", \"u\"], [\"cheese casserole\", \"o\"], [\"stuffed jalapeno poppers\", \"e\"]]\n",
    "for st, ch in test:\n",
    "    print(st, \"replace all vovles with -\", ch, \"- :-  \", vow_replace(st, ch))"
   ]
  },
  {
   "cell_type": "markdown",
   "id": "a3c15533",
   "metadata": {},
   "source": [
    "- Create a function that takes a string as input and capitalizes a letter if its ASCII code is even and returns its lower case version if its ASCII code is odd."
   ]
  },
  {
   "cell_type": "code",
   "execution_count": 12,
   "id": "06678ba4",
   "metadata": {},
   "outputs": [],
   "source": [
    "def ascii_capitalize(st):\n",
    "    new_st = \"\"\n",
    "    for i in st:\n",
    "        if ord(i)%2==0:\n",
    "            new_st += i.upper()\n",
    "        else:\n",
    "            new_st += i.lower()\n",
    "    return new_st"
   ]
  },
  {
   "cell_type": "code",
   "execution_count": 14,
   "id": "3ec2aa9d",
   "metadata": {},
   "outputs": [
    {
     "name": "stdout",
     "output_type": "stream",
     "text": [
      "to be or not to be! >---- converted------> To Be oR NoT To Be!\n",
      "THE LITTLE MERMAID >---- converted------> THe LiTTLe meRmaiD\n",
      "Oh what a beautiful morning. >---- converted------> oH wHaT a BeauTiFuL moRNiNg.\n"
     ]
    }
   ],
   "source": [
    "test_str = [\"to be or not to be!\", \"THE LITTLE MERMAID\", \"Oh what a beautiful morning.\"]\n",
    "for i in test_str:\n",
    "    print(i , \">---- converted------>\", ascii_capitalize(i))"
   ]
  }
 ],
 "metadata": {
  "kernelspec": {
   "display_name": "Python 3 (ipykernel)",
   "language": "python",
   "name": "python3"
  },
  "language_info": {
   "codemirror_mode": {
    "name": "ipython",
    "version": 3
   },
   "file_extension": ".py",
   "mimetype": "text/x-python",
   "name": "python",
   "nbconvert_exporter": "python",
   "pygments_lexer": "ipython3",
   "version": "3.9.7"
  }
 },
 "nbformat": 4,
 "nbformat_minor": 5
}
