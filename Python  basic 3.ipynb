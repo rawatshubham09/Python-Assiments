{
 "cells": [
  {
   "cell_type": "markdown",
   "id": "ac09f389",
   "metadata": {},
   "source": [
    "## Programming basic : No. 3"
   ]
  },
  {
   "cell_type": "markdown",
   "id": "9cc50255",
   "metadata": {},
   "source": [
    "- Write a Python Program to Check if a number is Positive, Negative or Zero?"
   ]
  },
  {
   "cell_type": "code",
   "execution_count": 2,
   "id": "0b773261",
   "metadata": {},
   "outputs": [],
   "source": [
    "def num_check(num):\n",
    "    if num>0:\n",
    "        print(\"Positive\")\n",
    "    elif num<0:\n",
    "        print(\"Negative\")\n",
    "    else:\n",
    "        print(\"Zero\")"
   ]
  },
  {
   "cell_type": "markdown",
   "id": "3154a707",
   "metadata": {},
   "source": [
    "- Write a Python Program to Check if a Number is Odd or Even?"
   ]
  },
  {
   "cell_type": "code",
   "execution_count": 3,
   "id": "79322f9c",
   "metadata": {},
   "outputs": [],
   "source": [
    "def even_odd(num):\n",
    "    if num%2==0:\n",
    "        print(\"Even\")\n",
    "    else:\n",
    "        print(\"Odd\")"
   ]
  },
  {
   "cell_type": "markdown",
   "id": "148c3f86",
   "metadata": {},
   "source": [
    "- Write a Python Program to Check Leap Year?"
   ]
  },
  {
   "cell_type": "code",
   "execution_count": 4,
   "id": "bffba69c",
   "metadata": {},
   "outputs": [],
   "source": [
    "def is_leap(yr):\n",
    "    if (yr%400==0) or (yr%4==0 and yr%100 != 0):\n",
    "        print(\"------ Leap Year --------\")\n",
    "    else:\n",
    "        print(\"----- Not Leap Year ------\")"
   ]
  },
  {
   "cell_type": "markdown",
   "id": "7f40f70a",
   "metadata": {},
   "source": [
    "- Write a Python Program to Check Prime Number?"
   ]
  },
  {
   "cell_type": "code",
   "execution_count": 5,
   "id": "e010640e",
   "metadata": {},
   "outputs": [],
   "source": [
    "import math\n",
    "def is_prime(num):\n",
    "    a = round(math.sqrt(num))\n",
    "    for i in range(2,a+1):\n",
    "        if num%i==0:\n",
    "            return False\n",
    "    return True"
   ]
  },
  {
   "cell_type": "markdown",
   "id": "909855a3",
   "metadata": {},
   "source": [
    "- Write a Python Program to Print all Prime Numbers in an interval of 1-10000?"
   ]
  },
  {
   "cell_type": "code",
   "execution_count": 15,
   "id": "2aade780",
   "metadata": {},
   "outputs": [],
   "source": [
    "# this function will print all prime number between given numbers:\n",
    "def btw_prime(a,z):\n",
    "    for i in range(a,z+1):\n",
    "        if is_prime(i):\n",
    "            print(i, end=\",\")"
   ]
  },
  {
   "cell_type": "markdown",
   "id": "5710e337",
   "metadata": {},
   "source": [
    "## Solutions"
   ]
  },
  {
   "cell_type": "markdown",
   "id": "9c788cc1",
   "metadata": {},
   "source": [
    "### First :"
   ]
  },
  {
   "cell_type": "code",
   "execution_count": 7,
   "id": "f7e31db2",
   "metadata": {},
   "outputs": [
    {
     "name": "stdout",
     "output_type": "stream",
     "text": [
      "Positive\n"
     ]
    }
   ],
   "source": [
    "num_check(100)"
   ]
  },
  {
   "cell_type": "code",
   "execution_count": 8,
   "id": "c4cda5e7",
   "metadata": {},
   "outputs": [
    {
     "name": "stdout",
     "output_type": "stream",
     "text": [
      "Negative\n"
     ]
    }
   ],
   "source": [
    "num_check(-210)"
   ]
  },
  {
   "cell_type": "code",
   "execution_count": 9,
   "id": "47f9437e",
   "metadata": {},
   "outputs": [
    {
     "name": "stdout",
     "output_type": "stream",
     "text": [
      "Zero\n"
     ]
    }
   ],
   "source": [
    "num_check(0)"
   ]
  },
  {
   "cell_type": "markdown",
   "id": "6b79bd69",
   "metadata": {},
   "source": [
    "###  Second :"
   ]
  },
  {
   "cell_type": "code",
   "execution_count": 10,
   "id": "731f7430",
   "metadata": {},
   "outputs": [
    {
     "name": "stdout",
     "output_type": "stream",
     "text": [
      "Even\n"
     ]
    }
   ],
   "source": [
    "even_odd(120)"
   ]
  },
  {
   "cell_type": "code",
   "execution_count": 11,
   "id": "68ec1e94",
   "metadata": {},
   "outputs": [
    {
     "name": "stdout",
     "output_type": "stream",
     "text": [
      "Odd\n"
     ]
    }
   ],
   "source": [
    "even_odd(111)"
   ]
  },
  {
   "cell_type": "markdown",
   "id": "9e08edcb",
   "metadata": {},
   "source": [
    "### Third :"
   ]
  },
  {
   "cell_type": "code",
   "execution_count": 12,
   "id": "c83ebdd0",
   "metadata": {},
   "outputs": [
    {
     "name": "stdout",
     "output_type": "stream",
     "text": [
      "Enter year : 120\n",
      "120  is  : ------ Leap Year --------\n",
      "\n",
      "Enter year : 201\n",
      "201  is  : ----- Not Leap Year ------\n",
      "\n",
      "Enter year : 100\n",
      "100  is  : ----- Not Leap Year ------\n",
      "\n",
      "Enter year : 014\n",
      "14  is  : ----- Not Leap Year ------\n",
      "\n",
      "Enter year : 123\n",
      "123  is  : ----- Not Leap Year ------\n",
      "\n"
     ]
    }
   ],
   "source": [
    "for i in range(5):\n",
    "    year = int(input(\"Enter year : \"))\n",
    "    print(year,\" is \",end=\" : \")\n",
    "    is_leap(year)\n",
    "    print()"
   ]
  },
  {
   "cell_type": "markdown",
   "id": "50ad7d05",
   "metadata": {},
   "source": [
    "### Forth :"
   ]
  },
  {
   "cell_type": "code",
   "execution_count": 13,
   "id": "6f5e2068",
   "metadata": {},
   "outputs": [
    {
     "name": "stdout",
     "output_type": "stream",
     "text": [
      "23 is : True\n",
      "20 is : False\n",
      "16 is : False\n",
      "11 is : True\n"
     ]
    }
   ],
   "source": [
    "print(\"23 is :\", is_prime(23))\n",
    "print(\"20 is :\", is_prime(20))\n",
    "print(\"16 is :\", is_prime(16))\n",
    "print(\"11 is :\", is_prime(11))"
   ]
  },
  {
   "cell_type": "markdown",
   "id": "22055f85",
   "metadata": {},
   "source": [
    "### Fifth :"
   ]
  },
  {
   "cell_type": "code",
   "execution_count": 16,
   "id": "00552775",
   "metadata": {},
   "outputs": [
    {
     "name": "stdout",
     "output_type": "stream",
     "text": [
      "Enter First Number : 10\n",
      "Enter Last Number : 100\n",
      "11,13,17,19,23,29,31,37,41,43,47,53,59,61,67,71,73,79,83,89,97,"
     ]
    }
   ],
   "source": [
    "first = int(input(\"Enter First Number : \"))\n",
    "last = int(input(\"Enter Last Number : \"))\n",
    "btw_prime(first, last)"
   ]
  }
 ],
 "metadata": {
  "kernelspec": {
   "display_name": "Python 3 (ipykernel)",
   "language": "python",
   "name": "python3"
  },
  "language_info": {
   "codemirror_mode": {
    "name": "ipython",
    "version": 3
   },
   "file_extension": ".py",
   "mimetype": "text/x-python",
   "name": "python",
   "nbconvert_exporter": "python",
   "pygments_lexer": "ipython3",
   "version": "3.9.7"
  }
 },
 "nbformat": 4,
 "nbformat_minor": 5
}
