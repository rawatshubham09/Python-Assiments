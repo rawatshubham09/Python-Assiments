{
 "cells": [
  {
   "cell_type": "markdown",
   "id": "84c947d5",
   "metadata": {},
   "source": [
    "#  Assignment 13"
   ]
  },
  {
   "cell_type": "markdown",
   "id": "ecca4455",
   "metadata": {},
   "source": [
    "- Write a program that calculates and prints the value according to the given formula:\n",
    "        Q = Square root of [(2 * C * D)/H]\n",
    "        Following are the fixed values of C and H:\n",
    "        C is 50. H is 30.\n",
    "        D is the variable whose values should be input to your program in a comma-separated sequence."
   ]
  },
  {
   "cell_type": "code",
   "execution_count": 3,
   "id": "60a32315",
   "metadata": {},
   "outputs": [],
   "source": [
    "import math\n",
    "def solve(D):\n",
    "    C,H = 50,30\n",
    "    Q = int(math.sqrt((2 * C * D)/H))\n",
    "    return Q"
   ]
  },
  {
   "cell_type": "code",
   "execution_count": 4,
   "id": "5acee018",
   "metadata": {},
   "outputs": [
    {
     "name": "stdout",
     "output_type": "stream",
     "text": [
      "30  ->  10\n",
      "23  ->  8\n",
      "45  ->  12\n",
      "44  ->  12\n"
     ]
    }
   ],
   "source": [
    "test = [30,23,45,44]\n",
    "for i in test:\n",
    "    print(i,\" -> \", solve(i))"
   ]
  },
  {
   "cell_type": "markdown",
   "id": "fda95126",
   "metadata": {},
   "source": [
    "- Write a program which takes 2 digits, X,Y as input and generates a 2-dimensional array. The element value in the i-th row and j-th column of the array should be i*j."
   ]
  },
  {
   "cell_type": "code",
   "execution_count": 5,
   "id": "52818271",
   "metadata": {},
   "outputs": [],
   "source": [
    "def matrix(x,y):\n",
    "    lis = []\n",
    "    for i in range(x):\n",
    "        new = []\n",
    "        for j in range(y):\n",
    "            new.append(i*j)\n",
    "        lis.append(new)\n",
    "    return lis"
   ]
  },
  {
   "cell_type": "code",
   "execution_count": 6,
   "id": "190e3539",
   "metadata": {},
   "outputs": [
    {
     "data": {
      "text/plain": [
       "[[0, 0, 0, 0, 0], [0, 1, 2, 3, 4], [0, 2, 4, 6, 8]]"
      ]
     },
     "execution_count": 6,
     "metadata": {},
     "output_type": "execute_result"
    }
   ],
   "source": [
    "matrix(3,5)"
   ]
  },
  {
   "cell_type": "markdown",
   "id": "2801fb35",
   "metadata": {},
   "source": [
    "- Write a program that accepts a comma separated sequence of words as input and prints the words in a comma-separated sequence after sorting them alphabetically."
   ]
  },
  {
   "cell_type": "code",
   "execution_count": 7,
   "id": "af27e2fc",
   "metadata": {},
   "outputs": [],
   "source": [
    "def comma_sep(st):\n",
    "    lis = st.split()\n",
    "    return \",\".join(lis)"
   ]
  },
  {
   "cell_type": "code",
   "execution_count": 8,
   "id": "b7b60adf",
   "metadata": {},
   "outputs": [
    {
     "name": "stdout",
     "output_type": "stream",
     "text": [
      "without,hello,bag,world\n",
      "Then,,the,output,should,be\n",
      "Hello,new,World,you,cannot,seperate,me\n"
     ]
    }
   ],
   "source": [
    "test = [\"without hello bag world\",\"Then, the output should be\",\"Hello new World you cannot seperate me\"]\n",
    "for i in test:\n",
    "    print(comma_sep(i))"
   ]
  },
  {
   "cell_type": "markdown",
   "id": "d28e9a34",
   "metadata": {},
   "source": [
    "- Write a program that accepts a sequence of whitespace separated words as input and prints the words after removing all duplicate words and sorting them alphanumerically."
   ]
  },
  {
   "cell_type": "code",
   "execution_count": 23,
   "id": "7cf65b1f",
   "metadata": {},
   "outputs": [],
   "source": [
    "def dupli_remove(st):\n",
    "    lis = st.split()\n",
    "    new_lis = set(lis)\n",
    "    lis = list(new_lis)\n",
    "    lis.sort()\n",
    "    print(*lis)"
   ]
  },
  {
   "cell_type": "code",
   "execution_count": 24,
   "id": "6bbfb2f8",
   "metadata": {},
   "outputs": [
    {
     "name": "stdout",
     "output_type": "stream",
     "text": [
      "again and hello makes perfect practice world\n"
     ]
    }
   ],
   "source": [
    "st = \"hello world and practice makes perfect and hello world again\"\n",
    "dupli_remove(st)"
   ]
  },
  {
   "cell_type": "markdown",
   "id": "58e186eb",
   "metadata": {},
   "source": [
    "- Write a program that accepts a sentence and calculate the number of letters and digits."
   ]
  },
  {
   "cell_type": "code",
   "execution_count": 9,
   "id": "09b5afbc",
   "metadata": {},
   "outputs": [],
   "source": [
    "import re\n",
    "def alpha_num(st):\n",
    "    lis1 = re.findall(\"\\d\", st)\n",
    "    lis = re.findall(\"\\w\", st)\n",
    "    while \" \" in lis:\n",
    "        lis.remove(\" \")\n",
    "    a,b = len(lis),len(lis1)\n",
    "    print(\"LETTERS\", a-b)\n",
    "    print(\"DIGITS\", b)"
   ]
  },
  {
   "cell_type": "code",
   "execution_count": 36,
   "id": "3d022108",
   "metadata": {},
   "outputs": [
    {
     "name": "stdout",
     "output_type": "stream",
     "text": [
      "LETTERS 18\n",
      "DIGITS 6\n"
     ]
    }
   ],
   "source": [
    "alpha_num(\"hello world! 123 kon ho app 322\")"
   ]
  },
  {
   "cell_type": "markdown",
   "id": "a031c035",
   "metadata": {},
   "source": [
    "- A website requires the users to input username and password to register. Write a program to check the validity of password input by users.\n",
    "- Following are the criteria for checking the password:\n",
    "\n",
    "        1. At least 1 letter between [a-z]\n",
    "        2. At least 1 number between [0-9]\n",
    "        3. At least 1 letter between [A-Z]\n",
    "        4. At least 1 character from [@$!%*#?&]\n",
    "        5. Minimum length of transaction password: 6\n",
    "        6. Maximum length of transaction password: 12\n",
    "- Your program should accept a sequence of comma separated passwords and will check them according to the above criteria. Passwords that match the criteria are to be printed, each separated by a comma."
   ]
  },
  {
   "cell_type": "code",
   "execution_count": 21,
   "id": "4fd9f28e",
   "metadata": {},
   "outputs": [],
   "source": [
    "def check_password(st):\n",
    "    reg = \"^(?=.*[a-z])(?=.*[A-z])(?=.*\\d)(?=.*[@$!%*#?&])[a-zA-z\\d@$!%*#?&]{6,12}$\" # regex command for checking all condition\n",
    "    pattern = re.compile(reg)  # Creating a compilear of required pattern\n",
    "    val = re.search(pattern,st)\n",
    "    return True if val else False\n",
    "def is_password():\n",
    "    st = input(\"Enter String of Passwords : \") # Take string which is comma seperated\n",
    "    lis = st.split(\",\")  # split string\n",
    "    print()\n",
    "    for i in lis:\n",
    "        if check_password(i):\n",
    "            print(i)"
   ]
  },
  {
   "cell_type": "code",
   "execution_count": 22,
   "id": "94fc0a2a",
   "metadata": {},
   "outputs": [
    {
     "name": "stdout",
     "output_type": "stream",
     "text": [
      "Enter String of Passwords : Mistry123@,Popcorn3#,Get3!,whksdadsf3432$,alsfAS@,sdfaKJH665\n",
      "\n",
      "Mistry123@\n",
      "Popcorn3#\n"
     ]
    }
   ],
   "source": [
    "# taking random password:\n",
    "#t = \"Mistry123@,Popcorn3#,Get3!,whksdadsf3432$,alsfAS@,sdfaKJH665\"  ->  valid,valid,valid,invalid,invalid\n",
    "is_password()"
   ]
  }
 ],
 "metadata": {
  "kernelspec": {
   "display_name": "Python 3 (ipykernel)",
   "language": "python",
   "name": "python3"
  },
  "language_info": {
   "codemirror_mode": {
    "name": "ipython",
    "version": 3
   },
   "file_extension": ".py",
   "mimetype": "text/x-python",
   "name": "python",
   "nbconvert_exporter": "python",
   "pygments_lexer": "ipython3",
   "version": "3.9.7"
  }
 },
 "nbformat": 4,
 "nbformat_minor": 5
}
