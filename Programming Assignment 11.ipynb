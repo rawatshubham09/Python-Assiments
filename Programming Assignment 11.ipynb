{
 "cells": [
  {
   "cell_type": "markdown",
   "id": "8319a17c",
   "metadata": {},
   "source": [
    "# Assignment 11"
   ]
  },
  {
   "cell_type": "markdown",
   "id": "5cef467c",
   "metadata": {},
   "source": [
    "- Write a Python program to find words which are greater than given length k?"
   ]
  },
  {
   "cell_type": "code",
   "execution_count": 2,
   "id": "ef9fc5fc",
   "metadata": {},
   "outputs": [],
   "source": [
    "def find_word(arr, k):\n",
    "    for i in arr:\n",
    "        if len(i)>= k:\n",
    "            print(i)"
   ]
  },
  {
   "cell_type": "code",
   "execution_count": 3,
   "id": "04061481",
   "metadata": {},
   "outputs": [
    {
     "name": "stdout",
     "output_type": "stream",
     "text": [
      "Helicopter\n",
      "Umbrela\n",
      "Animals\n"
     ]
    }
   ],
   "source": [
    "find_word([\"apple\", \"Cats\", \"Helicopter\", \"Umbrela\", \"Animals\"],6)"
   ]
  },
  {
   "cell_type": "markdown",
   "id": "bcc22792",
   "metadata": {},
   "source": [
    "- Write a Python program for removing i-th character from a string?"
   ]
  },
  {
   "cell_type": "code",
   "execution_count": 8,
   "id": "6b7d3239",
   "metadata": {},
   "outputs": [],
   "source": [
    "# This  function will take two input 1. String and 2. place vale, then it will return new updated string\n",
    "def remove_ch(st, i):\n",
    "    return st[:i] + st[i+1:]"
   ]
  },
  {
   "cell_type": "code",
   "execution_count": 7,
   "id": "f1e0edef",
   "metadata": {},
   "outputs": [
    {
     "data": {
      "text/plain": [
       "\"Hello everyone, as we can see mistake in our santance at place '5' \""
      ]
     },
     "execution_count": 7,
     "metadata": {},
     "output_type": "execute_result"
    }
   ],
   "source": [
    "st = \"Hellow everyone, as we can see mistake in our santance at place '5' \"\n",
    "remove_ch(st, 5)"
   ]
  },
  {
   "cell_type": "markdown",
   "id": "cca94553",
   "metadata": {},
   "source": [
    "- Write a Python program to split and join a string?"
   ]
  },
  {
   "cell_type": "code",
   "execution_count": 10,
   "id": "3f5e1693",
   "metadata": {},
   "outputs": [],
   "source": [
    "# This Function will take one value :-\n",
    "# 1. String\n",
    "\n",
    "# This Function will return list of splited value\n",
    "\n",
    "\n",
    "def split_st(st):\n",
    "    new_list = st.split()\n",
    "    return new_list\n",
    "def join_st(arr):\n",
    "    return \" \".join(arr)"
   ]
  },
  {
   "cell_type": "code",
   "execution_count": 12,
   "id": "02cbb3d9",
   "metadata": {},
   "outputs": [
    {
     "name": "stdout",
     "output_type": "stream",
     "text": [
      "Splited string :  ['We', 'need', 'to', 'split', 'into', 'array']\n",
      " Joined String : We need to split into array\n"
     ]
    }
   ],
   "source": [
    "# Solution\n",
    "s = \"We need to split into array\"\n",
    "arr = split_st(s)\n",
    "print(\"Splited string : \", arr)\n",
    "\n",
    "print(\" Joined String :\", join_st(arr))"
   ]
  },
  {
   "cell_type": "markdown",
   "id": "4251bd1d",
   "metadata": {},
   "source": [
    "- Write a Python to check if a given string is binary string or not?"
   ]
  },
  {
   "cell_type": "code",
   "execution_count": 13,
   "id": "bf6cd0cc",
   "metadata": {},
   "outputs": [],
   "source": [
    "def is_binary(st):\n",
    "    return all(i in \"10\" for i in st)"
   ]
  },
  {
   "cell_type": "code",
   "execution_count": 16,
   "id": "14fa0d89",
   "metadata": {},
   "outputs": [
    {
     "name": "stdout",
     "output_type": "stream",
     "text": [
      "101010001111  :- is binary :-  True\n",
      "10010011  :- is binary :-  True\n",
      "1000d001  :- is binary :-  False\n",
      "100 100  :- is binary :-  False\n",
      "111111  :- is binary :-  True\n"
     ]
    }
   ],
   "source": [
    "test = [\"101010001111\", \"10010011\", \"1000d001\", \"100 100\", \"111111\"]\n",
    "for i in test:\n",
    "    print(i, \" :- is binary :- \", is_binary(i))"
   ]
  },
  {
   "cell_type": "markdown",
   "id": "c510a3ab",
   "metadata": {},
   "source": [
    "- Write a Python program to find uncommon words from two Strings?"
   ]
  },
  {
   "cell_type": "code",
   "execution_count": 19,
   "id": "3a1b5397",
   "metadata": {},
   "outputs": [],
   "source": [
    "# Take two string input and retrn\n",
    "def find_diff(st1, st2):\n",
    "    a = []\n",
    "    s1, s2 = st1.split(), st2.split()\n",
    "    for i in s2:\n",
    "        if i not in s1:\n",
    "            a.append(i)\n",
    "    return a"
   ]
  },
  {
   "cell_type": "code",
   "execution_count": 20,
   "id": "c1797fb4",
   "metadata": {},
   "outputs": [
    {
     "name": "stdout",
     "output_type": "stream",
     "text": [
      "['people', 'of', 'world']\n"
     ]
    }
   ],
   "source": [
    "st1 = \"Hello every one this is not awsome\"\n",
    "st2 = \"Hello every one people of world this is not awsome\"\n",
    "print(find_diff(st1,st2))"
   ]
  },
  {
   "cell_type": "markdown",
   "id": "4be29e70",
   "metadata": {},
   "source": [
    "- Write a Python to find all duplicate characters in string?"
   ]
  },
  {
   "cell_type": "code",
   "execution_count": 23,
   "id": "57f893f1",
   "metadata": {},
   "outputs": [],
   "source": [
    "from collections import Counter\n",
    "def find_duplicate(st):\n",
    "    new_lis = Counter(st.split())\n",
    "    for key,val in new_lis.items():\n",
    "        if val > 1:\n",
    "            print(key)"
   ]
  },
  {
   "cell_type": "code",
   "execution_count": 24,
   "id": "9cfc035f",
   "metadata": {},
   "outputs": [
    {
     "name": "stdout",
     "output_type": "stream",
     "text": [
      "work\n",
      "with\n"
     ]
    }
   ],
   "source": [
    "st = \"work with me that work with people\"\n",
    "find_duplicate(st)"
   ]
  },
  {
   "cell_type": "markdown",
   "id": "65f39266",
   "metadata": {},
   "source": [
    "- Write a Python Program to check if a string contains any special character?"
   ]
  },
  {
   "cell_type": "code",
   "execution_count": 25,
   "id": "9f3ae7fe",
   "metadata": {},
   "outputs": [],
   "source": [
    "import re\n",
    "def is_special_ch(st):\n",
    "    special = re.compile('[@_!#$%^&*()<>?/\\|}{~:]')\n",
    "    return True if special.search(st) != None else False"
   ]
  },
  {
   "cell_type": "code",
   "execution_count": 29,
   "id": "5cd2ca98",
   "metadata": {},
   "outputs": [
    {
     "name": "stdout",
     "output_type": "stream",
     "text": [
      "Is Given String contain special Characters :  True\n",
      "Is Given String contain special Characters :  True\n",
      "Is Given String contain special Characters :  True\n",
      "Is Given String contain special Characters :  False\n"
     ]
    }
   ],
   "source": [
    "st = [\"This String contain some special characters like this @ \",\n",
    "      \"This String contain some special characters like this #$ \",\n",
    "      \"This String contain some special characters like this _} \",\n",
    "      \"This String does not contain some special characters\"]\n",
    "for i in st:\n",
    "    print(\"Is Given String contain special Characters : \",is_special_ch(i))"
   ]
  }
 ],
 "metadata": {
  "kernelspec": {
   "display_name": "Python 3 (ipykernel)",
   "language": "python",
   "name": "python3"
  },
  "language_info": {
   "codemirror_mode": {
    "name": "ipython",
    "version": 3
   },
   "file_extension": ".py",
   "mimetype": "text/x-python",
   "name": "python",
   "nbconvert_exporter": "python",
   "pygments_lexer": "ipython3",
   "version": "3.9.7"
  }
 },
 "nbformat": 4,
 "nbformat_minor": 5
}
