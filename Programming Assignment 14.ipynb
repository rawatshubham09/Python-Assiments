{
 "cells": [
  {
   "cell_type": "markdown",
   "id": "dee89050",
   "metadata": {},
   "source": [
    "# Assignment 14"
   ]
  },
  {
   "cell_type": "markdown",
   "id": "08f29572",
   "metadata": {},
   "source": [
    "- Write a program to compute the frequency of the words from the input. The output should output after sorting the key alphanumerically. "
   ]
  },
  {
   "cell_type": "code",
   "execution_count": 2,
   "id": "f1d05784",
   "metadata": {},
   "outputs": [],
   "source": [
    "from collections import Counter\n",
    "def str_counter(st):\n",
    "    lis = st.split()\n",
    "    dic = Counter(lis)\n",
    "    for key, val in dic.items():\n",
    "        print(key, \" : \", val)"
   ]
  },
  {
   "cell_type": "code",
   "execution_count": 3,
   "id": "a2b8eaee",
   "metadata": {},
   "outputs": [
    {
     "name": "stdout",
     "output_type": "stream",
     "text": [
      "New  :  1\n",
      "to  :  1\n",
      "Python  :  5\n",
      "or  :  2\n",
      "choosing  :  1\n",
      "between  :  1\n",
      "2  :  2\n",
      "and  :  1\n",
      "3?  :  1\n",
      "Read  :  1\n",
      "3.  :  1\n"
     ]
    }
   ],
   "source": [
    "st = \"New to Python or choosing between Python 2 and Python 3? Read Python 2 or Python 3.\"\n",
    "str_counter(st)"
   ]
  },
  {
   "cell_type": "markdown",
   "id": "5eff3314",
   "metadata": {},
   "source": [
    "- Define a class Person and its two child classes: Male and Female. All classes have a method \"getGender\" which can print \"Male\" for Male class and \"Female\" for Female class."
   ]
  },
  {
   "cell_type": "code",
   "execution_count": 12,
   "id": "e5886681",
   "metadata": {},
   "outputs": [],
   "source": [
    "class Person():\n",
    "    def __init__(self):\n",
    "        self.gender = \"\"\n",
    "    def Male(self):\n",
    "        self.gender = \"Male\"\n",
    "    def Female(self):\n",
    "        self.gender = \"Female\"\n",
    "    def getGender(self):\n",
    "        print(self.gender)"
   ]
  },
  {
   "cell_type": "code",
   "execution_count": 13,
   "id": "2e801f44",
   "metadata": {},
   "outputs": [
    {
     "name": "stdout",
     "output_type": "stream",
     "text": [
      "Male\n"
     ]
    }
   ],
   "source": [
    "p1 = Person()\n",
    "p1.Male()\n",
    "p1.getGender()"
   ]
  },
  {
   "cell_type": "markdown",
   "id": "7b8d5a16",
   "metadata": {},
   "source": [
    "- Please write a program to generate all sentences where subject is in [\"I\", \"You\"] and verb is in [\"Play\", \"Love\"] and the object is in [\"Hockey\",\"Football\"]"
   ]
  },
  {
   "cell_type": "code",
   "execution_count": 6,
   "id": "a60faaf4",
   "metadata": {},
   "outputs": [],
   "source": [
    "def sentance_gen(sub, verb, obj):\n",
    "    for i in sub:\n",
    "        st = \" \"\n",
    "        for j in verb:\n",
    "            for k in obj:\n",
    "                st = i +\" \"+ j +\" \"+ k\n",
    "                print(st)"
   ]
  },
  {
   "cell_type": "code",
   "execution_count": 7,
   "id": "b9bee131",
   "metadata": {},
   "outputs": [
    {
     "name": "stdout",
     "output_type": "stream",
     "text": [
      "I Play Hockey\n",
      "I Play Football\n",
      "I Love Hockey\n",
      "I Love Football\n",
      "You Play Hockey\n",
      "You Play Football\n",
      "You Love Hockey\n",
      "You Love Football\n"
     ]
    }
   ],
   "source": [
    "sub, verb, obj = [\"I\", \"You\"], [\"Play\", \"Love\"], [\"Hockey\",\"Football\"]\n",
    "sentance_gen(sub, verb, obj)"
   ]
  },
  {
   "cell_type": "markdown",
   "id": "84b9dcf8",
   "metadata": {},
   "source": [
    "- Please write a program to compress and decompress the string \"hello world!hello world!hello world!hello world!\"."
   ]
  },
  {
   "cell_type": "code",
   "execution_count": 22,
   "id": "7bec0589",
   "metadata": {},
   "outputs": [],
   "source": [
    "import zlib\n",
    "\n",
    "# This Function will compress the string\n",
    "def compress(st):\n",
    "    n_st = zlib.compress(st)\n",
    "    return n_st\n",
    "# This Function will decompress the give compress string\n",
    "def decompress(st):\n",
    "    d_st = zlib.decompress(st)\n",
    "    return d_st"
   ]
  },
  {
   "cell_type": "code",
   "execution_count": 23,
   "id": "7ab7200c",
   "metadata": {},
   "outputs": [
    {
     "name": "stdout",
     "output_type": "stream",
     "text": [
      "Compressed String :  b'x\\x9c\\xcbH\\xcd\\xc9\\xc9W(\\xcf/\\xcaIQ\\xcc \\x82\\r\\x00\\xbd[\\x11\\xf5'\n",
      "Decompressed String :  b'hello world!hello world!hello world!hello world!'\n"
     ]
    }
   ],
   "source": [
    "st = b\"hello world!hello world!hello world!hello world!\"\n",
    "new_st = compress(st)\n",
    "print(\"Compressed String : \", new_st)\n",
    "\n",
    "print(\"Decompressed String : \", decompress(new_st))"
   ]
  },
  {
   "cell_type": "markdown",
   "id": "c1e72ae6",
   "metadata": {},
   "source": [
    "- Please write a binary search function which searches an item in a sorted list. The function should return the index of element to be searched in the list."
   ]
  },
  {
   "cell_type": "code",
   "execution_count": 24,
   "id": "71dc4f66",
   "metadata": {},
   "outputs": [],
   "source": [
    "def BST(arr, num):\n",
    "    low, mid = 0,0\n",
    "    high = len(arr)-1\n",
    "    while low <= high:\n",
    "        mid = (mid + high)//2\n",
    "        \n",
    "        if arr[mid]>num:\n",
    "            high = mid-1\n",
    "        elif arr[mid]<num:\n",
    "            low = mid+1\n",
    "        else:                    # if num does not fall in any one of following case this will return current place value\n",
    "            return mid\n",
    "    return -1"
   ]
  },
  {
   "cell_type": "code",
   "execution_count": 26,
   "id": "3680394f",
   "metadata": {},
   "outputs": [
    {
     "name": "stdout",
     "output_type": "stream",
     "text": [
      "Current value place in index :  4\n"
     ]
    }
   ],
   "source": [
    "arr = [1,2,3,4,5,6,7,8,9,10]\n",
    "print(\"Current value place in index : \", BST(arr,5))"
   ]
  }
 ],
 "metadata": {
  "kernelspec": {
   "display_name": "Python 3 (ipykernel)",
   "language": "python",
   "name": "python3"
  },
  "language_info": {
   "codemirror_mode": {
    "name": "ipython",
    "version": 3
   },
   "file_extension": ".py",
   "mimetype": "text/x-python",
   "name": "python",
   "nbconvert_exporter": "python",
   "pygments_lexer": "ipython3",
   "version": "3.9.7"
  }
 },
 "nbformat": 4,
 "nbformat_minor": 5
}
