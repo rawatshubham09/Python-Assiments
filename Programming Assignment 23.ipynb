{
 "cells": [
  {
   "cell_type": "markdown",
   "id": "313fdf16",
   "metadata": {},
   "source": [
    "# Assignment 23"
   ]
  },
  {
   "cell_type": "markdown",
   "id": "413f7df3",
   "metadata": {},
   "source": [
    "- Create a function that takes a number as an argument and returns True or False depending on whether the number is symmetrical or not. A number is symmetrical when it is the same as its reverse."
   ]
  },
  {
   "cell_type": "code",
   "execution_count": 1,
   "id": "ca29ee52",
   "metadata": {},
   "outputs": [],
   "source": [
    "def is_symmetrical(num):\n",
    "    st = str(num)[::-1]\n",
    "    return  st == str(num)"
   ]
  },
  {
   "cell_type": "code",
   "execution_count": 2,
   "id": "0a6f51bd",
   "metadata": {},
   "outputs": [
    {
     "name": "stdout",
     "output_type": "stream",
     "text": [
      "7227  :   True\n",
      "12567  :   False\n",
      "44444444  :   True\n",
      "9939  :   False\n",
      "1112111  :   True\n"
     ]
    }
   ],
   "source": [
    "print(\"7227  :  \", is_symmetrical(7227))\n",
    "\n",
    "print(\"12567  :  \",is_symmetrical(12567))\n",
    "\n",
    "print(\"44444444  :  \",is_symmetrical(44444444))\n",
    "\n",
    "print(\"9939  :  \",is_symmetrical(9939))\n",
    "\n",
    "print(\"1112111  :  \",is_symmetrical(1112111))"
   ]
  },
  {
   "cell_type": "markdown",
   "id": "ff4cc8be",
   "metadata": {},
   "source": [
    "- Given a string of numbers separated by a comma and space, return the product of the numbers."
   ]
  },
  {
   "cell_type": "code",
   "execution_count": 3,
   "id": "9fbe0455",
   "metadata": {},
   "outputs": [],
   "source": [
    "def multiply_nums(st):\n",
    "    pro = 1\n",
    "    a = st.split(\", \")\n",
    "    lis = list(map(int, a))\n",
    "    for i in lis:\n",
    "        pro *= i\n",
    "    return pro"
   ]
  },
  {
   "cell_type": "code",
   "execution_count": 5,
   "id": "d6b5669b",
   "metadata": {},
   "outputs": [
    {
     "name": "stdout",
     "output_type": "stream",
     "text": [
      "2, 3    :-----     6\n",
      "1, 2, 3, 4   :----     24\n",
      "54, 75, 453, 0   :-----    0\n",
      "10, -2    :-----    -20\n"
     ]
    }
   ],
   "source": [
    "print(\"2, 3    :-----    \",multiply_nums(\"2, 3\"))\n",
    "\n",
    "print(\"1, 2, 3, 4   :----    \",multiply_nums(\"1, 2, 3, 4\"))\n",
    "\n",
    "print(\"54, 75, 453, 0   :-----   \",multiply_nums(\"54, 75, 453, 0\"))\n",
    "\n",
    "print(\"10, -2    :-----   \",multiply_nums(\"10, -2\"))\n"
   ]
  },
  {
   "cell_type": "markdown",
   "id": "98f0c0e2",
   "metadata": {},
   "source": [
    "- Create a function that squares every digit of a number"
   ]
  },
  {
   "cell_type": "code",
   "execution_count": 3,
   "id": "2df06e4c",
   "metadata": {},
   "outputs": [],
   "source": [
    "def reverse(num):\n",
    "    rev = str(num)[::-1]\n",
    "    return int(rev)\n",
    "\n",
    "def square_digits(num):\n",
    "    rev_num = reverse(num)\n",
    "    str_num = \"\"\n",
    "    while rev_num:\n",
    "        a = rev_num%10\n",
    "        str_num += str(a**2)\n",
    "        rev_num = rev_num//10\n",
    "    return int(str_num)\n",
    "        "
   ]
  },
  {
   "cell_type": "code",
   "execution_count": 4,
   "id": "be3519ee",
   "metadata": {},
   "outputs": [
    {
     "name": "stdout",
     "output_type": "stream",
     "text": [
      "9119   :    811181\n",
      "2483   :     416649\n",
      "3212   :     9414\n"
     ]
    }
   ],
   "source": [
    "print(\"9119   :   \",square_digits(9119))\n",
    "\n",
    "print(\"2483   :    \",square_digits(2483))\n",
    "\n",
    "print(\"3212   :    \",square_digits(3212))"
   ]
  },
  {
   "cell_type": "markdown",
   "id": "ddae6f86",
   "metadata": {},
   "source": [
    "- Create a function that sorts a list and removes all duplicate items from it."
   ]
  },
  {
   "cell_type": "code",
   "execution_count": 10,
   "id": "b051ec44",
   "metadata": {},
   "outputs": [],
   "source": [
    "# This Function take list of number and return list of sorted non duplicate number\n",
    "def setify(lis):\n",
    "    new_lis = []\n",
    "    for i in lis:\n",
    "        if i not in new_lis:\n",
    "            new_lis.append(i)\n",
    "    new_lis.sort()\n",
    "    return new_lis"
   ]
  },
  {
   "cell_type": "code",
   "execution_count": 9,
   "id": "a21f68f4",
   "metadata": {},
   "outputs": [
    {
     "name": "stdout",
     "output_type": "stream",
     "text": [
      "[1, 3, 3, 5, 5]  -------->   [1, 3, 5]\n",
      "[4, 4, 4, 4] -------->   [4]\n",
      "[5, 7, 8, 9, 10, 15]  -------->   [5, 7, 8, 9, 10, 15]\n",
      "[3, 3, 3, 2, 1]  ------->   [1, 2, 3]\n"
     ]
    }
   ],
   "source": [
    "print(\"[1, 3, 3, 5, 5]  -------->  \",setify([1, 3, 3, 5, 5]))\n",
    "\n",
    "print(\"[4, 4, 4, 4] -------->  \",setify([4, 4, 4, 4]))\n",
    "\n",
    "print(\"[5, 7, 8, 9, 10, 15]  -------->  \",setify([5, 7, 8, 9, 10, 15]))\n",
    "\n",
    "print(\"[3, 3, 3, 2, 1]  ------->  \",setify([3, 3, 3, 2, 1]))"
   ]
  },
  {
   "cell_type": "markdown",
   "id": "48e1fbf0",
   "metadata": {},
   "source": [
    "- Create a function that returns the mean of all digits."
   ]
  },
  {
   "cell_type": "code",
   "execution_count": 11,
   "id": "567056c9",
   "metadata": {},
   "outputs": [],
   "source": [
    "def mean(num):\n",
    "    a,l = 0, len(str(num))\n",
    "    while num:\n",
    "        a += num%10\n",
    "        num = num//10\n",
    "    return int(a/l)"
   ]
  },
  {
   "cell_type": "code",
   "execution_count": 12,
   "id": "9afa9b4d",
   "metadata": {},
   "outputs": [
    {
     "name": "stdout",
     "output_type": "stream",
     "text": [
      "42  mean of all digit is : 3\n",
      "12345  mean of all digit is : 3\n",
      "666  mean of all digit is : 6\n"
     ]
    }
   ],
   "source": [
    "print(\"42  mean of all digit is :\",mean(42))\n",
    "\n",
    "print(\"12345  mean of all digit is :\",mean(12345))\n",
    "\n",
    "print(\"666  mean of all digit is :\",mean(666))"
   ]
  }
 ],
 "metadata": {
  "kernelspec": {
   "display_name": "Python 3 (ipykernel)",
   "language": "python",
   "name": "python3"
  },
  "language_info": {
   "codemirror_mode": {
    "name": "ipython",
    "version": 3
   },
   "file_extension": ".py",
   "mimetype": "text/x-python",
   "name": "python",
   "nbconvert_exporter": "python",
   "pygments_lexer": "ipython3",
   "version": "3.9.7"
  }
 },
 "nbformat": 4,
 "nbformat_minor": 5
}
