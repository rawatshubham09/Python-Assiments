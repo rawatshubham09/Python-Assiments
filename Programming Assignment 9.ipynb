{
 "cells": [
  {
   "cell_type": "markdown",
   "id": "41a12187",
   "metadata": {},
   "source": [
    "# Assignment 9"
   ]
  },
  {
   "cell_type": "markdown",
   "id": "261fb17a",
   "metadata": {},
   "source": [
    "- Write a Python Program to chick if the given number is a Disarium number?"
   ]
  },
  {
   "cell_type": "code",
   "execution_count": 14,
   "id": "c46c8191",
   "metadata": {},
   "outputs": [],
   "source": [
    "def is_disarium(num):\n",
    "    powe, summ,numm = len(str(num)), 0,num\n",
    "    while(numm):\n",
    "        a = numm%10\n",
    "        numm = numm//10\n",
    "        summ += a**powe\n",
    "        powe -= 1\n",
    "    return num == summ\n",
    "    "
   ]
  },
  {
   "cell_type": "markdown",
   "id": "5142a443",
   "metadata": {},
   "source": [
    "- Write a Python Program to print all disarium number between 1 to 100?"
   ]
  },
  {
   "cell_type": "code",
   "execution_count": 16,
   "id": "2432587e",
   "metadata": {},
   "outputs": [],
   "source": [
    "def find_disarium():\n",
    "    print(\"Disarium number between 1 to 100 are :- \")\n",
    "    for i in range(1,101):\n",
    "        if is_disarium(i):\n",
    "            print(i, end = \"  \")"
   ]
  },
  {
   "cell_type": "markdown",
   "id": "be11a671",
   "metadata": {},
   "source": [
    "- Write a Python Program to check if the given number is Happy Number?"
   ]
  },
  {
   "cell_type": "code",
   "execution_count": 21,
   "id": "4ec4dcb6",
   "metadata": {},
   "outputs": [],
   "source": [
    "def is_happy(n):\n",
    "    past = set()\n",
    "    while n != 1:\n",
    "        n = sum(int(i)**2 for i in str(n))\n",
    "        if n in past:\n",
    "            return False\n",
    "        past.add(n)\n",
    "    return True"
   ]
  },
  {
   "cell_type": "markdown",
   "id": "ea69f616",
   "metadata": {},
   "source": [
    "- Write a Python Program to Print all happy number between 1 to 100?"
   ]
  },
  {
   "cell_type": "code",
   "execution_count": 22,
   "id": "4f4d943f",
   "metadata": {},
   "outputs": [],
   "source": [
    "def btw_happy():\n",
    "    print(\"Happy number between 1 to 100 are :-\")\n",
    "    for i in range(1,101):\n",
    "        if is_happy(i):\n",
    "            print(i, end = \" \")"
   ]
  },
  {
   "cell_type": "markdown",
   "id": "1fef259c",
   "metadata": {},
   "source": [
    "- Write a Python Program to determine whether the number is a Harshad Number?"
   ]
  },
  {
   "cell_type": "code",
   "execution_count": 24,
   "id": "24bcccf5",
   "metadata": {},
   "outputs": [],
   "source": [
    "def is_harshad(num):\n",
    "    total = sum(int(i) for i in str(num))\n",
    "    return num%total == 0"
   ]
  },
  {
   "cell_type": "markdown",
   "id": "e4f76760",
   "metadata": {},
   "source": [
    "- Write a Python Program to print all pronic numbers between 1 to 100?"
   ]
  },
  {
   "cell_type": "code",
   "execution_count": 25,
   "id": "95491d49",
   "metadata": {},
   "outputs": [],
   "source": [
    "import math\n",
    "def is_pronic(num):\n",
    "    n = int(math.sqrt(num))\n",
    "    return n*(n+1)==num\n",
    "\n",
    "def btw_pronic():\n",
    "    print(\"Pronic number between 1 to 100 are :-\")\n",
    "    for i in range(1,101):\n",
    "        if is_pronic(i):\n",
    "            print(i, end = \" \")"
   ]
  },
  {
   "cell_type": "markdown",
   "id": "64651436",
   "metadata": {},
   "source": [
    "# Solution :"
   ]
  },
  {
   "cell_type": "markdown",
   "id": "3a503945",
   "metadata": {},
   "source": [
    "## 1:"
   ]
  },
  {
   "cell_type": "code",
   "execution_count": 35,
   "id": "9bad4175",
   "metadata": {},
   "outputs": [
    {
     "name": "stdout",
     "output_type": "stream",
     "text": [
      "28 is disarium number :-  False\n",
      "33 is disarium number :-  False\n",
      "8 is disarium number :-  True\n",
      "9 is disarium number :-  True\n",
      "89 is disarium number :-  True\n",
      "32 is disarium number :-  False\n",
      "33 is disarium number :-  False\n",
      "44 is disarium number :-  False\n",
      "61 is disarium number :-  False\n",
      "49 is disarium number :-  False\n"
     ]
    }
   ],
   "source": [
    "test = [28,33, 8, 9, 89, 32,33, 44,61, 49]\n",
    "for i in test:\n",
    "    print(i, \"is disarium number :- \",is_disarium(i))"
   ]
  },
  {
   "cell_type": "markdown",
   "id": "8b127909",
   "metadata": {},
   "source": [
    "## 2:"
   ]
  },
  {
   "cell_type": "code",
   "execution_count": 32,
   "id": "5756146a",
   "metadata": {},
   "outputs": [
    {
     "name": "stdout",
     "output_type": "stream",
     "text": [
      "Disarium number between 1 to 100 are :- \n",
      "1  2  3  4  5  6  7  8  9  89  "
     ]
    }
   ],
   "source": [
    "find_disarium()"
   ]
  },
  {
   "cell_type": "markdown",
   "id": "d9f11385",
   "metadata": {},
   "source": [
    "## 3:"
   ]
  },
  {
   "cell_type": "code",
   "execution_count": 31,
   "id": "8b5d2ab1",
   "metadata": {},
   "outputs": [
    {
     "name": "stdout",
     "output_type": "stream",
     "text": [
      "28 is happy number :-  True\n",
      "33 is happy number :-  False\n",
      "31 is happy number :-  True\n",
      "37 is happy number :-  False\n",
      "63 is happy number :-  False\n",
      "32 is happy number :-  True\n",
      "33 is happy number :-  False\n",
      "44 is happy number :-  True\n",
      "61 is happy number :-  False\n",
      "49 is happy number :-  True\n"
     ]
    }
   ],
   "source": [
    "test = [28,33, 31,37,63, 32,33, 44,61, 49]\n",
    "for i in test:\n",
    "    print(i, \"is happy number :- \",is_happy(i))"
   ]
  },
  {
   "cell_type": "markdown",
   "id": "32b63481",
   "metadata": {},
   "source": [
    "## 4:"
   ]
  },
  {
   "cell_type": "code",
   "execution_count": 29,
   "id": "0c3d858d",
   "metadata": {},
   "outputs": [
    {
     "name": "stdout",
     "output_type": "stream",
     "text": [
      "Happy number between 1 to 100 are :-\n",
      "1 7 10 13 19 23 28 31 32 44 49 68 70 79 82 86 91 94 97 100 "
     ]
    }
   ],
   "source": [
    "btw_happy()"
   ]
  },
  {
   "cell_type": "markdown",
   "id": "58a3eb99",
   "metadata": {},
   "source": [
    "## 5:"
   ]
  },
  {
   "cell_type": "code",
   "execution_count": 28,
   "id": "20ffe844",
   "metadata": {},
   "outputs": [
    {
     "name": "stdout",
     "output_type": "stream",
     "text": [
      "12 is harshad number :-  True\n",
      "23 is harshad number :-  False\n",
      "43 is harshad number :-  False\n",
      "24 is harshad number :-  True\n",
      "378 is harshad number :-  True\n",
      "234 is harshad number :-  True\n",
      "21 is harshad number :-  True\n",
      "234 is harshad number :-  True\n"
     ]
    }
   ],
   "source": [
    "test = [12,23,43,24,378,234,21,234,]\n",
    "for i in test:\n",
    "    print(i, \"is harshad number :- \",is_harshad(i))"
   ]
  },
  {
   "cell_type": "markdown",
   "id": "2893ecd3",
   "metadata": {},
   "source": [
    "## 6:"
   ]
  },
  {
   "cell_type": "code",
   "execution_count": 26,
   "id": "ba23dc15",
   "metadata": {},
   "outputs": [
    {
     "name": "stdout",
     "output_type": "stream",
     "text": [
      "Pronic number between 1 to 100 are :-\n",
      "2 6 12 20 30 42 56 72 90 "
     ]
    }
   ],
   "source": [
    "btw_pronic()  "
   ]
  }
 ],
 "metadata": {
  "kernelspec": {
   "display_name": "Python 3 (ipykernel)",
   "language": "python",
   "name": "python3"
  },
  "language_info": {
   "codemirror_mode": {
    "name": "ipython",
    "version": 3
   },
   "file_extension": ".py",
   "mimetype": "text/x-python",
   "name": "python",
   "nbconvert_exporter": "python",
   "pygments_lexer": "ipython3",
   "version": "3.9.7"
  }
 },
 "nbformat": 4,
 "nbformat_minor": 5
}
