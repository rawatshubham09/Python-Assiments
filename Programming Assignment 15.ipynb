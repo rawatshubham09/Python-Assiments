{
 "cells": [
  {
   "cell_type": "markdown",
   "id": "47115fa2",
   "metadata": {},
   "source": [
    "# Assignment 15"
   ]
  },
  {
   "cell_type": "markdown",
   "id": "52bf73a4",
   "metadata": {},
   "source": [
    "- Write a program using generator to print a number which can be divisible by 5 and 7 btw 0 to n in a comma seperated form?"
   ]
  },
  {
   "cell_type": "code",
   "execution_count": 2,
   "id": "3ee107de",
   "metadata": {},
   "outputs": [],
   "source": [
    "# This function is generator\n",
    "def gen(n):\n",
    "    for i in range(n):\n",
    "        if i%35 ==0:\n",
    "            yield i\n",
    "#This function will print required values            \n",
    "def req_div_fun(n):\n",
    "    a = gen(n)\n",
    "    for i in a:\n",
    "        print(i, end = \", \")\n",
    "    "
   ]
  },
  {
   "cell_type": "code",
   "execution_count": 3,
   "id": "edd364b3",
   "metadata": {},
   "outputs": [
    {
     "name": "stdout",
     "output_type": "stream",
     "text": [
      "0, 35, 70, 105, 140, 175, 210, 245, 280, 315, 350, 385, 420, 455, 490, 525, 560, 595, 630, 665, 700, 735, 770, 805, 840, 875, 910, 945, 980, "
     ]
    }
   ],
   "source": [
    "#We will print value form 0-1000 which are divide by both 5 and 7\n",
    "req_div_fun(1000)"
   ]
  },
  {
   "cell_type": "markdown",
   "id": "826abf1b",
   "metadata": {},
   "source": [
    "- Write a program using generator to print even number between 0 to n in a comma seperated form?"
   ]
  },
  {
   "cell_type": "code",
   "execution_count": 8,
   "id": "61f40c45",
   "metadata": {},
   "outputs": [],
   "source": [
    "# Generate even values btw 0 - n\n",
    "def even_gen(n):\n",
    "    for i in range(n+1):\n",
    "        if i%2 ==0:\n",
    "            yield i\n",
    "# print even no.\n",
    "def print_even(n):\n",
    "    a = even_gen(n)\n",
    "    for i in a:\n",
    "        print(i, end = \", \")"
   ]
  },
  {
   "cell_type": "code",
   "execution_count": 9,
   "id": "c4f1ceba",
   "metadata": {},
   "outputs": [
    {
     "name": "stdout",
     "output_type": "stream",
     "text": [
      "0, 2, 4, 6, 8, 10, "
     ]
    }
   ],
   "source": [
    "# Printing even n0. between 0 to n:\n",
    "print_even(10)"
   ]
  },
  {
   "cell_type": "markdown",
   "id": "cb925e34",
   "metadata": {},
   "source": [
    "- Write a Programm using List Comprehension to print Fibonacci Series in comma separated way?"
   ]
  },
  {
   "cell_type": "code",
   "execution_count": 12,
   "id": "46ef823d",
   "metadata": {},
   "outputs": [],
   "source": [
    "# Printing Fibonacci Series using List Comprehension Method:\n",
    "def fibo(n):\n",
    "    lis = [0,1]\n",
    "    [lis.append(lis[-2]+lis[-1]) for i in range(n)]\n",
    "    for i in lis:\n",
    "        print(i,end = \", \")"
   ]
  },
  {
   "cell_type": "code",
   "execution_count": 13,
   "id": "a55ede1d",
   "metadata": {},
   "outputs": [
    {
     "name": "stdout",
     "output_type": "stream",
     "text": [
      "0, 1, 1, 2, 3, 5, 8, 13, 21, 34, 55, 89, "
     ]
    }
   ],
   "source": [
    "fibo(10)"
   ]
  },
  {
   "cell_type": "markdown",
   "id": "dcbb29cd",
   "metadata": {},
   "source": [
    "- Assuming that we have some email addresses in the \"username@companyname.com\" format, please write program to print the user name of a given email address. Both user names and company names are composed of letters only."
   ]
  },
  {
   "cell_type": "code",
   "execution_count": 26,
   "id": "f46eb395",
   "metadata": {},
   "outputs": [],
   "source": [
    "import re\n",
    "\n",
    "def name_company(email):\n",
    "    # Creation of Compiler of required pattern\n",
    "    p1 = re.compile(\"(?<=@).*(?=.com)\")\n",
    "    p2 = re.compile(\".*(?=@)\")\n",
    "    # Creating list of suitable string\n",
    "    comp = re.findall(p1, email)\n",
    "    name = re.findall(p2, email)\n",
    "    print(\"Name : \", name[0], \"   |    Company :\", comp[0])"
   ]
  },
  {
   "cell_type": "code",
   "execution_count": 25,
   "id": "5f8cccac",
   "metadata": {},
   "outputs": [
    {
     "name": "stdout",
     "output_type": "stream",
     "text": [
      "Name :  john    |    Company : google\n"
     ]
    }
   ],
   "source": [
    "name_company(\"john@google.com\")"
   ]
  },
  {
   "cell_type": "markdown",
   "id": "38359d95",
   "metadata": {},
   "source": [
    "- Define a class named Shape and its subclass Square. The Square class has an init function which takes a length as argument. Both classes have a area function which can print the area of the shape where Shape's area is 0 by default."
   ]
  },
  {
   "cell_type": "code",
   "execution_count": 37,
   "id": "b8263617",
   "metadata": {},
   "outputs": [],
   "source": [
    "# Parent Class:\n",
    "class Shape:\n",
    "    def __init__(self):\n",
    "        pass\n",
    "    def area(self):\n",
    "        return 0\n",
    "# Sub Class:\n",
    "class Square(Shape):\n",
    "    def __init__(self, l = 0):\n",
    "        self.l = l\n",
    "    def area(self):\n",
    "        return self.l*self.l"
   ]
  },
  {
   "cell_type": "code",
   "execution_count": 36,
   "id": "127bc000",
   "metadata": {},
   "outputs": [
    {
     "name": "stdout",
     "output_type": "stream",
     "text": [
      "100\n"
     ]
    }
   ],
   "source": [
    "sq = Square(10)\n",
    "print(sq.area())"
   ]
  }
 ],
 "metadata": {
  "kernelspec": {
   "display_name": "Python 3 (ipykernel)",
   "language": "python",
   "name": "python3"
  },
  "language_info": {
   "codemirror_mode": {
    "name": "ipython",
    "version": 3
   },
   "file_extension": ".py",
   "mimetype": "text/x-python",
   "name": "python",
   "nbconvert_exporter": "python",
   "pygments_lexer": "ipython3",
   "version": "3.9.7"
  }
 },
 "nbformat": 4,
 "nbformat_minor": 5
}
