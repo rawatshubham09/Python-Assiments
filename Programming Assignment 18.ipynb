{
 "cells": [
  {
   "cell_type": "markdown",
   "id": "b2ca2619",
   "metadata": {},
   "source": [
    "# Assignment 18"
   ]
  },
  {
   "cell_type": "markdown",
   "id": "d3d96e98",
   "metadata": {},
   "source": [
    "- Create a function that takes a list of non-negative integers and strings and return a new list without the strings."
   ]
  },
  {
   "cell_type": "code",
   "execution_count": 2,
   "id": "ba426819",
   "metadata": {},
   "outputs": [],
   "source": [
    "def filter_list(lis):\n",
    "    a = []\n",
    "    for i in lis:\n",
    "        if isinstance(i, int) or isinstance(i, float) : # This will check if given data is \"int\" or \"float\"\n",
    "            a.append(i)\n",
    "    return a"
   ]
  },
  {
   "cell_type": "code",
   "execution_count": 3,
   "id": "2cc194a1",
   "metadata": {},
   "outputs": [
    {
     "name": "stdout",
     "output_type": "stream",
     "text": [
      "[1, 2, 'a', 'b']   -->   [1, 2]\n",
      "[1, 'a', 'b', 0, 15]   -->   [1, 0, 15]\n",
      "[1, 2, 'aasf', '1', '123', 123]   -->   [1, 2, 123]\n"
     ]
    }
   ],
   "source": [
    "test = [[1, 2, \"a\", \"b\"], [1, \"a\", \"b\", 0, 15], [1, 2, \"aasf\", \"1\", \"123\", 123]]\n",
    "for i in test:\n",
    "    print(i, \"  -->  \", filter_list(i))"
   ]
  },
  {
   "cell_type": "markdown",
   "id": "fe948999",
   "metadata": {},
   "source": [
    "- The \"Reverser\" takes a string as input and returns that string in reverse order, with the opposite case."
   ]
  },
  {
   "cell_type": "code",
   "execution_count": 5,
   "id": "18c1ac72",
   "metadata": {},
   "outputs": [],
   "source": [
    "def reverse(string):\n",
    "    st = \"\"\n",
    "    for i in string:\n",
    "        if i.isupper():\n",
    "            st += i.lower()\n",
    "        else:\n",
    "            st +=i.upper()\n",
    "    return st"
   ]
  },
  {
   "cell_type": "code",
   "execution_count": 6,
   "id": "deb25411",
   "metadata": {},
   "outputs": [
    {
     "name": "stdout",
     "output_type": "stream",
     "text": [
      "Hello World   :   hELLO wORLD\n",
      "ReVeRsE   :   rEvErSe\n",
      "Radar   :   rADAR\n",
      "ALberTS   :   alBERts\n"
     ]
    }
   ],
   "source": [
    "strings = [\"Hello World\",\"ReVeRsE\",\"Radar\", \"ALberTS\"]\n",
    "for st in strings:\n",
    "    print(st, \"  :  \",reverse(st))"
   ]
  },
  {
   "cell_type": "markdown",
   "id": "448b7b43",
   "metadata": {},
   "source": [
    "- Your task is to unpack the list writeyourcodehere into three variables, being first, middle, and last, with middle being everything in between the first and last element. Then print all three variables."
   ]
  },
  {
   "cell_type": "code",
   "execution_count": 19,
   "id": "04466af0",
   "metadata": {},
   "outputs": [],
   "source": [
    "# Task to print first last and middle values in list:\n",
    "def req_print(lst):\n",
    "    if len(lst) != 0 :\n",
    "        print(\"First :\", lst[0])\n",
    "        print(\"Middle :\", lst[1:-1])\n",
    "        print(\"Last :\", lst[-1])\n",
    "    else :\n",
    "        return -1"
   ]
  },
  {
   "cell_type": "code",
   "execution_count": 24,
   "id": "1126f4be",
   "metadata": {},
   "outputs": [
    {
     "name": "stdout",
     "output_type": "stream",
     "text": [
      " >>>>>>>>>>>>>  [2, 3, 4, 5, 5, 2, 2, 1]  <<<<<<<<<<<<<< \n",
      "First : 2\n",
      "Middle : [3, 4, 5, 5, 2, 2]\n",
      "Last : 1\n",
      "-*--*--*--*--*--*--*--*--*--*--*--*--*--*--*--*--*--*--*--*--*--*--*--*--*--*--*--*--*--*--*--*--*--*--*--*--*--*--*--*-\n",
      " >>>>>>>>>>>>>  [1, 2, 3, 4, 5, 6, 6, 7, 8]  <<<<<<<<<<<<<< \n",
      "First : 1\n",
      "Middle : [2, 3, 4, 5, 6, 6, 7]\n",
      "Last : 8\n",
      "-*--*--*--*--*--*--*--*--*--*--*--*--*--*--*--*--*--*--*--*--*--*--*--*--*--*--*--*--*--*--*--*--*--*--*--*--*--*--*--*-\n",
      " >>>>>>>>>>>>>  [1, 2, 3, 4]  <<<<<<<<<<<<<< \n",
      "First : 1\n",
      "Middle : [2, 3]\n",
      "Last : 4\n",
      "-*--*--*--*--*--*--*--*--*--*--*--*--*--*--*--*--*--*--*--*--*--*--*--*--*--*--*--*--*--*--*--*--*--*--*--*--*--*--*--*-\n",
      " >>>>>>>>>>>>>  [1]  <<<<<<<<<<<<<< \n",
      "First : 1\n",
      "Middle : []\n",
      "Last : 1\n",
      "-*--*--*--*--*--*--*--*--*--*--*--*--*--*--*--*--*--*--*--*--*--*--*--*--*--*--*--*--*--*--*--*--*--*--*--*--*--*--*--*-\n",
      " >>>>>>>>>>>>>  []  <<<<<<<<<<<<<< \n",
      "-*--*--*--*--*--*--*--*--*--*--*--*--*--*--*--*--*--*--*--*--*--*--*--*--*--*--*--*--*--*--*--*--*--*--*--*--*--*--*--*-\n"
     ]
    }
   ],
   "source": [
    "lstt = [[2,3,4,5,5,2,2,1], [1,2,3,4,5,6,6,7,8], [1,2,3,4],[1],[]]\n",
    "for i in lstt:\n",
    "    print(\" >>>>>>>>>>>>> \",i, \" <<<<<<<<<<<<<< \")\n",
    "    req_print(i)\n",
    "    print(\"-*-\"*40)"
   ]
  },
  {
   "cell_type": "markdown",
   "id": "86a49dd1",
   "metadata": {},
   "source": [
    "- Write a function that calculates the factorial of a number recursively."
   ]
  },
  {
   "cell_type": "code",
   "execution_count": 7,
   "id": "8169c276",
   "metadata": {},
   "outputs": [],
   "source": [
    "# Recurssive Factorial\n",
    "def fact(num):\n",
    "    if num in [0,1]:\n",
    "        return 1\n",
    "    return num*fact(num-1)"
   ]
  },
  {
   "cell_type": "code",
   "execution_count": 8,
   "id": "bb95d237",
   "metadata": {},
   "outputs": [
    {
     "name": "stdout",
     "output_type": "stream",
     "text": [
      "-  7  Factorial :  5040\n",
      "-  6  Factorial :  720\n",
      "-  5  Factorial :  120\n",
      "-  4  Factorial :  24\n",
      "-  3  Factorial :  6\n",
      "-  2  Factorial :  2\n",
      "-  1  Factorial :  1\n",
      "-  0  Factorial :  1\n"
     ]
    }
   ],
   "source": [
    "num = [7,6,5,4,3,2,1,0]\n",
    "for i in num:\n",
    "    print(\"- \",i, \" Factorial : \", fact(i))"
   ]
  },
  {
   "cell_type": "markdown",
   "id": "9e9b1f86",
   "metadata": {},
   "source": [
    "- Write a function that moves all elements of one type to the end of the list."
   ]
  },
  {
   "cell_type": "code",
   "execution_count": 9,
   "id": "466de738",
   "metadata": {},
   "outputs": [],
   "source": [
    "def move_to_end(lst, num):\n",
    "    if num in lst:\n",
    "        lst.remove(num)\n",
    "        lst.append(num)\n",
    "        return lst\n",
    "    else :\n",
    "        return -1"
   ]
  },
  {
   "cell_type": "code",
   "execution_count": 14,
   "id": "dc5f3a21",
   "metadata": {},
   "outputs": [
    {
     "name": "stdout",
     "output_type": "stream",
     "text": [
      "OLD :  [1, 3, 2, 4, 4, 1] , number :  1  ------->  NEW :  [3, 2, 4, 4, 1, 1]\n",
      "OLD :  [7, 8, 9, 1, 2, 3, 4] , number :  9  ------->  NEW :  [7, 8, 1, 2, 3, 4, 9]\n",
      "OLD :  ['a', 'a', 'a', 'b'] , number :  a  ------->  NEW :  ['a', 'a', 'b', 'a']\n"
     ]
    }
   ],
   "source": [
    "tst = [[[1, 3, 2, 4, 4, 1], 1], [[7, 8, 9, 1, 2, 3, 4], 9], [[\"a\", \"a\", \"a\", \"b\"], \"a\"]]\n",
    "for lst, num in tst:\n",
    "    print(\"OLD : \", lst ,\", number : \",num, end = \"\")\n",
    "    print(\"  ------->  NEW : \",move_to_end(lst, num))"
   ]
  }
 ],
 "metadata": {
  "kernelspec": {
   "display_name": "Python 3 (ipykernel)",
   "language": "python",
   "name": "python3"
  },
  "language_info": {
   "codemirror_mode": {
    "name": "ipython",
    "version": 3
   },
   "file_extension": ".py",
   "mimetype": "text/x-python",
   "name": "python",
   "nbconvert_exporter": "python",
   "pygments_lexer": "ipython3",
   "version": "3.9.7"
  }
 },
 "nbformat": 4,
 "nbformat_minor": 5
}
