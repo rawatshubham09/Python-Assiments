{
 "cells": [
  {
   "cell_type": "markdown",
   "id": "8a9e91a6",
   "metadata": {},
   "source": [
    "# Assignment 19"
   ]
  },
  {
   "cell_type": "markdown",
   "id": "0387681c",
   "metadata": {},
   "source": [
    "- Create a function that takes a string and returns a string in which each character is repeated once."
   ]
  },
  {
   "cell_type": "code",
   "execution_count": 1,
   "id": "a51f0840",
   "metadata": {},
   "outputs": [],
   "source": [
    "# This Function will return double string\n",
    "def double_char(st):\n",
    "    s = \"\"\n",
    "    for i in st:\n",
    "        a = i+i\n",
    "        s += a\n",
    "    return s"
   ]
  },
  {
   "cell_type": "code",
   "execution_count": 3,
   "id": "3f911f25",
   "metadata": {},
   "outputs": [
    {
     "name": "stdout",
     "output_type": "stream",
     "text": [
      "Hellow  -->  HHeellllooww\n",
      "String  -->  SSttrriinngg\n",
      "Print  -->  PPrriinntt\n",
      "Numbers  -->  NNuummbbeerrss\n"
     ]
    }
   ],
   "source": [
    "string = [\"Hellow\", \"String\", \"Print\", \"Numbers\"]\n",
    "for i in string:\n",
    "    print(i, \" --> \" ,double_char(i))"
   ]
  },
  {
   "cell_type": "markdown",
   "id": "bd20f04a",
   "metadata": {},
   "source": [
    "- Create a function that reverses a boolean value and returns the string \"boolean expected\" if another variable type is given."
   ]
  },
  {
   "cell_type": "code",
   "execution_count": 33,
   "id": "57e70ca0",
   "metadata": {},
   "outputs": [],
   "source": [
    "def reverse(b) :\n",
    "    if b in [True,False]:\n",
    "        if b:\n",
    "            print(False)\n",
    "        else:\n",
    "            print(True)\n",
    "    else:\n",
    "        print(\"boolean expected\")"
   ]
  },
  {
   "cell_type": "code",
   "execution_count": 35,
   "id": "79612503",
   "metadata": {},
   "outputs": [
    {
     "name": "stdout",
     "output_type": "stream",
     "text": [
      "False\n",
      "True\n",
      "False\n",
      "boolean expected\n",
      "boolean expected\n",
      "boolean expected\n",
      "boolean expected\n"
     ]
    }
   ],
   "source": [
    "test = [True, False, True, \"hello\",121, 10, \" \"]\n",
    "for i in test:\n",
    "    reverse(i)"
   ]
  },
  {
   "cell_type": "markdown",
   "id": "434d3343",
   "metadata": {},
   "source": [
    "- Create a function that returns the thickness (in meters) of a piece of paper after folding it n number of times. The paper starts off with a thickness of 0.5mm."
   ]
  },
  {
   "cell_type": "code",
   "execution_count": 18,
   "id": "d424cfec",
   "metadata": {},
   "outputs": [],
   "source": [
    "# This Function return Thickness of fold paper in meters:\n",
    "def num_layers(times):\n",
    "    thick = 0.0005\n",
    "    layer = 2**times\n",
    "    print(str(layer*thick)+\" m\")"
   ]
  },
  {
   "cell_type": "code",
   "execution_count": 19,
   "id": "ab00c47c",
   "metadata": {},
   "outputs": [
    {
     "name": "stdout",
     "output_type": "stream",
     "text": [
      "1  Fold = 0.001 m\n",
      "5  Fold = 0.016 m\n",
      "10  Fold = 0.512 m\n",
      "21  Fold = 1048.576 m\n",
      "35  Fold = 17179869.184 m\n"
     ]
    }
   ],
   "source": [
    "folds = [1,5,10,21,35]\n",
    "for i in folds:\n",
    "    print(i, \" Fold = \", end= \"\")\n",
    "    num_layers(i)"
   ]
  },
  {
   "cell_type": "markdown",
   "id": "219a52a9",
   "metadata": {},
   "source": [
    "- Create a function that takes a single string as argument and returns an ordered list containing the indices of all capital letters in the string."
   ]
  },
  {
   "cell_type": "code",
   "execution_count": 11,
   "id": "fe174857",
   "metadata": {},
   "outputs": [],
   "source": [
    "# This Function return index of all Capital letter of strings\n",
    "def index_of_caps(stri):\n",
    "    lst = []\n",
    "    for place, st in enumerate(stri):\n",
    "        if st.isupper():\n",
    "            lst.append(place)\n",
    "    return lst"
   ]
  },
  {
   "cell_type": "code",
   "execution_count": 10,
   "id": "2415d903",
   "metadata": {},
   "outputs": [
    {
     "name": "stdout",
     "output_type": "stream",
     "text": [
      "eDaBiT  : indexs :-  [1, 3, 5]\n",
      "eQuINoX  : indexs :-  [1, 3, 4, 6]\n",
      "determine  : indexs :-  []\n",
      "STRIKE  : indexs :-  [0, 1, 2, 3, 4, 5]\n",
      "sUn  : indexs :-  [1]\n"
     ]
    }
   ],
   "source": [
    "strings = [\"eDaBiT\", \"eQuINoX\", \"determine\", \"STRIKE\", \"sUn\"]\n",
    "for st in strings:\n",
    "    lst = index_of_caps(st)\n",
    "    print(st, \" : indexs :- \", lst)"
   ]
  },
  {
   "cell_type": "markdown",
   "id": "d27eb5f4",
   "metadata": {},
   "source": [
    "- Using list comprehensions, create a function that finds all even numbers from 1 to the given number."
   ]
  },
  {
   "cell_type": "code",
   "execution_count": 4,
   "id": "b41b7da3",
   "metadata": {},
   "outputs": [],
   "source": [
    "def find_even_nums(num): return [i for i in range(1,num+1) if i%2==0 ]"
   ]
  },
  {
   "cell_type": "code",
   "execution_count": 6,
   "id": "08a02abf",
   "metadata": {},
   "outputs": [
    {
     "name": "stdout",
     "output_type": "stream",
     "text": [
      "10  --->  2 4 6 8 10\n",
      "15  --->  2 4 6 8 10 12 14\n",
      "16  --->  2 4 6 8 10 12 14 16\n",
      "20  --->  2 4 6 8 10 12 14 16 18 20\n"
     ]
    }
   ],
   "source": [
    "num = [10,15,16,20]\n",
    "for i in num:\n",
    "    print(i, \" ---> \", *find_even_nums(i))"
   ]
  }
 ],
 "metadata": {
  "kernelspec": {
   "display_name": "Python 3 (ipykernel)",
   "language": "python",
   "name": "python3"
  },
  "language_info": {
   "codemirror_mode": {
    "name": "ipython",
    "version": 3
   },
   "file_extension": ".py",
   "mimetype": "text/x-python",
   "name": "python",
   "nbconvert_exporter": "python",
   "pygments_lexer": "ipython3",
   "version": "3.9.7"
  }
 },
 "nbformat": 4,
 "nbformat_minor": 5
}
